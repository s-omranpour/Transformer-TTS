{
 "cells": [
  {
   "cell_type": "code",
   "execution_count": 1,
   "id": "b2f823ad",
   "metadata": {},
   "outputs": [
    {
     "name": "stderr",
     "output_type": "stream",
     "text": [
      "/home/soroosh/projects/general_env/lib/python3.8/site-packages/pytorch_lightning/metrics/__init__.py:43: LightningDeprecationWarning: `pytorch_lightning.metrics.*` module has been renamed to `torchmetrics.*` and split off to its own package (https://github.com/PyTorchLightning/metrics) since v1.3 and will be removed in v1.5\n",
      "  rank_zero_deprecation(\n",
      "Global seed set to 42\n"
     ]
    },
    {
     "data": {
      "text/plain": [
       "42"
      ]
     },
     "execution_count": 1,
     "metadata": {},
     "output_type": "execute_result"
    }
   ],
   "source": [
    "import numpy as np\n",
    "import torch\n",
    "from torch import nn\n",
    "import os\n",
    "import matplotlib.pyplot as plt\n",
    "from tqdm.notebook import tqdm\n",
    "import pickle\n",
    "import librosa\n",
    "from IPython.display import Audio\n",
    "from importlib import reload\n",
    "\n",
    "from pytorch_lightning import Trainer, seed_everything\n",
    "from pytorch_lightning.loggers import TensorBoardLogger\n",
    "from pytorch_lightning.callbacks import ModelCheckpoint, LearningRateMonitor\n",
    "\n",
    "seed_everything(42)"
   ]
  },
  {
   "cell_type": "markdown",
   "id": "c2b15380",
   "metadata": {},
   "source": [
    "## data"
   ]
  },
  {
   "cell_type": "code",
   "execution_count": 2,
   "id": "ff67f16f",
   "metadata": {},
   "outputs": [
    {
     "data": {
      "text/plain": [
       "33"
      ]
     },
     "execution_count": 2,
     "metadata": {},
     "output_type": "execute_result"
    }
   ],
   "source": [
    "alphabet = list(pickle.load(open('data/alphabet.pkl', 'rb')))\n",
    "len(alphabet)"
   ]
  },
  {
   "cell_type": "code",
   "execution_count": 3,
   "id": "53443a49",
   "metadata": {},
   "outputs": [],
   "source": [
    "import src.audio\n",
    "reload(src.audio)\n",
    "import src\n",
    "reload(src)\n",
    "from src import TextProcessor, AudioProcessor\n",
    "\n",
    "text_processor = TextProcessor(alphabet)\n",
    "audio_processor = AudioProcessor(\n",
    "    sr=22050, ref_level_db=20, n_fft=2048, n_mels=80, hop_length=1024, window='hann'\n",
    ")"
   ]
  },
  {
   "cell_type": "code",
   "execution_count": 4,
   "id": "849910e6",
   "metadata": {},
   "outputs": [
    {
     "name": "stdout",
     "output_type": "stream",
     "text": [
      "Training data has 4907 samples with a total of 19.0 hours audio.\n",
      "Validation data has 1231 samples with a total of 5.0 hours audio.\n"
     ]
    }
   ],
   "source": [
    "import src.data\n",
    "reload(src.data)\n",
    "import src\n",
    "reload(src)\n",
    "from src import TTSDataset, get_dataloader\n",
    "\n",
    "\n",
    "# mel_path = '/media/data/soroosh/dataset/tts/persian-tts/mels/'\n",
    "\n",
    "train_ds = TTSDataset(\n",
    "    'data/persian-tts-train.json', \n",
    "#     'data/train.json',\n",
    "    audio_processor, text_processor, \n",
    "    div_steps=1, \n",
    "    use_phonemes=False, \n",
    "    precompute_mels=False, \n",
    "#     mel_path=mel_path, \n",
    ")\n",
    "val_ds = TTSDataset(\n",
    "    'data/persian-tts-test.json', \n",
    "#     'data/val.json',\n",
    "    audio_processor, text_processor, \n",
    "    div_steps=1, \n",
    "    use_phonemes=False, \n",
    "    precompute_mels=False, \n",
    "#     mel_path=mel_path, \n",
    ")\n",
    "print(f'Training data has {len(train_ds)} samples with a total of {train_ds.meta.duration.sum() // 3600} hours audio.')\n",
    "print(f'Validation data has {len(val_ds)} samples with a total of {val_ds.meta.duration.sum() // 3600} hours audio.')"
   ]
  },
  {
   "cell_type": "code",
   "execution_count": 5,
   "id": "623ac0ce",
   "metadata": {},
   "outputs": [],
   "source": [
    "tl = get_dataloader(train_ds, batch_size=6, n_jobs=6)\n",
    "vl = get_dataloader(val_ds, batch_size=6, n_jobs=6)"
   ]
  },
  {
   "cell_type": "code",
   "execution_count": 6,
   "id": "1452555a",
   "metadata": {},
   "outputs": [
    {
     "name": "stdout",
     "output_type": "stream",
     "text": [
      "torch.Size([6, 409]) torch.int64\n",
      "torch.Size([6]) torch.int64\n",
      "torch.Size([6, 1041, 80]) torch.float32\n",
      "torch.Size([6]) torch.int64\n"
     ]
    }
   ],
   "source": [
    "b = next(iter(vl))\n",
    "for a in b:\n",
    "    print(a.shape, a.dtype)"
   ]
  },
  {
   "cell_type": "markdown",
   "id": "05de7a10",
   "metadata": {},
   "source": [
    "## model"
   ]
  },
  {
   "cell_type": "code",
   "execution_count": 7,
   "id": "01cc168b",
   "metadata": {},
   "outputs": [
    {
     "data": {
      "text/plain": [
       "{'encoder': {'n_vocab': 36,\n",
       "  'd_emb': 256,\n",
       "  'd_hidden': 256,\n",
       "  'n_head': 8,\n",
       "  'd_inner': 512,\n",
       "  'n_encoder_layers': 4,\n",
       "  'n_prenet_layers': 3,\n",
       "  'kernel': 5,\n",
       "  'dropout': 0.2},\n",
       " 'decoder': {'n_mel': 80,\n",
       "  'd_hidden': 256,\n",
       "  'n_head': 8,\n",
       "  'd_inner': 512,\n",
       "  'outputs_per_step': 1,\n",
       "  'n_decoder_layers': 4,\n",
       "  'n_postnet_layers': 5,\n",
       "  'kernel': 5,\n",
       "  'dropout': 0.2},\n",
       " 'lr': 0.0001,\n",
       " 'max_epochs': 50}"
      ]
     },
     "execution_count": 7,
     "metadata": {},
     "output_type": "execute_result"
    }
   ],
   "source": [
    "config = {\n",
    "    'encoder': {\n",
    "        'n_vocab' : text_processor.n_vocab,\n",
    "        'd_emb' : 256, \n",
    "        'd_hidden' : 256, \n",
    "        'n_head' : 8, \n",
    "        'd_inner' : 512, \n",
    "        'n_encoder_layers' : 4, \n",
    "        'n_prenet_layers' : 3, \n",
    "        'kernel' : 5, \n",
    "        'dropout' : 0.2\n",
    "    },\n",
    "    'decoder': {\n",
    "        'n_mel' : 80, \n",
    "        'd_hidden' : 256, \n",
    "        'n_head' : 8, \n",
    "        'd_inner' : 512, \n",
    "        'outputs_per_step' : 1,\n",
    "        'n_decoder_layers' : 4, \n",
    "        'n_postnet_layers' : 5, \n",
    "        'kernel' : 5, \n",
    "        'dropout' : 0.2\n",
    "    },\n",
    "    'lr' : 1e-4,\n",
    "    'max_epochs' : 50\n",
    "}\n",
    "\n",
    "config"
   ]
  },
  {
   "cell_type": "code",
   "execution_count": 10,
   "id": "3efb46cd",
   "metadata": {},
   "outputs": [
    {
     "data": {
      "text/plain": [
       "7782564"
      ]
     },
     "execution_count": 10,
     "metadata": {},
     "output_type": "execute_result"
    }
   ],
   "source": [
    "import src.modules\n",
    "reload(src.modules)\n",
    "import src.model\n",
    "reload(src.model)\n",
    "import src\n",
    "reload(src)\n",
    "from src import TransformerTTS\n",
    "\n",
    "model = TransformerTTS(config, audio_processor, text_processor)\n",
    "model.count_parameters()"
   ]
  },
  {
   "cell_type": "code",
   "execution_count": 11,
   "id": "0ba14de6",
   "metadata": {},
   "outputs": [
    {
     "data": {
      "text/plain": [
       "tensor(1.1618, grad_fn=<AddBackward0>)"
      ]
     },
     "execution_count": 11,
     "metadata": {},
     "output_type": "execute_result"
    }
   ],
   "source": [
    "model.step(b, 0)"
   ]
  },
  {
   "cell_type": "code",
   "execution_count": 10,
   "id": "007decb3",
   "metadata": {},
   "outputs": [],
   "source": [
    "# fig = model.make_attn_figure(attn[0])\n",
    "# fig = model.make_spec_figure(linear_outputs[0])"
   ]
  },
  {
   "cell_type": "markdown",
   "id": "daae0b14",
   "metadata": {},
   "source": [
    "## trainer"
   ]
  },
  {
   "cell_type": "code",
   "execution_count": 14,
   "id": "7e8f297f",
   "metadata": {},
   "outputs": [
    {
     "name": "stderr",
     "output_type": "stream",
     "text": [
      "GPU available: True, used: True\n",
      "TPU available: False, using: 0 TPU cores\n"
     ]
    }
   ],
   "source": [
    "logger = TensorBoardLogger(save_dir='logs/', name='persian-tts-l1')\n",
    "lr_logger = LearningRateMonitor(logging_interval='step')\n",
    "checkpoint = ModelCheckpoint(\n",
    "    dirpath='weights/persian-tts/', \n",
    "    filename='{epoch}-{val_loss:.2f}', \n",
    "    monitor='train_loss',\n",
    "    save_top_k=5, \n",
    "    period=1\n",
    ")\n",
    "\n",
    "trainer = Trainer(\n",
    "    benchmark=True, \n",
    "    gpus=1, \n",
    "    accumulate_grad_batches=8,\n",
    "    logger=logger, \n",
    "    max_epochs=50,\n",
    "    callbacks=[checkpoint, lr_logger]\n",
    ")"
   ]
  },
  {
   "cell_type": "code",
   "execution_count": null,
   "id": "7cd9ef0e",
   "metadata": {},
   "outputs": [
    {
     "name": "stderr",
     "output_type": "stream",
     "text": [
      "LOCAL_RANK: 0 - CUDA_VISIBLE_DEVICES: [0]\n",
      "\n",
      "  | Name    | Type             | Params\n",
      "---------------------------------------------\n",
      "0 | l1      | L1Loss           | 0     \n",
      "1 | ce      | CrossEntropyLoss | 0     \n",
      "2 | encoder | Encoder          | 3.2 M \n",
      "3 | decoder | Decoder          | 4.6 M \n",
      "---------------------------------------------\n",
      "7.8 M     Trainable params\n",
      "0         Non-trainable params\n",
      "7.8 M     Total params\n",
      "31.130    Total estimated model params size (MB)\n"
     ]
    },
    {
     "data": {
      "application/vnd.jupyter.widget-view+json": {
       "model_id": "",
       "version_major": 2,
       "version_minor": 0
      },
      "text/plain": [
       "Validation sanity check: 0it [00:00, ?it/s]"
      ]
     },
     "metadata": {},
     "output_type": "display_data"
    },
    {
     "name": "stderr",
     "output_type": "stream",
     "text": [
      "Global seed set to 42\n"
     ]
    },
    {
     "data": {
      "application/vnd.jupyter.widget-view+json": {
       "model_id": "737ed8609cc742128866fb3a9f16e446",
       "version_major": 2,
       "version_minor": 0
      },
      "text/plain": [
       "Training: 0it [00:00, ?it/s]"
      ]
     },
     "metadata": {},
     "output_type": "display_data"
    },
    {
     "data": {
      "application/vnd.jupyter.widget-view+json": {
       "model_id": "",
       "version_major": 2,
       "version_minor": 0
      },
      "text/plain": [
       "Validating: 0it [00:00, ?it/s]"
      ]
     },
     "metadata": {},
     "output_type": "display_data"
    },
    {
     "data": {
      "application/vnd.jupyter.widget-view+json": {
       "model_id": "",
       "version_major": 2,
       "version_minor": 0
      },
      "text/plain": [
       "Validating: 0it [00:00, ?it/s]"
      ]
     },
     "metadata": {},
     "output_type": "display_data"
    },
    {
     "data": {
      "application/vnd.jupyter.widget-view+json": {
       "model_id": "",
       "version_major": 2,
       "version_minor": 0
      },
      "text/plain": [
       "Validating: 0it [00:00, ?it/s]"
      ]
     },
     "metadata": {},
     "output_type": "display_data"
    },
    {
     "data": {
      "application/vnd.jupyter.widget-view+json": {
       "model_id": "",
       "version_major": 2,
       "version_minor": 0
      },
      "text/plain": [
       "Validating: 0it [00:00, ?it/s]"
      ]
     },
     "metadata": {},
     "output_type": "display_data"
    },
    {
     "data": {
      "application/vnd.jupyter.widget-view+json": {
       "model_id": "",
       "version_major": 2,
       "version_minor": 0
      },
      "text/plain": [
       "Validating: 0it [00:00, ?it/s]"
      ]
     },
     "metadata": {},
     "output_type": "display_data"
    },
    {
     "data": {
      "application/vnd.jupyter.widget-view+json": {
       "model_id": "",
       "version_major": 2,
       "version_minor": 0
      },
      "text/plain": [
       "Validating: 0it [00:00, ?it/s]"
      ]
     },
     "metadata": {},
     "output_type": "display_data"
    }
   ],
   "source": [
    "trainer.fit(model, tl, vl)"
   ]
  },
  {
   "cell_type": "code",
   "execution_count": 14,
   "id": "6fa37007",
   "metadata": {},
   "outputs": [],
   "source": [
    "trainer.save_checkpoint('weights/persian-tts/last.ckpt')"
   ]
  },
  {
   "cell_type": "markdown",
   "id": "78e0ce29",
   "metadata": {},
   "source": [
    "## synthesis"
   ]
  },
  {
   "cell_type": "code",
   "execution_count": 15,
   "id": "f95a085c",
   "metadata": {},
   "outputs": [],
   "source": [
    "# import src.model\n",
    "# reload(src.model)\n",
    "# import src\n",
    "# reload(src)\n",
    "# from src import TransformerTTS\n",
    "\n",
    "gen_model = TransformerTTS.load_from_checkpoint('weights/persian-tts/last.ckpt', config=config, audio_processor=audio_processor, text_processor=text_processor)"
   ]
  },
  {
   "cell_type": "code",
   "execution_count": 26,
   "id": "cfd2b45f",
   "metadata": {},
   "outputs": [
    {
     "data": {
      "application/vnd.jupyter.widget-view+json": {
       "model_id": "5405ebf531c64b488753d3d56e2a6973",
       "version_major": 2,
       "version_minor": 0
      },
      "text/plain": [
       "  0%|          | 0/30 [00:00<?, ?it/s]"
      ]
     },
     "metadata": {},
     "output_type": "display_data"
    },
    {
     "data": {
      "text/plain": [
       "(torch.Size([31, 80]), torch.Size([1, 30, 80]))"
      ]
     },
     "execution_count": 26,
     "metadata": {},
     "output_type": "execute_result"
    }
   ],
   "source": [
    "text = 'خدایا'\n",
    "mel, post = gen_model.synthesize(text, max_len=30)\n",
    "mel.shape, post.shape"
   ]
  },
  {
   "cell_type": "code",
   "execution_count": 27,
   "id": "2c3a1530",
   "metadata": {},
   "outputs": [
    {
     "data": {
      "text/plain": [
       "<matplotlib.image.AxesImage at 0x7fecb3f6b7f0>"
      ]
     },
     "execution_count": 27,
     "metadata": {},
     "output_type": "execute_result"
    },
    {
     "data": {
      "image/png": "[encoded data removed]",
      "text/plain": [
       "<Figure size 432x288 with 1 Axes>"
      ]
     },
     "metadata": {
      "needs_background": "light"
     },
     "output_type": "display_data"
    }
   ],
   "source": [
    "plt.imshow(mel.T, origin='lower')"
   ]
  },
  {
   "cell_type": "code",
   "execution_count": 22,
   "id": "a7e3e697",
   "metadata": {},
   "outputs": [],
   "source": [
    "y = audio_processor.mel_to_audio(mel.detach().cpu().numpy().T)"
   ]
  },
  {
   "cell_type": "code",
   "execution_count": 23,
   "id": "62cb6f5a",
   "metadata": {},
   "outputs": [
    {
     "name": "stdout",
     "output_type": "stream",
     "text": [
      "(30720,)\n"
     ]
    },
    {
     "data": {
      "text/html": [
       "\n",
       "                <audio  controls=\"controls\" >\n",
       "                    <source src=\"data:audio/wav;base64,UklGRiTwAABXQVZFZm10IBAAAAABAAEAIlYAAESsAAACABAAZGF0YQDwAAC+/h8Bw/8nADQARgAH/1YAP/+YAGH/pf9TAbv/HADj/sP/ff5D/j7+EgFo/7j+HACq/w//TP/q/yUBLgCLAF4ALwBf//P/9QEp//3/JgBt/zgB7/9a/y8BowCLAMMB3wCq/+X/m/9tAUkABQDLAKwBxv9nAHQAwgAU/k8APv+8/vsA0v8FALwA3P8lADD/GQEAALMAWACq/3cAV//CAXT/AwDT/5z/KwCoAPX/y/8QAXgBp/8IAGcAVwGF/5oAPf/z//sB2/+n/8T/dgG2AaX/twDU/5j+8v+jATgBrP/hANYBwAERAOr/jgC2/wcADACdACoA3/58/wQANwBSAIcBXAAh/9D/Lv/4/or/mf9a/3P/FgCp/kQBsACM/8f+AACf/+7+/P/g/94Arf5gACEBOAE1ADIB0f6eAQkATv01ACYAuwFb/0f/kf/rALb+o/40AvD/gf5c/wr/9/4+AML/QQADAZMAR/9z/5wBFwFe/4D/zAAnAlYBNQCe/8IA8gA9AUL/mv8z/yf/uAGz/4f/9f/H/t//5/4E/0MBSAA/AFYA6P4fAcIB3gG4AIIAMf7IAC/+S/8yANT+cQAEAJH/rv93/z//bAFv/Vr+Iv8MAPj/JwGU/y3/nf82//v+9AHl/07+yQGZAJ7/EQDX/yMA9f9I/uwBLP72/6P9of8IAD8A6wDz/rIAz/7i/6MAx/+w/53/IwGi//z/CP8ZALr+0QDWANEA4P///qkBtf6j/xcAjgEw//n/DQETABQAiAC4ABcAsP8vAMT/Ff09Ac/+GwCS/7QAwv87/1f/Pv/MAVsAYgBV/5b/bP5LASX/BQBh/0EBvP8AAIf+IgF6AN0AUv6//5H/7/9RAB0BXwLnAOn/u/7E/x4A6f5x/04A6f1d/68ACQDW/+n/kf5zARH/yQCc/gf+pf6W/7sAbf/tAOT/r/+v/3T/6QDj/wUBGgBg/84AegDk/a//Hf8N/5b/w/8l//MAYAOCANH/2ABWADwAPgFNAPb+/ACbAJT+nAA+AH3/PP9q/+f/kAJY/w3/YwCDAQMBJgA5/3j98QAeAZ4BQQBu/9r/6f4UAC0AYP/Z/5n/iP8/ABH+Qf9+AR4A3gFWAYj/MAH6ANYAgP1w/TX/p/7MAJgATABl/Yv+5f9iANsAgAHgAY7/3AAF/87/1/+E/9D/qf/DAc3/IACyAcP/0AFLAOT89wF/AOX/LgCa/woApP8YAAIAlf42AMsCPv/R/3cA6QB+Anv/1P74/hr/mP+Q/qD++f+Y/8X/Wf5tACQAKwFB/3/+3wDbAV8AygCk/p//E/9MAEr+mQAWAsYBiwFJAGX+5ADR/wX+KQEhAlsCHgDXAO4BxfxgAIL+xP41ADj/zf+2/94B+v/gAD79EAGBAT0Blv/3/9/++//P/5AA7fySAZn+iv+aAfMBxP+a/r8A/f0W/40A9gBZANwB+AD+/y7+tf9//0T+ZQGO/2cBOQCv/0kAwv7yAIH/Nv+5Aff/+P63/93/SgDmAGoBAAHwAKQBzv3NAYL+JAERAbL/ZABj/AsAr/1//lgAUQCv/93/fQKeAnQACwDZ/vL9Mf8qAH8Ay//u/+sAGQBAAAr/2v4N/uv9fP+RAYABbf9eANT9d/5g/40A5QB+/3MAmACL/0YBIADq/z8CfgD0ARsBXwAVAP7+aP9sAIP/fQGf/ysAsv4JAbkBl/5NAlv+//3GAEz+tgLt/moAMP/O/wAB3f/P/VUAJQHW/qb/8P3T/gz/UwDq/8MAxf/TAKz+UP++AI//1QGf/jr/wwJn/n7+s/+c//gBx/8IAQL+uP6fAUn/rv++/qX/xQAS/xYAnv8OAZIBuQFsAccBGgAm/8H9JgHE/Wf/Yv+0ACYCJADUALv+QgCSAMcAd/6RAj/+7AFC/80AKgJq/50A8v9t/5n/HP8rAPoA3ADzALj/y/6GAG4AZQF1/vL+t/8Q/1H/gwACAI8BtwFP/yAB8/51AJv/x/1WAPf+9P7n//L+tgCh/isAmQDj/iUA8f+QAZL+bADzAHj/rwCVACr/Cv+DAKgAJAG9/1H/Ff6o/7r+wf5uAR4Azf6mAAD82f+jABr/sf/e/t4AnADDAmwByAABASEA+v8UAPEA2P9t/6kBaP84AcD/4QBv/t3+Zf/D/5P+SAG9/xf/0gCHAC4BkAALAN7/3wC2AeIBmv9SAPv/BwDf/+f/UABQAIn8nP/Y/y8BOv+WAS//6P+yAVcAF/9e/2r/zv7w/97/jAFqACQB+f5U/9P/T//hAOkARgGEAPsAdgEjAGkAOwAoAfr/BgHZ/53+bf9q/rb/tP/B/dMAu/8/AFMBd//iAbr/ZwA3APf+Mf8a/zcBfABSAC0AyQB1ALH+xwC9/1oASgA5//P+wP+xAKD/if7y/0z+8gBYAI8AOP8FAggAAAACALD/ef93/TUBDwD9/9IBb/7tAJX92wChAZb+lQFFAeP+QgDu/pMAGQFM/5D+agD7/t8AuwDL/5wCof95/xf/gwDx/vIB9v4ZAjH/fgDlAdv+Kv+kAMH/JgA5/wT/o/99/UIBFgF2/mz/K//0/zoBif+R/2EAiQE4Ac3+QwAZ/1ABEgIC//T/2P+rAWoAJgAOAp3/ZwDjABkARALd/sQA5P+v/nb+FwEWAKD+yQLE/n/+9f+TAGj+jgDD/5j+wv5HAob+hf9oAfr/sP6x/i7/AADx/uj9Uf8SAN8BCQD1/2MBYQEC//cAcP0U/9z/WQAV/ln/M/89/tQA9P64AU/+lv+V/8T+j/8qAEr+Nf7S/+P/0gHE/5P/zACqAdoA0gIFAAsBEv8eAJL+aQFYASf/IwAxART/O//UAVEAjv+0Acr+tP5jAQP/SwFNAaT+EQHH/zn+Tf8/AU7+O/+fAFj+SP+zAXwAev+z/4IAff24AK0Ce/9hAZj/HQDTAFP9VP/+AukAPP1lAUL/wf3oAXEAmf///v3/k/89ATP+fP7cAOkAqP9Y/yn/OwEG/3IAnv5U/xoBIgO3AG/+CgFe/6MAeAE7/zsAsQCW/x//av8MANn+c/5uAKoCrP3mAP0As/8h/u/+AQQ1/3/8yAB0AA//UQDiAK0B2f/R/vYBVgPT/R0ADP/c/gYBfQBQAdX9FAE4AMr+IgEf/3D9kgDFAAYAzP6P/XYBUwM0/zsCFgF9/9z+bACpAb3/qf8tAKsAFAAzAG/+qAGGAAgApP6vAnT/sv/VAYYCNQAIATMBvv84Af//MwB0AZQBO/6u/jf/CwJX/+P+G/9RA6D/PQAeAQkAxAF2AML/tgLI/2H/2P3V/+ICTf+6/w//7QLQ/o8BmP5S/+oALf+aASkBZAHtAKj/BADF/8cAxf4T/zIBmwLe/xEArP4YAosB3v+F/UACFgFl/0MCqf67ACcB5ABq/7j+6f9z/Tr+xv93A03/YP6TAEkAUwF1/6kAhwDY/xX/tf8B/zECrv5f/oABEQD5AUz/tv0hAXsBSP+4/wMCEgHq/UMAbQAzAqH9/v/Z/mMBzv88/eMAIQIGAoP+u/6HAAEAlwA//7AAyf+E/0IBdf99ABP/LwAC/p4BYQCh/+wBJwO5/7f+rAAsATgCiP/FAH4Bxf9O/+L/QAFUAZcABf+n/27/wP2oAJf/rgDLAXEAMADD/gcBdgBZ/nsB7/5CAbz/NALI/mIAaf4+/2oAWP+w/3MBv/+G/pD/aAECAMQAeACu/WcBL/9VAND+vQD6/5QBUP4aAWz/AAIK/o7+DAD5/qP85v4KAgb/Gf78/8j/XgBz/aD/FAB1//P+Z/2U/iD/igAS/mL+EABn/xn/Tv8C/9UByv+b//AB9/40/6H++AEBAF3/Yv/xAfwAt/9EAA4Btf6vAVr/qwB/AA0BZf9U/9UA2P1yAT3/jgEKAIAA9P4F/63+G/8b/ykAoP9JAGn+Pf4H/+f+o/7G/4YBhgBU/9cAEv/Z/7z/YgHL/oAA4P8AAb38MwBHAT7+lP+KA9oAGf05AWsAav/TALf/MwG7/0n/gwGv/5oA+P/2/6v/EwGU/xYCd/9GAb3/cABt/IgB4AAt/Rb+kAAZAdX/m/9WAf3+XwB1Adv/Q//yANEA7AC0/7z+lgFuALb9wP++AMcAIgDo/vAAfv9gABIBlgBdABYC2QGt/vX/2f9g/+7+5v1uAID/Zv9d/68Azv/A/4D+q//9/nYBNgA+AV7+oP5OARv+4fzF/+P/Iv+X/Y8AZf5D//wAiv1p/o//VgHRADf9eAACAKkAHf4WAVwA6v+h/wb/ZQDf/vP+7v6V/2P/5gBH/hD+Zv+o/0X9ov/Y/lb/ZAGCAYb/wP97AOkB9/y+/iv/wfyL/1j+Hv/f+8QA8f6J/QP+sQCmAa39xgBuAZz/YgBAATH+v/8yAMP/Hv67/ocCCv81/2IBxgJj/3cBYwHCALEARv45/00BUACJAQAAAQAdAgwBGQDBAeMAUv/FAPIBMgC8AMP9vwLr//f+8v5F/5kBRAANALIBFAEcAFUBKgACAcQA5AHU/lQBkv+a/4b/fQARAM7/rACxAc8AuP67Aaj/+QALAtf/KQCSASoBh/6R/t7+FP/H/SkA6v8BAOL/TgFTANn+TQAr/+7+KgCZ/iEAqv7E/wQAG/0B/gz/af9//CUA1ACt/5v+2f62AOz9i/+p/mv/AADp/x/+SP7r/xIBCf/I/0cBdAFu/37/nQG2/83/PP8xAAYBGgCBAIMBKwDD//H+EgLH/5EAwP41AFoBxAD9/Q/+TgGK/5X7QABP/3YAUABT/0cBPPyHAM39RgD5/Q0Aj/3f/9v/wP9o+1ECBADVAKb/rv8CAmL+BwKv/zcAcAEtAHn/EAJu/mwApf0MAaD/dAIoAWUAhwC2/10Ao//M/5X/nP6P/x8B8f+GAAD9YAHf/1UCBv+Y/gkB6/+JAOD+GwSP/27/OwC/AKX/Yf64/xv/TgGn/rL/jv/HAw4BDgA4AXsCrv2u/LcBQwHQ/F3+ZwLd/fz+nAAE/4b+QAHs/n7+JwD9BaH8Rf3PACcAYv0M/2IAhv7x/ugB1/8S/2sCgQBjAJf/9P+q/Wz/wgCz/2T9YgEH+zUApwBXAHT+KADUAvz9GP6wAML9EgB6/5UBMQFe/7QADv43ADb+YQGfAD8CGP15A5f/fv9w/2b/R/9rAX4DUABl/4UAFQNGAFn/AQDfAMAAwv8pAjb+Av4tAiP/wQCg/7n6zP6LASgAsv6aAosCJ/yBAakAof4rAmUBO//g/sb/Wv57/tn/HgLlAM//sAE5A2r/6PyMAa4AlACb/tgBTv8WArUA9/61AV/9MAPLAEIBv/2VAYAA9P7r/bYADQAAA/b9bv7yAfX9gwAZASQBKf6vAGwCyf8P/foBkAA5ApAAjP21/fkBHv/MAID9rf8HAHT92P5UA3MCQwCM/gIB1wLD/Br/v/6+Arr+JwBq/q8Apv5pAIn/efxT/r4D/fxT/ub/Tv9/Ab/97/7j/r0B9gLs/P36qv1b/0P9pv5k+5X/o/8E/+T/Ifo+/bgCegL0+pn/0f5sArP+xAJM/Rb+DPw3ABr+O//oAdD8YwaE/vwASwIX+mAB1wBU/KD/RwFw/6b+iv1A/9v/wwBz/kL+qf6tAAz78PqN/Cv9BwTyAH39CAGTAKD57wPO/2r5gf4y/pgATP+f98ADLgCFAgL+oAIAAT/9ZwNtAPoByQBMAF78OwEK/t//fwDuALP+3P+BAnf+KP/7/9MA9AH8+wMBE//g/1z+LwESAV8Aef8W/rQASwBBABIB4f2v/2YCOQGk+Sf+1/xaAFb+QwLdAZMBc/18AAUELfwJ/g/+fgDvAL7+F/xLAAD+Nf6N+2sB5wHW/pD/d/+a+/H+8/qB/wH9HQE5BKX95/v++QwCDwIp/5P8QAIiAYn/GwFz+sD7aABr9sP+RwAs/ZAABv1l/0YFt/z+/nb9dQMIAHD7Ovt4/Sf/rPy4/ysBnP+F/SYBCwQpAdr/Cf7M/6T/gv3WAej7dgcMBY/7VgBe/+QCsQRfBLH84wSYAk0CNQTW/Q8A2f7oBWEF3gHe/9j6qQO4BBwDigCC/fgA2gCcBS8CEgNUATb/QgFlAGADUQCN/8kBBvrB/ioABwNKAYgBFv9h/tkBkgNd/Ur/RQUyALICSwDtAEEApwJg/5YBwQJAAyP/Yf6E+2YAiAMhBE0C7AQSBgH/ZQKXAHIGjgL9AVUBNAFl/BYBrQP1Aar/Wf5NAGkCVwDB/k4CYQL3BD0CYAJ2/+QCLwRVAbP/WgL0/nz+OQK0ALsB2QFpAMf/7gC9AFP+0gJTAXn9fAFKAgEA1QAcAd36dwGvAyQDyP/+AFIAsv+3/dkAff0mAYMEsQPPAqH//AC2AwMIzgEYAMcDPgExBb4DoQC2AeACCAQcBPkHywIKBGMC1wTsAl4AHwT0/rMBBAEyABkAyAFXAvgDMgFe/A77owS//vEBJgFcAs4CGATjBgH/gwDqAIX+zv/o/Ur9IwD6Ad4BY/sXAHb94QNGA/b9uACpBY7+wwCa/sv9Ev85AisBxP8qAG8BWQAB/gf5mfvL/g4BsgCd/cf8uv9+ABUGbf7u/90BmwMSAIP/2wEgASUFTQD1+uj9hPy5/3X9lwK5AZYCQgHeAWwDYQKK+/wAswLs/rD+HAIyAVQBYQPn/x3/5/5+/4sAiwJnAYUDdwT8BnwBtQJH/3UAXwASBc0BZgBvBAACkfzdA+b87QI//0D/3PpqAUgCdQLtADQAeQLhBKP9DwHB/xwCBv79AnQEMAZrAocERgcQBVwEEgP8/zUEbQORADX+ZvsQ/hUCDP7Q/Tj7zP3h/uT+lvxP/Yj/mgLaAgH+Sf/s/VQA5f8B/6H8yQBhAN8Atf2J+2T/DQAR/57+BP6d/Yr+0ABx/Xz88/ZO+Jf6uPlf+sf3Pvkt/Z/7BP2a/UQD0gC5AzEBrgRwA3UAowFnATUBBwHq/7YBMv7s/VwAY/wPAXL/xAAh/Kz8FPw7/Rf+wvqhAIcA0Ps/AHv+cAF9BX4B5QEOApkBSgNbANz8Kf3j/Dj6pf9k/e39vwAN/5gByv/rAFkDvgQEBN0G3QSABcwBtQX1ABn9vffn/icCOvxs/SD54fyDAWoAnQAI/5YAvgQkAwkAqALTBLEDwgRyAf0ANwHAAJ8ERwX8AMEHhweE/m8FyPsb/wH+bwD6ANoBqP82BL0D0f6t/vAAAwN3A+gB6wHRArb9TQP3Anv6vf7M/uf8Jv7U+Gv79/n9/4L9nQVX+wsFtwAw/5j+2v0WA6v9pf0Z/xb+h/kv/c78xPUp/NT7K/yjA/n+aAE2Afn/WP+eBn393vxl/ssBH/7e/UL8AABL/AUBCgOT+kf+3AAV/KX8Xv4GAN0Dx/7wAPz+AP2k+T7+WP2X/qIB7gVXBD4CmwOeALj8b/93AkP9yAHQAWgG1QUEAXgDkAVpA14CaAS8A1X+eASNApQB2PyeAgT/vP6zAlT9v/1L/bcF9v71BFoCcgRuBOT6N/1dAo7+5f68+2cCMv30AGQCaAGEAVYCygEJADMF7ALqAqIAjAg9A14Hwf44ALMAM/9s+1AAMgMuA1IC+AHYA+/84QGB+ab/kP1pACoBRgNtBiwJKgdeA3wF/wWF+ooDjAKoBHH+hvzH/tv/Hv7I/ML6z//t+nr8kPs5/az+DvyUAJ76ywFi+sD78PmmAE793/3a/ucDVf1H/oT2IPhS+EH4hf6L+Ln/e/n4/C73d/nF+0r+jf9AAn/9/vpK/egCof7AADH8dPriAokAg/il9Ir3D/Rf9UAB9vqRAlMESATTBr8EYQlkB3wMaAq3Au0EQgQ5AzEDXfqR//H8CwW3/skCdgtIA68FBwjBCi0E3grLAG8FAQYe/2QBhQOMC58I3Afg/sMAtAVHBLz8Q/5J/Wr9LPfy/3b9gv0vAdz7FwE/CH0HNAZJB7wDKgNNCbgGhAgT/9j5nPue/DH9avwxA5r/wP/qA04ItRAGC+kL+gYiDMETtQIhD+4LnwnRAUf88v/CAWsGaAH8AtgHnAmHAZ4BwwRqBsP8kPy2+T3+Qf/s94bz7fTUA7gBIA52BqwMjAARAWwBNwUGAy8B5vcq/3/5Uv0Y80b90vvg/ikBsQiTCagBC/qc/CkB5QJ7AsD61vsV/t3xpvg5+cT7xv1T+iQALvio+zv7D/wa8sv30wMn+a4CxwR9+5AEzwCmA0v4UQCi8bn8hfiUAzj8AgS4AcwFrv6YALoMkAMyCz0FDQSxA8z7JfYNAk8DA/tmASwBawKpCAwAgwKyCIwGMQ09B/L3UACr/MAA4/bA/SoBq/97+nX1rPj4+jD9sfy39fz+XgKE8iv1bPG18Zbz1wLs+MP01faB9uz2Rf0s++D/DftF/fnwvPMl+eEAevoL+tn4l/z0A+//7P8k94H/RgD1+Xbuc/Fu8AD7bQPw/ev/qf6P/LX5C/0Q/4f5n/dc+yL8m/Rl74/z5/R9/a330ABn82fqZfa+9+X2Cu4w9iP9Sv4i9WTxo/Cn9D7z6uIb6jfi2enz7QfwbfNj6lPzlu1d87/vGfJU+RvsieVa7TP0Mu3k74byZOu866j0wu4B7ZHuDu9b7pDpcegh7w72fvIR7cj8QPpn+fHzROjT7mLz+vEv+vf2Lfm4/5MGEvsV9qv69/JeD8wLFv2a/U/zgvn6AZcRZPxc9F8FeA4TBjQFQPyY8tgFKADg/Wz3OvlcA8UBS/7I9fzlc/zT+oP4AvJS8ofu0/SK8eT3KPDu6kr+TADS9uv3M/5p/F0D7PgN+4LzPAB1Bp4BxvEW9crzOvp6/DH4dPjs9l/42Pyc877qAAW2AND/DPi49ysDHQ1oCUz3G/Cc+yX3ufkK9Fj6I/vm92b4OO849x/5pfzy/ID7mvSO8EvrvfsZ9Z/vUvjf9QnvCO6g78rzFfUh7NTxOPa+9VjwEvXCAc/69/M3/2D3KvVl+Zrz+wGu/Fn2t/tM/Xf+VAh9/lD9LgI8BhcACPvgBhcNTgN3CXwJ5wWyCA4JeBGKAPQEkgv7DvcDKAdkCx8MQAq/BFkCnw5VEoYO/w5tECwWIBCdEQQKMQ8kDFEL4g+NB9P/dgZ3CsYNlAxYCiMMngzAFOsNRAvNDbYVAheCHJ8adRSUFsQbcCOaGHgQChyBGs4XvxbtFGgU/hfFJHMXvBhyF/QVQBiZFU0NZxK+EWMKsg1lD+sO+Qm5CZ8G0wVwDPQHEQmOCl0GKwvPB+QFeAKKAoMEagp/By76Bv5cB/gFiwSz/yj7gAArBKf/hv3298j97f3uB5z/3Pr7/Nr5ngAs/S33LPpz/kH61PgmBmUELP9CAcv9MAXh/vf8AwB/AYgKLAtrAoAAl/nMCUcJQghHBcn53wJmD7sCpPwoBIYL4Q6lEJkK8gcbD34UIRKrDIMBNw1EFcQZXA82B/AL2Qr5CzgFeAF0Co8NpQ+QBQb+o//sAMIAkADBAmkDQgk1Cjr/Tf6qCGkM0wr3BTsDJRDBDo0C4gKtA/IBagXC/iT3IPeVAMoDZfjt7BHt6vQh9KfznfGe85/0OPsZ92vy7/GG/yD5yvqm+2P3fvmz/5v/+AEO/u/5eP+q/B78z/uH93r1wvrw+Aj4I/M78Cnwg+5E8ZXxi/Qn9tf9yf+w/ef8LP+4+58DqwQfDaUJ5RNNGAoSzxDsDDMIRAoTCrEKGArZCekKRAX7/yf8agN9Bb8FMwNyBUoPJw1RD1sG+APQBmURRQyHCaUQcRo2Gx8QUwZ9Ct8SqxUfGb0JpA2MGm0iGheeE0gR8RHjFJMN6wL7AXsHpw0PAQz/4PwX+6kClvrFADT4RfvF+yYBCwBa+L74fvWt9Hv39fDF9JfzF/V7AB/yS/ef7+7w1vZo+AD2IPlvA7gEswGe+W/xE/Tx9bv8yvw69R71RPK29wb1p/IL8j74Wvls+l/yifLI+Gn8QfOy9uPyq/VWAQv73/u0++wAQAF6+un1+vSTA2sGvgFE/Yr7AQT/CZEJdAJi/wUQBRWuC1EDKwBQC2EOFQviAAD+6gBnCiYKMQTpAl4PHg5oEzUBsf9OBdQXzhZCEGoEbAynFjwPNw8IDGQJoxPLD+8U4RO5Ek0azhxnFAkNXA3tF54baRfIEqgaVQo1DfEEC/7OBfsJpQPlEnoL+hChEi4MfwRW/2UFEAwPEusKcgvkBI3/3QEp9qb08QGo8UQEDPoU9if19vih8ZP3v/rE/0X+egI7BJoG0f1rAhgBlABeACL84fQC+28CLAsH9/n1VPYZ9vnxA/N/7TfqNfgu+HLyN+417mr48Pho7gntmOo+8DvvlfLy9bb4rfMQ9wbpMePg6kHvr+4b+Kj76O2C9OD00vHT5Pvk5fLr61HxAfqa+FXwOvnI+132DPOs9PD/qwKc/GwJEvxjAFQCEwiEBYYA8A1UCp0Nt/1fA8sESgZNCOYMbQwZBjYFPAVM92j6RgceDAgIrxFT/5MKJAdFD3wDbAMNDmMMyA4uGgEeMx70F+0c4B5fIU0KTg/NJcYvTCViHWMeCSIiJSUhgST5Ig0xfzKRHpQJpQ2cFjMoNiONE1wXdytCHZYO5gXLEcwbiyyNLLApxCZLOn83eTt+OsI18z7CLWIriSMHHV8nbyayGMQNVxFUGL0c8yawHtsX+SdbKNkmpCIlFnEMSBtpDIoMygFcGBEOJgxzBFz6QwWfBicK4wE9/cH2sQjeFtgRvw+NGqIYzAzGAs4EVgHSB7T+EgA584Xuyer7744KM/Wt9CHxH/24BTL4w/mR/Y7/zBHHCu0L9wey+6IUOxQICu0ErgQiCw4VsxBsD1cXfRA9CI4aYCR8L4Q0ESJnN103+T/GLOomTDhRLOksrSfnKxAopzLiMVUvFy31PvBDKTovKA4zpTzHUAdLfTxQLa80czkxPC4r6TPEL5wtAy/0HQMv+zpAP+1A4DhzPFo+AjDaPcQoaSP8KsgspjpPOxc1ZTLBQ8hYHWRQUt1CcUs0PP9CXDfSJiQfOyQyMFQkJx26G3k43jN2KloaKBBQGMQgYxgtEuAMHBBoHP0LwvVf5gzoMN8d4MLUFOh85aLa69dU3bjKBNOC6bHoh93u1yrVU90s4pndiuXJ6A3qtNtb5EHhnu2z06LSDNQey8XbrtqZ3Vbik9rey/HHh9Ih4L3tqOHi1lntifHZ/WT4tgB2Dt0AVw0kB1H9u+5xAFvzD+bp8ajn7gXNDtH5YfVN/M367vuT7fP11e1349TgHuSC6UnaI+zX8TT25gAh9hrlZ+yP7EDrFe2I5TTWnt3a0HbNAcrK1bjEE9b61WzYedQ6w8S2+rjfwCe32Lemt8Wrt6LIog6sIrXpuxG3D77Uyt+7YsHhvg69+cMk1RzMgcOIwli+RsZJ1UnZbsL+ukDQyeF/6h7q3thQ3xjgbeTh4JnXjtz36MvvC98r6BnaQ9YB5Zb02fcJ6fjpSOcq8hz4L9qT4v7rvOWl4qbdJM9zxhrUKdJF0XTNGdb+1pDWiduv0rvWD90U8Dnjk9+s2nTiAPco7drnbuPi8dD1kf3w6i7wjvfp89T4VPoDA1X7PwZG9ZcNKw0+Co8BZf2oDz8LgwIL9BbyhAcZFS8JQAe79HcIlw55FaABZvR4/gALxRHI/Lz5YvRm/6QGs/YA7UXzhQUJBUkAP/1v8OQBZwjSB9sAdwGw/1gB2wA/Cbzz//YD9GYARPpJ9OD7BP4A/N749AIU9Ob9KgvBDYUA0AZq9jn1AvXXCwn5hvsT8/LwY/aX+h7x4OwW9hn8QPzO5Lfwt/nD8835b/Jb26/preaK9DvkK/OR7If91v7E+vb0yvyK/Az7VvN98y7h3eln7Ynk6t4z3LDsL/RW/iPozfPf8u739wA3AV78VfcyAJj7KfZyAU4AnvnoBF4N9gDiCVQMnQxnD50TTA+aB2gEHgeREPsEIwGk+fP/tgNt/GAC3vxb/dQGJQg8BhoHfAF3/pIChf3E///5GgGH/S0AewHk+vH6iQVB/EsEJ/ZP/iH3WgBt+8/xW/Ln7Z/4Ev7i7rHsIO9D9KTsk+m/8tznZvjN7m/wbuh69hL4sP+N/4oC2QdcCSoGNROVDJALZQrd/xf7YgTKA1L/bflf8wD69P2O/iT8qf01/dQDUADK+9Do4foX/CH2qPAS8sfuV/5PA38ECv+YCZsKUBFMBSkJigVFAlT/wvhl/2z0cP8T+mrztfoPCK8Q0wNZC98TcA6mFr4RHArlCQke7Bt2C6UNFhB8EtAkCiV2JEIX1iewLKIenhhCF4cWwhDtEBEOEf0XASwM4gJA/pD/YgD5AJMBEQPU/rP+5vao8l/11vU8AZbu9eva9gn+M/gt+ub3GPdvAf4EZ/MD78P0x/tx+Z/yM+J06NLxbvUF8+3mxOQh7a39rOmn6q7pCu9x89j59esv5Rf05vzQ+Xn9SveEAI8D2QKDBX8AG/Ho+bv7MPd98Xjyxees6a7zsO588TbqROea8Hf1lPRH7NrkwO7M8XD1eujk4WnsWPn6BmT8te8tAI4GuxNCAX8IMgP7AuUVeAOl/B78FQDYAqr+Lwm0/+H+GQj2CzkPHg51Cp4PVw5xEGQLYQUpAkUI9BJuBF0LU/9dCwEHIwtKDJQJVgA3AI0DU/hv8Rb6Ruyj8Qb0Ou616J7pjuy47QHwC+L97ebszujF6Vfo6d3x5DrtYOKF5I/wDeWC6ZrtP+h759nxxPiu7kPuTO4M7uLywO1S+PbsROsi92f1kfRf9tAHRv0l/ckL9ASvApAOfA/IDbIDHhAzFYUNkRUNB4gS9ArXDAUSMPgICx0FFwOr+l/5C/1i+9r+/AGz8df3I/0X/00CCANj/4X6aAVpDRYRJwhz/wcGYAo7DbgOxghbBJgJpxXoBs8CtgV3D9AKMhfnFQkLGQoAFzkXjhQEDRUOhRBXHuAiXRQB/Jz/ohZ+FR8IIP7s+PEAdvsM+KL12ekO/7X/BvoI6i/m6vKM9/722esN6XjuwPA18iPyaO0e4HLoEOwp5T7vp98D2o7Y7d9b3wbbOOAU4c/fCuTw5bzfed1u9qr19PN28PPqwgTbCP4NLwkZ8ooD2A37DEgCmu/2/0gFCgSX+crngfPX9wv8xeGf42zbmeON77Djts9K2Djmfd/U8Dbvtu1h8i/1h/yfATH5ZgJQ+O0E6wCcBln/M+VR9S/vuufe5lHdYdBK3/7h6Mon18zJjdBb2qHShsiCzGDPqdBv1+/am89k2Sz6w+zb9WbyWvKD9b4FQfZT7SX3dP3rBDvoz9fP6+D4cfo74QDpztyx49Hlmc2sxOTEJ8b/uVamf7enqOS0nK3Fswe3V7ouy1vHacopzz7Ur8ib0ArJiNi83di1yrkPuoy2psRLw7u0cLcPvpe/Mbc/t6W99cUeu92rxauCqTjFk8gKz4e6OclZ0yHXS9Qf3nrj7d8T3/jZus2M0TDKWM1ou8m0+rdSxWzYOs5Jv6LJbMqQ2t3gQ+ID4LDlDOId23/fTtOz2FfdR9H11/bGPsGI1GTpGOws6OretcCs197tz/WR1gfIR9EE2UfVi886z5LNFuHd3k7gO9823vXcPOww3jbJ1NIp3ZToCeJXzw7VfNVS4Mnxqu8c4hnpZuUF9R7lc+ww4enzE+5w41Tf5dfE3znvVfNm3OXhzusO7LTsWOoT74HuiftY84flTt5DzbLhI+GS7KDynO2I7lz2SgHK9AD2YgJJ/9sEZghvBxUIYA3XGJIe6iFEDIoNxyPgGFYDqP9bGLsjlCQ7HmQaXRYQKBUfxx/gJsA6+zMmNHc2zUVTRGc9rkiEY4llYW0CTbdZf1CZQdYsvyQZJcYXpCAMLhU/ZjBuTUxUomgvVIdY0VzJZOxHZTU4VVZXDjqlH8wgpCo+MdM5Nh4GC3EnSxj8L8YiWy2jNDM6E0F8M3k11zYXKRkN7CTdHvMuCzjOQZo9Wz5sKv03ljORPPxDSTsMP4xMJUrcSGpHFEU9SJ9IekzVQmdIlkUDT707aSFAHZ4rWkJXRyM8QjjbSeNOuEAnNo0kdSxjRmg/sToCJLEeDDJ1KIA8pz9uPUZOAVS8RnJIF06LS3taqlNERiJSbEygWepkNlGkWzdbyWhTahRvr2WHYfFf2nGcd6tpyl6oYpV98Huwc5RP408uS5dSHFo6PCErDC0OKeAnHAphEecVXCJdKG0cmxdBARkB+fke7m3rlOs/86fzJud93FPYVNvJzBHHJcKk0TO9lrXXpnGy57jnwjrEBbXrslC5jac+m3KfLrIrsme1JrL+o7KvtbLwtPybGK0IuOSwdrCWst+t17+Lxxu3vLfUv+vB/Nn03WPgxd2S36rlfuaP4Wfg2AbfCXgUYf8V+Hn2zv2/HDEiKCMsGesZlR/KMXktwyZ5L2A6ekDCM38/SjfRMx05Jj1UQEgs5ycwGN0KNRQ3K6gsPh87EvAWmhV9KqMWUA1KGl0fPxuCDuAAkw0zFnshyhJj/UcBgR56Kh0b8Re6FqknKC+lI5gM/BCqI0kyxSn7GzUXzx9uOqo/hDD6NcIxgELTQrE9yifGNKIzMDv6OnErwyXSLJc2fy8fJOQjjyOWIScfFxiiGWwjjyPtFbgUUw0wDGIMCwyQ6bnlU+m78lXuA+6y7Xv3afW78/vjf+t+9XDxHO3u42ngvd4Q5r7f4OWO1O3lJ+H05Rzio9804a3se+zf5bjdYN1o2+fhAOJG2ErZVdPV4hjeDus46z7mXejT8Dnrl/UX7APpJ+l++Pn1TvU75frqSOrK6BnqsvMN8J3p7+sy53b3L/wq//D9eP5P++UG4gHm9q76LvoSDqkCtPuD+eT0vQZrCAQAa/ag/jsBUxYADln6CfwiEAkVRQnr/gn4UgE/GOMSvwOg+d8BYAq4FOANswP7CWMYDyFmGpQMGwXDDycdTRRuDKIA1grpFoQXVQyfBB0M+hWEJ1sX0hXHEjQaqxYED4/+zvqwAFH+Xvem8WX1+/Xb99335fJG/R8Al/Zt9N3xcOxy7svtMeeW4TzlGOc/2lbaxdfe4Mbl8+gu6P/gO9i45HbqVNgh2JTO99495RjubuF22nrsM/BF9yj5ue018qMD9goD/i76Ifp7BP4SsRF9AosAygbPDkoVgAXN/CIMthfsGkAW6RD5FtYrFC2YK6kikCh0MiQwTicyJdQi/i3wONgugSiIH5EsUjLsLpIuky4KMKU7AjQEJY8pfzL1J5UyoR0jIt8i5S/KLIopOyYpLqowlS+cLeEmxytuMMoy1CC1IEYlbSDNITcPWAw1EfYSWST0EPYOjQ1LFRoV5hCVAU8FKwbwBigA9fv77uPz5vK182H7uPGi9Or8Xv/T9KLrbu+T8wr3ovb67vvjqOVp6tHlYeD45TfizOHn5M3g7uHx2QXjv+Mx5njh7dd31cLlN99Q5Azk7+b07HHu6vZO8KD4MexZ7izu4+s28UnrFeue+q/yOPsf8afuaO8E9Lv4awEd/wEJTwYKESEZ7h2mIrccayZDORY91jfpLDg0hkJwOMdFbycYNmU4KEmWP7Q0uTImOKNHKEQwLz8t6TFNSAw/qCxYFFwd3CreMQUp+ReOFRohOighFjYV3gfeEzwZ2xebB4PyNvZX9jb7LPrb2CjsJuyC7Efr6eef5XbmJvEJ7G/m4u3c4+nkqeTB4iHpft5D3x/anOUR5q/jD+9o6f7jLevT4Uva9tVN0E3dredf4TXXg9CZ16jYy9us2MTDKd5l0WzhSNNHxa/JktWq2eberuUv30Py8fFk/271YfgHAh0DlBAIEZH9EPv7/nb6XQEsAV0GKw7ID0wKExoVDJQY9xDVFEYeSxxhE18aGRvuJNEqAyvLNG4tpDhqO6g4oC4USK4tcTOJPrY2yykaMwAiIhuHFrMLvBbbIKcHDRYfDuL5SviBA40IExcWHj4YjxzIDwcZPwdN/w8F/wY/AjoB//L27drfa9MQ1nneaOO02ELO1cTp1xzaDs2SvbLGlL9Iw7G3wKaIwgvJ4crU1LO8fMByuzjR4cuIx1/GwMKQzzTEpMzdw2/Hw8qy4wnXNcWLz6DWN9l84FHi2OG35BvnMNPh2/TeLPh+1qHZItwi15TYYOc06McASBSgHWMf+f93BLALowJa+gMAZOlX+2IFewxUCDkVARoDDv4CxgLOB735ZwmyAPb/CvOr6fLjxuF94STevO6O/4IDhQtRD78OghGDFh4WUAjwCZoODBE2/izhStgY8hviZtrCyXrfT+sB7S7miON5A54BWAUVAIwUxiXGFokiKAWADtcdUxVSB34LlTk4LkwOnQXU81oLRye7HnQGAAhyGbYQ9w+k8mD0txcEFuEOiv4R7PAIWxArDp7uBfgv+6b60vfV/tsP8QdyDMMWFyPRKf4jsytJJqgawTMPIzsg0yP7KjIxZRSTBgIbAx0nOF8w8htXCCwpYj/lTVU7GjTiNdA4rDLLI3kt+zK2LP4pRC1vJXU+0VCpXxhZRkccR89XN1KSQKlH5DB3Le4/3kLNNkVDGj7MRsdMlVJYVLtNNWEgSTJUu0rQTOxFX1kIXWFmbVuKSWdJCltpW35TKl4xUrNKNlw3TTBZD09zQ/5Na1hFUIhDnDvsPyY/9T85PFBBOEkvTqY+yThUSn1KjE6hW1NeNUxsUM1jqHhJdDdnTFsTX+11/38UahdVd1hQakZwamNWWrNQ31MUaAJoqU5iRB1C6EbjUk9FrTOkMpNEbT87OgM1VSxcLocmzyCGGgUsfxhRBSkGtfx2+rQBMv5kAW7eTN3q1eTXhON11krUx+E68SjrweWd1w7fRdhi3Hbu/NLbwxLGzsQ1zBa7acguumPYouEx2xbef9ql5iDzcPZP4+jh0ub66bvr4vAA2oHXn87N2QjTedAGzvHNQtyizj/VA9NS3M3aXN/P2Mnjmt0/3lXnT+a/0KLe1+0I5ZXlb9uR2KnPeeL615PLyc7f0hraH85X21DNBcio4tfrd+Ef1FzaIe8A6r3o3eWp63bxTP6j/eXvbuzr9igPVgaZ9erlL+iAAir5yvjx4A7k8Oyp71H5SdyKzj7WMt/K3TrG8MtL0LTkUdXz0r3Qic6q63r5lfcy47TjeQBcDPQNIAEvAIgUgR0hGSQGaAeMBbMFeQ1l/CHwQufW+voBIfqa63XtMPhp7qz5luwt63L3yAeT/2/1ye5b9sj4Af8JA9/0rvDa6mf6Dfic8E7qnvRH+uj3guhZ6uPwvPMe8LPqCuY53SrXm+Tj5XPUsspoyUzKp81fw63AY7yAtXa6AbpittK0CL05vNK9crwGujK2ALciv7m7Vb1+v/PD+b2su23AV8ue0+7VZtiU0rvSn9fZ4Qrkq+hu3kzf3ePd4Ufe/O0288XtkeRA31LjR+Ub8nryYPJT5f7oge7A9tv99/1U+//+kgSZ/Uf/SftG/z4ENQAZ/0/48O5E6ZDiHuUY1zLUldKh0JTFOcd0zi7LFNnHzOfUuNeC3pbhduS87uPpie9X82H6RPGA7er7kP2S87PriOb38YH0FPmB81LsNehL6w4Ep/7a7w/n2PGD+ovyme+f6SztKvOs+Zf3DPNX8mH85wO8/vnwr/09BGL+cPj+69fxi/Kv9Q/nENuO0P3gEuVv1hXV6M6K0eXUytUB26TaI+Y44cvdtNwB4hzlWPHn+fPvL+ca7nby2/HL75XpEO6O7RXwZ+p68KvloOJX4qjpje1m6hHt+PXA89Txm/W0+yz7Uv+l+H76f/5Y+z74HvYY8VDpL+Ef5XzaFdTV2A7XeNJC0NjV0Nne5KPdXt7M4kblveVW59HkcuCT1wDhSOlC5r3aDt3f18bSC9kC3CHaEc/9yArIpcluxxPFasYUxuXFfMcgx4bQVc+f1PTbW+Mh6WrqaenN7tT1CP2GDB8FogRzCdYJ3w5sDGQIZAB5AzD+eADi9enxpvhU+/fyKerZ5X3vtvYr7SzkgeEp5gPrIfCa6ePnDOjP9y3x++zJ5STkrufd5+Dcmsx20uDQ/sshyWO8lrnHxazD88KzwB/Mp82c2rTc1diW3ajnkvQE9KHvYvO78Rn3oPam+h73uP43B74FaQMq/pT+ff5MCUQLjf+mA/D/xwR0BOYG8gJwCW0FbfkM/yAA2vzG/m7/O/rw94T3cPOo78z0SfIk8Tno5+Z34Vbo4ep669Td1d2A53nsnefy7+fyDe8s//T4g/x+/vb8GgQpBHERFAtgGKUWTxFtFYIWnCOtF6sS0AzgFWwLcwyOFfgIggNSCogKBxTQEScdcRLgGNgVDCFhMYMvrzRDMLc7IjSXNlQw4CxGNsIqjimxJ6UhGh3/G34lmxsSHTcWuRfPGb4UuxguGyEYWx5YKukoRCLDIGozbTI0LaknTx5PIAMbNh79HWEYZw05EhgRdAxPE64NdQvkB4oBR/8MB28BnAFJ9xoGQ/tr8aHwCPOG70X3fedP4PLo8OZs7hDs/eor4bbfUOBx7yLmXuq35zvnE9fT3LzZzM42yWPOpM+AxyzKgsjpvsDIrMubzaHG0MhYx0/Gp9GVwh7R7cp8y4PDWr0Juy3AEssQwPe+9LaiuRnE+cYoy2nF5sUR1JTjTNEs1uDT8ei98+X7Lv1c8674/QgKE3kTV/l2A8wK9QxcBLYBBAa1EO8gGA+HERQHsxVDHv8W6xBeEY0sexxHEWUEoP7NBlMKcP7k39/0SfZx+gwDyNWr4wnqpeYm73buINqK4OnwyN9e1vTLdsK+zcfPRMQotOm2a713x0a9W7qXt7/F7tb+0jLL7sqBxg7sAebbxjPNickm19nandOhw1fSRccBzFTQZckkzQrLVr/hxKK1XbfyxpTARcnUzlHTs9WI0s3ewt4i4NjhX/5h97/pMvGr8dr4jg+zDX754/ioDykV6xX2HYIXRBU9MLM3PiV3EkQgKyl0Phk5AB+/Lrw+Yj35LeUkBBwgOxUwsTB3JikuMjv3QIo7Vic3LC8j80qFRMBD8CKsN/pNekJuSf1Bvy6EQIFVXE1wWopRuUqbNNVFk0uiNIQuHzPxN4UwIDE8J/kvckFOQ7ZHP0KoOe9KAjlYPuox5SMmHbQf+DVDO902ry+DGXgckTSPPD4u7y17Lf8tfSl5J+UcKSGiLh806y2UEsoanyiyMXciXh/sH9QjuSEHHvggATbwKJEOoAXuAs4UpgBS7q7ytRYrC0cR2vf6BFkLfCF/JBUdFh50E94h3Bi4HrMYKSZrKB0pBREVGWQSfyODKhIkrh0bJjERhyUsNF0rKinuGlAifiiiJGkVcvr8B/UPnxfSFOECVR+MIJot4yOUIU8iJSr5OssfsCGgF8sTACgtMoQmdQUM/cwAQhFRFZ0RqRkPJJMbNgrQDlUNYR8uM+czyhYKIgogkCnAJZkgGxZkGZoQbQgQGyAOoRKfEasMdhe5HvwQeBxkLsg9Lzo3KxMhtixnKpMzIQhVC08IZQidG6sQXP8X/NsQciIHJ6YcCxpQGmM6lT/aJIwwLy1UKIIyTx3DIqgVehkJJ5UlzB88EUET1xa/F8Ic9hCwC9ENAQLz+lTrZfeu+T4ARfw1AWcCpw9kHEAUYhMkDjoOPA6EB5AFOvZp/Xf2uujI7ZPzAu8B5JPplOV54gDmSOz14IPjj+0w5vLdCN/M4w/8v/VS6f3xiPpK/a0EBu5V6QTpLPsp70v1sul77Lj7V+U8ymHTBO2+/6fvwvX467nfVOuO+ITxD9k13ufeiueQ4nrNCM3W2pTmqvQ36WnnSeUJ9yfyYf6F/fvw4P72AVQF0O7e4FnqAuJb8Dzlf+hS2hvQqdxA0SrTXNG0zB3bE9th0tnDg9HH2rvf1+gl7h/3jPWo+Ez7Nu3Q9x4A6APp703rs/m86YHucudg3+7Tx9yQ4TXgstvE3qDlmucu5kjs9u4I52vbld2T6CrvTeft6+DuVvc+Bh0FIwW/AcsJuxfHCEj8N/kuBD0C7wBtBnPxevV1/L3+7ujQ4qLxiPrL+JzrIOHt5+fmgvQ262LtD+6h8RnyYfBG9Rj1vfbUBC8IRAko/qQJhvvX+94NRA9UA2LzLf0G9KvstO3K5QrpF+ap5bTsstlp3bbcx+Rr5LLfCOq19gX1Cvq09jwFOf6EA/D8WQAOA4MFBf8/+LXlsO3e+iT7seyd5jHkQeaz6NzkIeNL5U3jZ+fG6/LmDt/r5Kbpxt035PvkaezA4/fiA/Dn8R/wgPQV8IP8Ke3383fv7uqv7h//Rf1O5uDtpv1096PtHOSp7JrrPfTq737okPLR9sH4euxl6QPzEvCv+CH1jfcX/bQDJhAoAPv7YP9kCRYOdv4PArX9KgBzA7b/vvmF8pT3avin8mDys/CN93XzvflGAET+yP0s/EAHbgM6BVQA5vhFBZsPMhVED7MHuA2eFqgfiR6LFK0IVw39GFAbiwzuBUYLjRIvDVgRPQczBogDzwivAXwDVAmdC/0UZRCnDawQzw0ZCkAJ8gQ3BlQOpQ9ZCIwEYgg5ELIK5w7DDmMKQBL2F5MZYw+CCikKJAoODcILwwhZAnn92fwGAqb9xfGT9KH5Uv7pAxv9+vcU/bQRDRjOD1oNmwvyENAdexO4EM0ORyHGGUQVUBTEHfoZ2hMzCnELLRTXF2QcNxJdBLkFHxMZFQoN7gv/CmUOewoZB4UIvQq5D+kPUBTEFNAThhNcFocRLAwXCswWERMaGasR3hNME8UR+Q19FvoSBgsCDU0PgBLSFG0TwxkTF7gQ/BX3EeEVtROBIK4h/h3dHOcgdCvuKuooTCjSInwrOi0OL10qODDvLF0tjyXLKx0pWB/DH1QmVR/2J9ol1iKXFRcY4yPaIw4hkhc6Fwwb4x0PHaofkBw1JtIqyDYvMWYuwyRFJdkX3yS3KVYmryMeFfcbjxwXHjAh6RfDFqUb5CR3JroYKxpaJngqwiYJKcYt6ic5M4cuLy14KM4szCqHMJkyIzQaL18rRyZ6LUAvxTSmK7kg8h6JHXok0iElH1AcxhTuG54ZZh3TF9ITGRT4Dr8VECASIYQcZRwgIe8iXh9mI4gevCQdJJcgQhEHGc0XDB4MHisYyxXcGnQb0CbNGm8g7By1IEAoRCd3Jt8f9CbGJ/ApQiIHGycfrSJEIuEgSxk/I6YjAh+KJQMdzxdmF40hshZEHNMa4xsrHE0U8hbyIcYaaxjzIOAcDxqoE8UgfRnWGkgQZRPIEDMKPBc8B/v9mwKUEg8NjPvY533oJfy3/e0Gc/5E5tb44hGHDTENx+3e/gQKUx/GEk4Ex/mYDlcNkxE/DDMREgfEFQwOFgvfBaD/xgtmBOQEnv+XAED/rf6O+Tz/vvgQ93v2FfdQ8+T1awEYBqr7zvqZ8Zf5mAQTDVUOEwR4/1YG8xY4HY0GEgJCCjMRAAl5DmkENvgG/df01/Vn6anbz+L36uPr0d875orvB+/b9Hzu9fdq5bzt8A+dEZAX3BBUEBUOTA83Fx0iLAzzEikV0Q+jFcYinxkPHWwSYQ1eAcAB5xBpFzkQ5Pz4+Q0KGxVKFRgQsvvmFbwaZRyOEiQA2htKDHAefhyED5EgMhy9GpkO+QQnA98U2ByjIq0JPvO2B4kapxmjE9n8bgeMDd4QgA7L+hsAshWDDsIQYPZS5zD6Zge/EKXn7vB+BpMPyPxpA0zzefxGE1QX7BxDC6AH7g5BDub0h/Vx3YPxGv/L8THlIOdl3gHqW/S83mHT2s1c0Jfe0ciFzqPBXcA0z2HaEdjg0qrWzNKb4ADQaMlwx07ArcdxypmxPLM+tQ+5sK2NrvGt2bRSwq++xcYktAi9pM4I1RbCRdMh0PPcaNkw3WvRqd4U4tLelOPd22bOH8EV4tnb2t5KxKnDONDoyOnEUb0sw7rGOszsxETGOrXKtQG1U8t3verKO92L0LbWTcsL1xnS2t8Z4orU7dsp6UzjAtjO3rDoVfb36+jiDO/H75/w+/rB+f75kgU6++n5yf7W6oPnw/pw9grrYe1e1Ejjhfx5/g4Caf8e9g8K7SDXHwUIpwa3GEsX/h1XA27t3/jWBgcKjfxN5nrdU+3A+r3scufZ5v/p5wwAB4PzRPX2A2wIBPzKBbX3tvs0/Sn+SQIs8KHs+uiJ86r3YOmo3h3R0t4x2KHhGLvwxQLFIsuEx2uztb0IybrO78l0x/bLvsi92sjdk+i68lX7Kfnm3p/84vlACpf+lfIP7jH53QZ66Sbu2/la9xoMWv/B+mj9PheEH7gTpwlYDWEgvxwjHqwODw/YDrcdFBx2GSIoICc1GjMkiDJZNPoljDV2M2s4UT4SNGUk3CjCMfApXB8UGBwPah3CJBMfZCEkDs0HYwqIK+oiiyoGMIQpeDEtMEsmCSy8OYQxVCgWIIUTJBnSHXQP6A4IA/z6EgD0CboBxAaIGv8Zkw+vDBIbkRsfHgcsFhkFF/0LmAPo/Sz3+wbFDIH3ZewZ6xXxCP77Ah8FyQWpC2X8pPZJA8wGyAMmA+oF4vzVBrD7+QSy+rj41wu1CNcKwwyyDsoI2wQJFWQNV/4nATv9SQlQD+wZMAxEEYkityFDGDYQ/g9zMwYrIx+tDtwJLgj8C6IUEgHYBwsWtBL1DEEJ1wuvH2orpCdvH2MgXwz0ELULeA1kBKkJvwBC/BD6v/TsAaISUwt6F2wSYxHnGy8W9BNcEVgb3A5vC9wCG/Pw8qAAwAHO7qDpf+Xh3z/r3Nyf37zcLdga1njYlN6k0wjcw9173rHnn+g/5lPgnOj44lbp8eNB3lDlq9PkzFvNNNWp0vTNhduA1CPhxuh66DvjIfPa9wjvnexJ7SPzUfvx95np3d9d24z3ZvvS8DXo9PEy/4D/nfwi9iD4FQaX+0D1sPFi+AXx1PT+70/vr/Jv6QHxIfFZ+oT5fvZ49wLxf/6B9B3uAPpT403me+8q/VHu++bF6XrmH/It4kHg2Ob18GLtEOUc6yTeEeaQ5N3jCe885tzZWNTo5uXuKe2B9EvfL+Ax3JrVItSd3CjkdeLh50vec8s801DQPezO8G/w/9uU3WLxh+u46bjmRO2u7RzsiORK5kHtKvKT8W700fFo9MLo+/Dt75/t4uiU6h/zBPI7463hIuZH7mfn0uAz36HwgPrh9p/0sfxaCO//cAVRCG4C1hL6E8wJC/4K+F73avZtBBf3uuQ96ovsqeng6HzpePMm+KTswel9/B8F8w30CsQMhgdoD4UK4QT+CO4RTginCwII+wGf8nX+lAATAfb//Paf9GX/avrq9sb2/frYAOkDRAOs8nMD7QkbDqYOqxY1DpIQyBawKS4jByFtFaIUMR1WI7EaJR93E7sV3w6vElwVXRnpGn4ZkRiAEzMJrhD6KOYl1CEsGQ0ZoBx2IiogIx8eLtIxsSDHH0YnKSrzHg4cjBOqHFwkURdJCVcQgxQsGsMXKhicDz4QHAzFFQEesRuYErcd3RUsDIoS0xBIEfkUnxRgE0oWDiE2FykTsRlVE5sOuQ5HGH4TQRhwAIUARPrhA53+9ABn9uf1evM++fv7JBD6CuQFp/hrAg4EIQNR/Gv7EQmWCvcGDPzd+nz/lvwHA64P8AsNCKIE5wUkAKYHNgX/C3QOixFxAbACiQjQDHogmRnFBusAp//XCxwQ0xPmAez4gwLK+5/75fbs+ij/PgEe/Xr1FwrFELgUyQqp+iz+3RB9DQv7zwInB67+PgPa+L3mtOvR+7Lzl+ld693jFO+v50HpsNtH5F3vWvBm6qniUuJ/+woArQGz+VDwqfEQ+0v9Rv7f+534LfOI6z3pDeHp4krkz9rF24ngWt7Y5Z7dOuV/2aDj9elU71HpN+qm8h/iTOpt8AH1WPkn/Nv2gO2864rxn/LE8nflGeUa5yPZOdqs40fYW9UM1LTRcdJs1zDWH88O1iTh+98q1FvPCcyX1znXJd443ADcvuB45UPjMtcq3z3xN+3O4/Dgtdxt4onkneS14YLmo9+h4TvYPt0561n2eer/6JPymfBV/DP3qe1U8+n/WP/4APkCx/mFBWkOGQtkCeQDzwhUCM0RKBO0C0b7nfB3+jr6TvZe77H8/P3n+Vr8JesI7bYGTxNjDCIKxQbJAMYFvPrU+vX0rPD96O3RX91H2RPyKOhA4PPjO/Jp7x/qh+HZ8kYGkAHH+Mv7LOmQ+iLuH/Ve+JPsEvc05Nj4qPZR9lvwAOQ5+Iv30fpu8MTnsvGk/ZUSLgdsB778CRHQCzsDsQfnCJ8Qawl4/MH6r/0P+iv8GAUg8R3q4/BW6l3zNv8GAQn03fRt/4j4A/z3/e8HsAJYEe0O8hhJFOcZySzRLic7QjsaNSMflysPPqYvMBvWDboXGx0WHSQLbAfJDIMbHh/sBSQRzhqQMH40ZCi4JwsciifNKn4bDSDAH8sdNyFNH04kYR1kKMwqWix5IGsi0StQMCgvESipEGkW2R3yHqESjP/W8I7xdAyYBDIAR+5691X74f22/9r2TQdNEJ8gCx+5Dt0rziiaL/ctBCvbLZYp3zaMOT4rhjYWJRIVBxpjGxIOCAlYFZ0QbRWuFOANLRL+GpIo2jJfNI8lACkEMIIwcC8NIdwiIy4LLIkibxErDO8LHSQ7HPYDSA5vBc7+APtuBhAEGAgVC5v3Lu6k9T/2P/nL/XgJvAigAAT6MwEjEl78CgooDtkPlhTT/Oj9kuEt5IvrH/Ew59DM49Yb2ijsVOwx4Rfcl9Nv5lvwLOSq5V7mH9/C9DDorNvO0Tfbl92e8z3qKuDI5VTbH/qVDEMNGxZWAeQJiw6BElsCOvRt8n7wN+ns+pz+eezlyqvXOefO6uDyUOPs3Tjp0eqk5s/u2tqU5fABAwR65M/VJN7j92f8Z/WB6Tnnhe5n9vXwwehV25L4tvgn+1TlcNze3+Hq3Oxh4i/e0euE37HmHOzeyd3QZsh16ubmudQLzejYdua8+GzwaNeozoDYd+Ob223EJMjy0UDaS+r6vpe8Wan91wHH/MVJwseqe6k90KvDoqrYsTjBW87+xmbEzK3suXG+MuG4zf/B+K4n0wTco89n1c3JidC+2y/Qj7vIxszRf+xb5t3No8MZ2EPwHfFI/G3zbuzG/r0Hgvbc9Gjw5PRWBofzEN5V2jXzvfAQ/KryUfcp7YIBMA1aDXP/+/9dEqop9RB5EVUN6gx8GtgPlv+BAGkUaw0/EJH4feMy/awChwJOAy77eQW5FqciwBKsDtQG1BZlFHwLPwfKAl79IvC26vftCfF76GjoE98T4iHhV+vk6Pzv8+os6jro7ufP6hHnMeZ54XHgeNLT1JjgitUK0nXT0slW1sHOUMe4xZzKp8W8v2i9FcuNxqzAPcpN1iHW0Nps1ajdZ+QY6qriwdIT2iPoOvA88OTkO+Vm6srvifbU+8zpoPUX9EDxMeou4yjyrPKE7gDai9jT33P1IfTr5zTrZ9VD1h/mb/SO9NHyI+mO6432a/PvDOMK7AzpD/YRkgiZEkkNKQ4aFpcLjwF5+Er8iQjDBEH6fP52/Pb9WwZo+sAE4A3fE54dCxsBDNoOgxQgFdocyQIOAN8MiRhVF4ME6P7ICMoPVxrJF1USsRcAHTcQ0hAvFoEPcQtWE5QNHAQoBucK6BKvEqX/owP8EdgTRxWIGhQc8hnkIXQd5iYGNKsdPiGkJhge/xQ0Gr0XVBHVFbAMsggGBJUQPQ2pCpIM5/8IEUsSlf4yDx4JZAbQDK4LAQhBBrQEOP7tBUsOQQbtEIoRChRsCRQYvxLyDVAaLBcNIsweCxIQDOATnyLxGmsbXQjrEygkAyBDIUQY9SMWJVYhbR74FzkbEi1WLBIfIB8EFiYc6C8RHGMUcw7+DU4diBdpD+gMixHhGgcMlQ4MGjQgfyDFLYMnfCLkJgMX+C/TMvYdiyRtKF4q7Ck3L7MoSS5KKcQoszMGJbcnSh/iGxMjABhPG9MZgRXGGQMgSxUNEVgerR84LK4mUhlaKrYmeyS5KbsshimvK9cyTTUEKm8e6Sq8OCsy2DX5JQAz7z1TNQU4LTnGLlcvJTSqMfAx5jKIJREucTcoNXU0vjY4PuVFHU1RRs1B31AdVzVMHUjeQJlC+EoJSjJBx0JzN4UyYzV5OpQviDB0QDk+9kSaO18tTDmJSX88xDtZSmc98jheOYc6mEFpQCI6YDsbURxCPz0qR2NQkFGxUuNC2D3MQzJQtE0IRXgzcDG9O8hA+S22KK4l4iWwJx8spRFqEzMgbiN0H+gOkgA5FZsnAw4JDKURnRUsIHIWOg6cBu0AIAk1E7MTlAVq/qL7ngge9rz00/RO8/X4HP4Q73jx3fdU9zv5HAE/7B/uZ++H7t34BfoV5mnqNPap9r/2M/Y69JYGOgZl/OX4WfM2+5Lxk/0oBRH+yAF/AYcFGg/8CwUJERjUHyIQOCK1HSgfuR8DHS4k1TWXMS8o2DCANqYv5TVWNjo4XT/TOrFDDTnHNzU1tEhWRqk2+TRaPYdEV03EQgs9uT7ATkxRiVvNR9REbkU9TUpBbTtpNTNAekMAONwreik4Jews4C/YIZ4f1yDlKGQq0yvhLpAq5ypKKdgoOzIKLtgqIjAdNJUUIRj4FyMg5DBKHv8Tzw6CEBQVqhqIEdYMgxTVDGcHUP5v+iUJWwH+AN7mcOBI8An4cfcJ/Xnpz/Ru+QL3XOjT8nXrzPqBAnbyMuyX5HTvHOxx6rb74vFQ637pB+eN7Zj2+eOZ6Rb7K+5F5/nkPtw45OfzpOri7N7ke90S5Mjy/9aE2I3mBfQA9UXrLdak0N/lp/yR7s/j9NY25c3/AxD49njuY+wh81D+1AEn8zvy7wTwAl3+0u0i5y391Bh7BCH+0vWi88QGtBOM+sz3avZd++UEownY9Db9JPtjEQkRpw7b+Pr9GAwLD2UTkgGT+QH2U/al+9TyQefE6JbnHPrj79DaydpV9Efldedcx0zL+OBk3lzXC8+tv9DNOtMkycPFo7p8tCyzucAcwqayaLjAvwvJw9M6xsTLidix2b7GnM011/beld+kx2W9IL1uy5re8d+yzgrBtLmQ0QjH2svaxUPb4eRt4s3BNL3+yJnb+eyd1VDFE8yW3nPmdtbc2cjied2Y6mjb8cPc0fXfteSp7LLfL99i13zrV+Vx7nbrpu4q5dL9yd2r0T3Ybe0m597jKtp2zjvdS9/039HcVuVd3Hriftqw3zXhu+q88bnzQdp40ojh69iG1nbStstj0InPVdDErI+vqr4szeG9PrEKuUSvibkIzEDQs9Ma0MTZA9ao2v3cEMzC7iHktux/3snHw93c7dP51dxo3WrW8++zAQr3oNZD1Ab83AEJANr+Fdc96kn4IeQf4AfYDuis8WzsD9BIwLzfHvPP+870ZuOh/3X8ngqRFakDbw2xEIcRZAXdBSsDcfqRFf4NeAxH9jv0V+8wAYccuwfi/Sv1zA6mFyYWog5aD3UgxCOzJPQRzP1bEUAkNA5OCPf4Mecg8PUAOv09Bk4QCBlt+lr0NwZuCwIQEhcqE/kN4RExCvYbmSE3H5oPVAwZDZgX+RFY/ir6QvUC6v78XPi03bbqFu1rA5T1bQHtCOAcxRv5HGMs/SIYHlAhyjtxLmwvIBx6EnAcGA6DEdcLqQNeFq0P9R76HNsfESzpHwImgCQwK2w81DJ/LOIvrjV3N/w2LTV6M9ste0ATO1U6XS2uKdwfjCAbJg8sVRt9EWQLzhMQDRoMNhkyF6wTdBChGuAUnBUUEN0MJhQlDosrMS1/D9IQUBmCIOEX7gxQETYkeiw9C+IEZPMeCXANjv4z/HrrUPLr4hD8ePuH/SoCEvqd/F4E+A2R/P3x+vN69moAavnx7CvpuQCl+0r+PQkbCaYdrSX0HgcbGws+J94xLTyDG0gLswHB7ffyoPI77EvovOhF6XL1W/W76F/tfwiJEIwFPvEY/UECtRIvF5UFVvpk6uoEpAdH9rfly+7X/OQInAmO/jbl6esz+1wMAfa16Gz9xAD/+J3yAu8j4er18gTABYvhr96l7bL6kfeB+wz0xvMA8yf5A+zc5HT9xgAL/mTzIPN660DxIvAf54bbEeg28Xf1peEM1fHYheEx76Ho9+M/1ZLSvszE2dXPksQZwtjVX9tR2XnIcsZaxqTgcO3P3h/OsdgB9zQE4Ajh9Ofxleru94H9guwb023dC+qd7SLjxduK1OjPfOAr56bzI+0j9B/3KwPfBiMJkvhe/y4LsBG9DPkE3/pl+7j/lwZj/7XyDvdO9kH4CP3a+fXk8eB/327ez9rE3Y3QJ9AmxrTIMNIQ3DvkI+BN4SPp8f/L9ZD18/y3/yL8kP93/8vzo+96+kj7re4B4crbCuAZ4SPp/OGJ3UXdUueS6azqrPC/6hTp+u0C94D7mvofAHYCmAb/BU8MWA01FcgZXRQ8CrcLNg61B1EEvQPLAUsEY/rg94/yDu4O9Pbv6eoS6z/llvOA/BD5zfEI6p75+AScBWwEEw12CHgSXBd1F2sYYROgHOwURyM9F0cKMAogD/QLagVL8NT40vpE+WMCdPa/+y33WP4/+Ur5aP7+CX8GnBfeGOQUTR72IKkfYxoOFCAd2Bc0EYkPdQo/C78LZhDwBxAJfAAH/y/9rwuoBvv/t/k5+1P8EvcM8SDyJ/Ww9pIMQfPJ/hz7nQrBDFENkg4/ERkXeSRqJugOBwVsA5QQWg/T/sfxp+eh7of/+fm8+Vf05Qa6EkwL7QnNAb8L6yBsFrsW0gwnBSoaeRgmGmMSbw1TEx4huBdbKA8TQR3IILQXXBf6A/8LogIs9HDznu145Vrrb+sp8Prl5+Y27T35DAQUA5gB4fv8ALYD3ATD964DngkYAJICG+84+Xb+EQFBDGr5xv+YAycKWwdr/mLudPMg+Hfuw+sz3JHmmO0w4xXkyOfg6Pj7C/w9CA4J/BGIEDEOXB1uGHMPaAFlB88KbQVG/BDx8vVO6iX/KPGl6wfrvuo7AsX9p/0L9ZLyCgEe/ZHsTuKz5iP5CPp87WnhMeYj9Gn9+AIC/HIA+v+MEXUPJA3gAKH9agtTAl/9K/eO8SP9Lu/57cHhGOah46bj3eKJ8Urxme2W/4wAvgqnBsj5bAY3BY/+IAZz+JIANQEK9qTv2PIP+ur6HftO5aXpO+Ed91ACS/9K9f/ufwEhA6L8Eu+K7CX9pPlZ8+jZ+NuQ71Pt3Oye7+3wUvXqC0oUmBtoC/wQdCEwIRAgmRv1DV8WhQleBhMAtPGP+p7wxfFP7M3pxuSv8OD4GgKvBnL/DA0UFMEaURKZB4AO5g4EE70QcAdSDS4F6xUwEZkR1gtQCssOZgxA/sfxEvdKAFP5KevT0tXh4e3i8dDwDOVR6T/zQQLI/kQAzQp5CsYT/Qb1Bf0BEAFiCG0H8wOwBPoEQwteB30QkAPh90zrcvvLBRcAGvoM68zqmPBS8Gri2dfW7hf7RfvR8VkCdBMHIHIq3CCEGmUPrR4YK4IPoAU6Bu8G+P5a9Lnk4OKM7B/pmuvQ5Tbn4/Wv+/r5B+3B3/jm1/16Ajv4UOKQ3W73iQC79Mnnhtmh6631FfEi5n7nHemI+fr/Uuy+6e7sTvuLAvn3dupl4dLrDfR5+YbwReyZ9D/uYvHK7PXri+kc6977ZwYTCEcF0QgvJe8lbhcJEKsMYhr6D/gH8viR9MH9AgeY+4DnROyF+c7zFQEX+6T5JgCYD7gUNRIGEX8Mdh37CBIY/RcbF2UeNSYFH2Idgf8lBZwOCRyXL94bNgTn/QEgchUQB87xtvvRAgIELvqG5V/oWwThFRYMa+1J68n9ogFbFib5IPbK6rr/MArRAw/r8eoj9MrzwvcS5Y/fQ/mw9v4A2v6S5Xvw8+xACqbxJPAA5XnfsvLS8afdvd1r467b69274UzjuelT7I/z/QJn9L8AUP91+goENRO6GhD5eA6DFDQQtRCO/g8VAxt3KDAisBWyF7gSUxrBEdEL1QA6Aon0AOUv7ynbnOvL7VDY99JK1VPTPde13aHg1uut6q/gs+nZ/NH1/f6bABwHiRSy/Ir4W+vuFgkOxOwm3ILLb+CL/Kng5Mn01UjfR/S29ezw9eP28VMPCh+LEMj/wfYDGrcPNQQ8G0sKS/WyA6zxfPVpDM0A8AmLA/X6W/CdC4AlGhlHIngCWf2NEV8bzCZIJZYZCxRhCQAX0R+fKG4rghOkHaMizxWrFcYUJxIMJVIi3xrPHZAcRwhLGZsw5i/pNlAmIhRwG8omUyPZFCEgihd6KswF3e/65wbsJxRnC+YA8O538qgP2gCH8m/o6AO2AFgNsA2K9qTspfneD3oCJez69u/7Y/9++kbi8d7Z3Kjf0uH05X+6HcW9xbXrxvar2TeyZNhu7iji/9jkxgrET9N5zKzGfK87r668isYFuPOjoreFt3DQzsZPwjGtpM4uyiXN9sk30H7GS+Cp22XT3L+C1fnX/tMx01HFh9cG4JzY6cTt0f/QX90Z6VDzAeTh2ifmqu8nAZ4LL/5PAaT7G/9T9PQCyAehEZQS7wRQ6NT2fvvrBuAKPfRp50X3x/Tz5e30H/Lk8qX9Kfsm20zlGvTGB/8C/uUq05XLge6A+mbm1Nby3pjlX+jy0qLKaMvQz4TV796oze+/9dJR0I7UqNzAzuTLi+Aj52vTqdJW2b7Z/dRc6trbzcZQ0+fQQMnpv2XMJcS4venCwsVkvD3AOciQ3NPUmMMpuznC7sJcyq7KbsZsu/u+tMRuxKW+370vy4XY3tV+11LMHM9HzaviJvNh6MrZuORr3wjeCdHJ3AHtV/OA6LbnG+zE3WXl4enr6Tny3fr282Tm+NpL3/Lv8vi79Q7wWvFD8nf0oucF62j0BPuKAUX43PLd9aD7YfhfBFj9fQXtACv6M/KaB70LiAv7BaYKqwOyBOYHpQZD94T31AV7CR0L6gnZ/VMFvwnSC1EIcQcsAtkD1P6VA4QBbQPICt0JAAL9BMASFwZGA7kPixw7GBAOkQN39//5OAsOGs8Ka/rO9zIFZxSDFUQG8QcqG0YlZii3HJAS2B48LnIpKSohGYMiriraOOA3KjMnKsovuToENnMuGCkzLY86ezg/MpQxZjMHMBMzdzTcO5lDTEsCQf00DjguQs85CD8rRoRKAEA4PmY8PzcTOyY7oDrFOLg720L0RKVCQkYgSpJJwUk2RHE+qEcdUy5Nz0K/QmtFk04eT35FqEchTz9Y012JTf5KBUsETaNMrU6tTmxQGU0uTlQ+Mz2ORx9OM0/6SidTh1IoWvNYIVDrVv1c/lxQWgxJrkDVQv1IUFI5SVE7Ozz5Qi5DkUP9RAtCTEFxTb1QUUcpPt87DEmiSz1Ds0HUN300jzczPyY/JDjVNiNDU0QINoA4HTIWL1Eznjm2LiwrSCk3KDsx+y93LDYxuTbdMyMvdywINB0uqzbhOYs8bzVtOgM3EDtwPlc+dUGsM4AuHjSYLzooqDEDMsQuoyc3JlgkGCaaJrslayrDKukofCgVJh8hhB9qIWMomhzhF3UX2xkOIu8cBhUhHJUbMCISIs4fKRlfHksm5hnjFsMVrxCBF3cUzg97Fh0SQBE1DSMS3g5iFPEc3SFIG8UYhh4UIQEfFBdaD6UYCR4rGb8VBhOwC8kTbRbODX0DhQnMCloKRQPS+p/w2vfi+k3+X/zg8O/wNvwIA2wBtveq9PzyNvqD+gr7BPg3+gL8Kv4i+aL11fJj9sr6uvrN/4v58+25+1H5V/Y19O3oBfGo7OnsH+1U7qzzhPJR7C31wvEZ/1z8FwIUANr0ofd/BgQNiwHC8dDxCfp0/UcBXPG/6ZjvP/XZ8+PrPept7cv+pQkX/K3o5uTK5yrxfPIX59zb3eCM8cvvO+V38R7yvPR78Hrt2vfZ+7T14PXF8l/1BPUE7NHk0OY562Hqm/Pp6BHsSPTV+mv/CQCf/FoCugpTEQwHcfd+Arb7/v/r9wQAAQNYBnf6svZE/vIFmP8//K4CNQN0BK//wgSs/8H8iQTIATf/3vVh74P/wv2w/p73UvKg+7ntgeu67U70pPe38kTwifIs8HDyTvPi5jfs8/bT8ervlebq54bhHOyS9u/xs/Ar9cj+gw0YD2cQcA32C+ULBf5JCu4JtgSA/IwI4A+c+9LvWP7hBlEZlhfNCv4WZhwEHw4mGBeeH+EfdRyKIbEfMxY5GZcZJRxNCfwGTQdlFlsbixqsEFYW5BczDlgHwQyfBq8D4veZ+ikGmwmX90vvbf6H/y4CywOKDKQWtBOkFoIRHRWFE9MZsxi9E8oQjgQcB1sI1AZXA6sNFg1bB334MQhWDNEa3hC4EVAJqhmDMaoaiRGSKBIqryHhGakM3wx0DNMRfRcTFc4g3RMKGdQa4RwQGn8YzBLGGvEJYAL6+Pv61wKe/yH9mu/S6vH3MOZp+3gHdQqZDtkWOQ4HC4AGqhmNI1sbNhCCAbYg2grm+QT+hv5oAYgJrezj5rPrLwZ1CxX/QPUx52Diiwo9DTf6y/0b+LcA3/fF/L35iwPbEwwOkRALBH0SJCbmIZ8TOx0rE4QP1P3x93j01gOiA4jyLub+8tr6g+kR6K/xiwdGAv/pDOAG6n/7dv5O5q3VB86L72LxXOW34W3Vj+1ZAXrus9tl4kTlC/Un79zunO7P4ODdYN+329jm3+kc7W3mQu6z+M3x3e6j7uX16eHW0xji1uY97pzw0OLy2VTZo91c3ffmKuTv4/nHV9T/6J/m9evc4SvdeuVQ5NTVBd014fPfmPNI8TXcB+o92xXnL+Ul2pjbb9Eq3zHTkt3J6EbXtdyw2rboH/Th+WH91P5f/hgS5f4U8i31yfszAX7y1NhpztTZcdAh7xbPAcVSw6Pcx+oe4DDdfcd55+j1DvuW6lHtPuqt7WwBnfR7457d0uo/ArX6pfcS3MfzFQLx6nHrl+JW1gfWJOlX6EDfzcNm2AvwSu+y1fPcqOQP+fT1hu3w5IDlM/xsCmQHH/WC6Yby+frA7H3eq+SB6WfyCueAu3zKseHU5qn/EdySxVrNONv55hDmItf8zPvd09si1xPS4dbK6b7q0u8O6tjXjOeS4+HywuKR38Ds3/m8+5Xv8O2z1U3fx/Vi/r7yC9YV16/kpudJ8BTkYemY25Dqndk44nzwEelM8xsDVvHwCoUADRWcGEEhYg/OEnUN9AL5EfUeHQWw6zH5QPT89FH4EvCd5Z77ePZx/Tb7bPJv/XkPtPrg+wz1OAubBaINmgJjBWQmJikRJqgZIwO2DvglcT17GVUYcQ2gAvkVjARX/4DtMAsUA1IFruv11zXwX/j99qD7mu7u73/8UPoQ67brb+kA81MJ6fwa6JPspvMB+fvxM/cp8hsAZf8AAOX5eem5+dsJDBUlC9wSBw9AF5EXACi3JMcjaRp2BYEalyF/B875fwfxAFb44wVzBwz7rRKVFXAQARWAKpwkqjDhN2s140EsIg8pETS7K3gtUDy3FesIPxQeKp0dcSU3Fd0cZRwHKa8styydMkc8gkXOKCMxRzVtPm0+ozS0IMEorSMrK2gehBS/E6wVvwwzDLcFSwL6DL4A1Qu+DBYKcQ1NE8cUKAkR+2IH0QVNDp4GufDh5WTxBvRP5vHrTOON6XvnmuLg4wfc3PA/9yf1N+mO5jb35e2sAO38+O6T7YEAP/6m8LDtAvh2+az0BfamAdD+SgBzDOMIEAfLDYsbVBFKG8sRvhm8DIETJhZsHI0ORwgWHWcaQxagFIESxxezIoQn7BnjG7MvmzbqOiol9CfTPTY+z0MaPdAyiC/pNzg3zTesLSYlhC1vLLguXSPuJ8ssSC1SIzcrDyWdNVU9wkbSRow1OjdYQHFCvTt8PC05cTLgKvMvoxnxEGoWJi2tIpAZAQv4CEIWohgtD18K4g+JFCMW2APp9tD41AwnCacPRQpD+nsCOvtV+ssGwQsSEJYR6gpx/ZT7gf8WCicbJhETCVL9Yv9p/9/0Dvkb9bgDwAeg9uHos9/q6Qz3hAJv8J3mV/EC9cf09fB77L/uSQGvBdT4suuJ5BrwSwDx8hzpO+m87ErmGO2C4ofmJvaG+fHueegD3z/aXPBw8XruseMR4E7d1uF53hHXb9dD8OP2E+u73x3YSOl//Z78NvCb62TyOP3n/FLvBuDa5ir37Pk18EPaaN3h65b1WuRZ503ghejx+DD2bOTq5Lfqhfkp/dXpd+T65Vbt4/HF7j/p2eYd8Un4j+8Z74/rAPN6BFoDCvYQ9fsB9AgICt/8t/3W/8gKFg2D+Jn0/fWhAHX7WPO07cPwTfrE+wb62/Dw7ncA4/sX/p7uPu+z+fH9rPb17DbrpuCs5pDnUd952tTc/9vv2jrS3dGb0QPaxt+y5crXc9Kj0wffOdiF0VzJR8th0zzLUsU4vv27NsFxxJrD4rtxtBC3UcFHtmyvI7rOt5K7ubWntHu0S7N+tbK3BrfNtQyxpbA2qNWiTK4ItF+s3qdipIWgj6awrN6xvbQCrUKwy7oPtR3C57PSvdbLFcPVxq20ALCdvg7Lq8l6s3KyabrBwl/DVcTWx77QYNbL05jWIs09za3faucn3QXTadZo1cbPSNay307avdad3RXbDd0s1oLmhO4574zxbew+8DDwuP6M/OH6nP379EcA/vsd9rLsVfggBCn36/g56wXoyfzp/X34DPOa+14CLBQCBtP0QAHZBFgT8xmUD0L7OfeC85T/Cf1G7FbwqOrL5pDo597+2T7jEf3qAAD0JeTy4gn1//s691DzDeo55oXnNt9z3J3e1utR7aXiZdh+4EPpAukL92nvWOwB/BjzF/2/8zv5yvwK/TT1OOna7wnrme1p5UTrIueY6G3toOPK6Mfw2efa+rHuxvAh9Vb2uvvd/98BIfUX/ocAJ/uc+w75M+qC+mUDAvY5+n368PN9/kwPFAnQA70SVQ9NF7ISoxEaIAwVDxwNH8QbmhU4FRIdVBDMKg8jTCLcGIcPIxcQIjgiPh7/Fy8TnRLpHKgd2h0tINEdPB3IEiAYAyJGHWUYuC40K1IiWBZ4GFQitDHjIZwaHRP5BRIb9h/nBBcN9BrPFuQWzwnuCKwYkxInDroKag60DLsY0BKLB58M3BYxHS8g/hIODlca2iQODUUemhjtEVkWrg3OCVcMgg/9DiUPHhUxDikOlg0tGgwdhCE0IiAaRx0TG+cbPxl+FxojbwVKCDkTpQ9NCQQKiBYaF2EdJhrxF3Ae9yyONDAwNzPLKSMkJjjlOVA+th0dFhY/TjthJMUSIByRFock8iJUAq4InwSrCxQccxXHFi4TeBB/F3Aweh38EVEUxhcuHrQGC/jG+Cr86gtUB6D2ifbA87b91gDrCLgN1BcLDdAaZBxSHxsWcyrXHO4Rbfvv++ESBw0V+/T48fYL85H/qAKB8xMMSgI+B0UA1vwnBUgDDgkWCU/mN/4j/MH4rO6z8RsCugT1DpvvmOy7+qf/0wHP+pHdmOo4AX/j6OSI4Cbknvg79m7nr/Bd/yv+KgCUDC0hwRI3JuUa2hiNF90aJQ9ZGvYI/fIQBPAZ+wh3C8YExRJTBskFQBUxDs4fDA0DGZMTRvnj/lf9LRPiExL7aOy0+AEGkPwT/733sfNm77L2d+ne+Wn/IyC1EE4FlujJAIwKlBZrDxYJ4QH/+OkCXP1xATb2luu/4+bdxd415MPYZORS1xbrf/Su/kvf7OjT8oD3aPDJ7zz32/VFETwPCP7m9iYOPSP4He8FWAy2C9cQERrsHr0CSRC6EiYIkvqg7v7sH/ip+Z/zru3o7gr9xPgU/7P17gb2CaMMBRtUHqgT3g8wEfkJ2gD4CgISeQtHCiz6+fVR/sjyuPROC/IAJOwf7rjrfgYF+obzQOtm73P8kfhE+/7uBfArAtcCfAArBRcD/AHXBfcJAPst/Wz1jwDW9Qbwn+oj8/jwOvjF/tv6wvkDANH0NARSDAEJ7QMqAvkYDgfSBQUAoxDsESUSzA+hCaMJ3Ax/FekF4QgKBAAQ/RzDDKT7UfUfCGMVjgnPDuv42/i9C40A6P7R78j9WvYc+cn6j/psEIgEcQKQAsIBIw/6JOMbiv3LBBkJywztDJEQzhQ9FBoRphIF/5QRWA2lBsESPwhkEpwXVhFBFOAUWvsv/j8JeBBRDfkEKf80/LQAuwaq/3ACIAUj+8IFlxEHDGgE0AAcC8IRRQqt/YT5jBDgCJAM9wPx//cJHwuMC6IAwvqL+7oKDA+/B5vxlgHtCEAEjP5NAzn7BhT+GbYP+AljBcYP0wyxFswI9grkCC4NyxIkE2ARBQT9CfkR9QZRCokF8vtTACoFBvh6Bnbx6Pa6CLn/+f6OBdcLRxj7EmAFIgcH/bUKt/5jBgz4a/bP+kANJQts96jyA/BwBXsF9QXU+V33rQEYA4z0Y+Uo55Hyjedd+UHnWPTy/Cb8Kv6K/fP85QTqDD0a5BROA9MDZP8oFFcKawl9AED+VfaoBQ793POm+MABjQCA+Zb4qurR7+7vjfEQ/vL1ZfEp+rf2dPS69pP+PgRHCz0PtAcqA28LaAa3/GkFoQGtAuACDgVtATfy5vGw9hr/QfqgAI8HbP46+d8JBQf0EtcUJxDACM0KGxeREvkRgRO0FHcMlBLGA7P/NwIICNIFcwAtA/365P+m+XX/JQGL/LX8bfwA/l78IPgJ8nnzdvqeBmv7v/VH+Y/65v29A4UC5QljAakEMv3W+037ff5ZBqz/q/jO9Lrn3+2M/Qn30PcM8HsAXPH+9x33cPYj/TMPZgkeArv9YQEYDDAAQQdODGgFjwoUFP8FofmG/E0G6gcFCUsFpP0S+gf+nPh1+jD/fASX+OD8fvzR+yb7NQIZBiUMQgQCBL0EpASmFyAKMw4OD50OHBBSCP0H/QWgBHMJ+w1PDD8AOPwpBA0JBwNOAzYFyAJgBvkGDgg2/mIEfgn2Bkv/aP3KAxAIFQLaDZUIxAD/EfAEGwJlBt0PsQh4BAEDVQVx/YYC4P209vQDLAEbA/b8Gf11AAf4GfxyBl0Af/Sc9hkFifVE8OP0Gfq0/t4E3wBn/CX7TvqfA04MXhKNBqsCWQkeB+IF/QRFAXUHtP8GAkv+J/69BYoH4QZoAbf7zwZ/CmoSsxbjCjMC4AR0Ec4Opf+k+eQHxAIwC27/NgAo9yD+2QBPAv3/ygVfDs8M+QUYAhYBO/2JDSkKewXE+7/5YPTM/UQAhvx+8hP74PlA8Bb07PDs9JUEHwEb+ZLuDe+s+gf62vuN+Af/cfyRBzoGAv8o+lUG3Qq2EqgJtQAJAsUIuAxS+O/2SvhV/BP/oP0J8oHyLfXP/5H5yPVA9cfzfP05B7UCOffj+T39LP6OAGX5Hf3iB9YJ4f7H/rr+Y/OHAeMB3Aha/0z3G/al97Dwa/Y27Qn15/P89ODjadXI4R/55/V48lbw1+JY8LX63gFj+18CsQJXAwAI2AL/8fr3ivyMAPL0dvKa7JXl2uly5iXhyd768ZT2HPRp35zqcuyp77D45vyf+Ez3ffWx9CDpQvVq9zb0kfth9BP3mO8J+t0Csfyc+RwBcPy3CgsAh/5NA2IBNAE2DcgDJgdyCwMNzA98EUYNyAFFDdkf+RuiEQQYUwz+GEshaiFJDQcdIRvqJ9wobxSuHncqix/UJRgtgRK9JbYi1yV9GJwSjg8zDt8aGRkIBpUMeRP/B8cPEhFvCSsGOQqZ/fMFlwV5CpcCMPH49qAHdvS58C39TQY8Bx4EyQf5CGcEHQgJCa0MKBDoBhj2KAWP/+T9uPdx47Tc2OvM5ITsgOYE2iTqM+fq7d/sTeop5Vj9VfrV+5bvrvbk8tL60f9093zrBfbF7xL70fv16pTx+vJc+b/n9u3V7tDvHvo5/hb6sPkq5c32rgjNAx8PHAN4Aw4FdwgBFrQMJAvKFDAR8RS4IE0Wqxs5G5sv4hgwHa0OrhvlIiUg6Ae8+jwF0gjDFyT5PPah9JL6wPfDFhAXbAPKDBgNRAbmGC8o7hzJJGohkBzWGycbWhUuDmAdogzrDlv+cwOC+gwQWfi39trm+e2Q81337fEc7OPysfQg+l8ACABuBYET9hG+AQUKVREAAaAKjf117OPuYgq+/Rj71+Yj6RPlY/46/GgPqvZF9c38XPya+Ab/eAKb9In8c/HR4Vbj/OZN6Bzq7+543wvX7OcI707y3faJ5x/ug/Zn+Oz2Guvk6DHwru4n7zft3+0t6HzmhvOw6Obrge0t9zLx0OfY6nn53O6z3uDkuOoK5GvsPOhX0KjjNeJi5HjRwNFO0krYceJT4Krk8OXe6n7xPvJw6bwCoPUx5G3fGuti7u8BhOlz5d3YLttX19jiHti07Qnuf+hZ5WnkgvDv/y8C0wUuAYj57fSn6U/f3t/96a3hlt0s0JPMIMM3zTLRmNsY2FjQo+Os5Ljm++jA84n6dfls6b7k9+Xz7fbdQvIK7aTiXvcj+IvrKvFf/Pb51+/V7RLoze6D7RTqaPBP+DbxK+nt9zj3OvrV80cAfQTA9w77lwHP/cDva/Zw6p3lAuXD13DuF91d3gnlFc/t4tHcn9gF7n7offS/9APsoOfV6k7sQvkh9bjaZdmt7vT3N/nR7lL6oflc6y/ypOh59Gjz9Qf5++nv8gCt/NMAigN5++Pzkvlb9975+wJM7gLrAu1P90zxod1W50DiCfDt6hPu/el68YzzNve2+IXq+fBFA/YIVvTF5aP4hwaTBejy3+gt8qD4WfoO7ubpgega704DKPGw4lrrl/Q99w70ausu7fH/mfox+wf1GP3kD5oQmf548joOsgScD7EMcv0BACIN3hIaBef8PhHVG/QU3v6gDNUP0RFCE2EMqhBcClAafBU3CZEQjAw6E3UY0gSmCi0FsgDBA3cAgPejAkcR9wmED9MbcxJSCvwSAxl/Hioe4QwMF9gaHgWODRMHqg20EXsL5BGED8MP6xM5G6US6hCxFfgSHh8eF0wOhRhwCx4Q0f8UDFoTIwiBD68I/hQUCT0L5BAWHJwyvA4KEyERmhTuKkIf1h+QE5wuAB7LETEmXQ71HyAfsSE6JLgf3R3xHB0qOhr7Gd8hRxxkIgcPJBEsGVsXzxtTCZ4LAxPhGHsPRxLKF84XkxExFD8OYhD1B1D+gwweDmUK9QZ5CH4NDAyoDkEOARKSE+oGeA8cD78gWAw9EToTDhWZHeATFBvkFsYR0BAhIMsb3wwQC84J6Q0VFbURbhDaF8sYtBSVFLUOsRw5IQManBcPFyEXcB2WGYAJFBe7DyoQDw/DDj0LGwHkBOIJGwvr/jL8iQ0UEmkI0wjdBXYOTwpIC1wLvwfiDZsCAQYpCTwQawgv/akIXwFoCikDvP99Df8B3QOsA6YLxA3aCBsA+fyOC54DGwGZB7/8Pg1fB5r/UgmyCa4LRgfNESYSVRKJDQMGMhVGDrgLUwiQDbQI5v50DSYSQx9rC1wFOxB0EZ8N1AqhC9oLgwh9/vUBngOpAfP79/pnBbgFtgJYAz4B8gMFAusBlQdsCY/+PwUyAK//PAEH/kADkf/jBBEGRP4m+l75lgHi/7r9xwaqAT/5G/b++5b+oQYxA28GOwyy/a8BZAOBCWUJuwK4BEEKKwo+/l//SwQ5CFEEvQQnBbX/HQLW+20DqQIS/0wBfPw4Bir80f3C/2f+vf+k+yf8VwTrBcD83/qo/q7+ngGnBRwEygdnBjAJxgkBBYL8vADUDZkJQAJABO8DEQjR/V0A2wV4A5sHOQBPAwn+s/8/+if/7QG5/DL/TgbXBxADjfoz+FMFeg70+1cDqQPFAZ3+5v39BSz4FAQq+iAB2gAq/Mn86fddAiH9S/1//S3+9QZs/0YFbQYNCW8E3/7qDE0JwAgABUQFFQFE/54Ad/4+BFUL6gJ5BIMIrwh4ClQG/w3XDc4IzgvkDJoQIgNtA74IlAwKD8MDIgX+/jkIuwmeBbYKcwX5B84DKAjgAZj+GgWpA94MO/9SAUID0gceA8H+sRJUBDAL/gSuAlQM6AkFEbEHCwZYB6MJYwe7AKIIPRH3FE8JkgaYB9IFyA4FDnMSOwgCBRoPkwbJ//39ggtPDu0OsQD1/FIGAAl+CEoDigYEA9wEcQ12EIkMOQfeB4sX/xs2E7kG/BF+DUEGLwShBTULwAgX/s0AtvMs9zUAUgHNDNT74vtGAN4LCAUE/d3/PwVfCAj/QvMrAX8GmAZiAmgFVwRIAnED3fqGCjgH7gUHBsD8fv3m+/D/pAoA/eL7IvvjAz36RvVj8q76uv7J8dL3N/f2+2z7A/ix+Mb9TQZbC13//wfzAv8D7AMABzYRugq/CCIInAe0/cIBfwD/+0kHavvYAxH/8e8s/p3r0frE+xkAiPc8+E0FnvDw+7b38fwdA8L8CQATANAAiv3b+nf76gN7Bsf8v/9g/9oECfOH9H8AwQG9AJ/2A/cgAmEK+P/A+5sBTwqaESgQ/AlxATP65whODhAMfv0OAUoKCvVQ9pvq1/RZC84OkgHL/9oLHhJ3F/4OQhLaGtEfKhqdEAoO0QWQFhcFAgI1BgkDTwXc9t/3TvrjA0X+SAhe/TH3ZfZX/y4A+wBuAgsG7QEu+rL66gA/CdsI4gch/bzxtO9I/bn/1PxRA/kGrvx++vADnxNXAb8ZiQ2ZFPry9/8GCSMBoRPbAOgAROwE/7v9zPsABHQCrwQzDg74SguLBI8Ikg6PHm8N7RJhIgMhUBoYFjEaTSrkH6oWxB9PEWsGXfkwCRz/X/4N9kT0btwZ7zLqOfa4+D70kfqk8MTtafyQDAcMZyLoG+ESDxFiHf8X6iXOJEYp6hoIFVQezwkeCHMLWBSiA6DzPg0iCzQGlwxT/L8AAhMdIVYSuCDHHeUZext2F3EfDxX2DKsTrwlsBfgPFwYzC1EFVARoDVERkw5zHM0Hauz++Q4NHhNl/eb89v8e+uzzQ/Uj9+AIFAESAZAGoguEEAz6vxvWD/YFMvnC7SL3yvnGBT32q+518/3q4excBiHxdQfiA6YAtP7HCyEDWQ7gDZULdgV8Aiv9MQ0XAcr8Svj+9/QDUQUWC3cFOgpDBv4Ovg1aDq4GpwXiBDkWUhTsHLsUkw7wB1ANNhLwCdP9AQcxCAYHnwAB/rYAD/6B8/D4vPxo70z/TAyGC8kKiQkiCL0PNhbgDfcFGw84DlsZExhqFpsFvQQVC8YWFAik/ioF+QuTEE4TEA2p/XQCYgh+CW3/NfIv/939Mfhr+2Ps+/KU/sXyge2478XqUPJK8n3zK+Os8jjtc+Yx5RzrefUg80PxY+LN39rnqeMv6sXlQ9WO1v/XWdVpxHPPKdjZ2jvS1NGD3fraltUs5GbiB+lw8NzzzN0r7IneFO/z4SzUJ9MDz3TOg9YUzNvUIMnC1zHkauow6G7ckvip7qL3+u4d+TwGyO5E5c/gmO306Hfqr9tT5VvrEeTg+ijp6fFD+avsDvkj+WzsvASE8+38CPqb7lXgwPDR6ALtsPRt4nLc1+wY52ryz/Pq5SHlL/zCApz9Y/1Q+q3xuAe8+Tb7S/Bp6In6tvyM5NfekOqv5WDrPfMv5ALd6u4R7EHZ0OqX7WbvNPEh85vV/OLL73DrDtxb3Wvfw+FV5bfWL+B45+vmEean7PbevfXi/R3xNe1/9ebqnPnJAe3uv+1W7xzsOu8A+fruaObk+N34rvBq7YvlLOPo8Sf0Xu1B4wXr6uCb7oDsh+kc6yjpr+6y56T7w+Lo6ljZL+Jz8A/rhegk4Ofhi+tf5hfv1eG06Az4UPNM8/zzHwLU9oUAEPv38QH4yusW78HmqOaX8cbrJOab8fvrp+cJ9z7tNebA7l/xnO5z7xzx0fRW6lTwYerE9efpFvVp8W7pf+cZ9D7qV+nI/X0ANQV4AqcC2QZ2DY4R9wsi/6YDjP8VA3UMYQq0CJUN5A4+D6QOjAUUFn8VoA61D/YOXgzDFS0QbxQSE1gK/xCiCwkVXgqHCAUOqA2iDgMPyAijE9kRbQ+KDg8KeQvzCFgQiwjjCD0HLQskEEcKuBLoFMwNSguPDXQNpBneElUX5RIvD+cQNBinEAgTjhC5DjoZJRGfDN8JaBJKEjUS2RaeF5YRJRbbFwgcsRGBDUUQWBQHHXgRfwlc/7IPmgmVCfQOCgb9D+oE/gVICRIKcAelCNsLogafA1MIugTcB68IYAQzAOMMwAwiABcPdvzvB80JEAkeDYgKgQtuEswNGhBvC7kLDAyeCrIUjxCnAxAFBg0nDDAO+Q9sCbcMKQc6AOUJ6ANTAd7+CPk2AlX0ef5N/gEBlPti7p0EVP8WA/L9XPwxBSv+RQGBAcMBOwYyAB8HcAUyDkIByQLqCt8LVxDRBvUMOQvfDh8YHg1YDxIPvQsAFaMUThE3FLwTjA/hFawSsw3sEnwMVA4hC9YGVQTDCPEOowWUBh4M7ATwBSgIRwYfCUwHIgH8BugHhP1R/hwEQgPi+zH64QVMBG3/3v/P/owIpgYtA58Ngg2dCOYEewZFCRYPFAykCcIRDgwdBsgKKxDvA6r/LQ1sB6IErA6GACQKow8ZAT0MVAm7AMAF4fm7/8L/vP20/0b3qf4u+98Ax/+i+Tbzgf3G/Lrv7f7J94z0Qvb67Dz89/np+Rf41fHY/aDsMPZL9wX50vrM9Bn/Yf18+5/u0v3L/4P57f0v7+r7LQFx90n3evdN+dX61/h590TxhPRr7In3U/Bp8aXsOvM/8oLyL/M95NP0+/Fc7c3wEesu66r6TfOH8yn32Puf+ab5Tf/aAAUDdvfw+/wEeAzDAXH//wGOCzQJ1wN6AzMElv+R++UFwwNvBe/x6wTIDDsBVgaC/2gDBwmRBGQBrQIFAqj4rfcgBlP73gAa8kX1SQFY9g76nfEK/Df7Uf/H+w/2VPqb+T7zpfe08NYBT/DH/NsEJPIpAZf+1QpjCKYIZPyHBBcWjgRKCfQDG/y2FwcP4wbhB5EMiQ/7CBocigjOEpcM3hDZEwgO9A1HB5cWhw6IA9D+xQWVA4L7ZP9k/pn+GgI2/3EDiP6Z8kz/BwxjBPX2YPyx8CICKwIY+BjzR/b8+LP/ugBB8cXzbfVB+2z9Evnq+ID87PS5+8f+JfKN+cn7hvTL/B/zpvNC/H7xFPa58//yke6p7UXlO+zG6+rcN+cy4VLm5eQf6Jzlm+6/7OPo/vaS9KvwjfVL7XX5a/zX6f/7dfuD9rX2k/kg8uHwJgAK/OT6fPY39k72uQS0CXH8ZvoVCmMExg7cABoC9ge4DEoRLQ4J/Nj0ngFbBjIRSwZO9Aj2fvnMBH/yfPKjAGXvIf1KA+H1L/1I/ZwQBv+VB54IegdZBt0GLwjb/xH/ZPH+BcMGJQEuAtTxkwtED8/+kgtOEgoSDwumEkMGrvD8EMcO6wJlCdwA8fPh+9EATARQB6gHMQPTC+7/FfgwCtr/OfrA9ozxwPzg9w3qD+dT8oX9EvCl+fADBv3Y/q8E5QLy9+b7xvYVAf3/huLp7TDxQvCN9lL4nvh8+ij+bPYDAEAHrgC/CoQBOQV5B8UDuPZH9J30dAN67BLuEedM7KT3pfEm80vuufymAAH9rAdRCIgAnASCChgWOwZ6CLEPeRA7Avf8eQuAC1YH0QJQ9kruP/rz8OT39vAq9mflDec07aP4dw2rAUn3i+oB99gJkQVmB/v82QCC/xDzzv4PB8H/zgTMBe78lviRDE8New8S/WYQFwmYABQjKhXoDxQPzw3fE7YG9P51GcIg6hhCATUBdAi+HNIQLQlmEtQJGQG/AP0PrSHDD9UZoCP2IbQgBCZSJGYlUzG9JL4iMCvkJ/wbwBPQF7UjHxeSHscefSHAHI8RyxbpGKMpQSUOIoIZPR/hIgEemRWtB5IJ/wYl+fAMIA32918IIwQ4+H0MNRusETgWOxqQFGcgjSFQGUQauCNQEvcXpw0mDi4SkQdHBYQLTQBs+RL8JAZQCSURtBNp+xIeyhCGEXET7RZwDh0K0g3fFHMQSRLSDOEL1Q68EMQXZg/AGWIWVSFqLS4cZhT8GeUOgP03CVALw/wH/PIEAfhH9gL9rQY0EZcPxw+5FVMZZiJvKlsvsiraJ4Q2rSHvIVgO6x34GiQW4BaQ/f/5J/Xe9dICeQUuDMsNjQHY9qUA6wXjG2EjFSPJJagcWijwG+Eg9BpZK/waDyLXGmwgaB4PFB0mlxjeHiIQlhTxAVsWpxLGFWwZSR5NDpUWBQjPFoELPBMFDs0JgwXmBJ0DkgKVAa8EwP0q/yn7K/aJA8v6MgoyAN0QjQMFC2QIvQ48D/APHQRiFL4HiAE9+5QA/QIq9Zf+7fyt/jP0C/mz92YBmv6c/TEEu/G9+D4FafepAuf4bvrx8sf8Yfwv+5sDv/tjCI33pgK89Hz96fom9Yz9sfnm9VHztO1y9F7zrfIp7gbwJvCc6qznetxD9cr08vAN80/53fsd8Ef/OPUjANEOLQ8JE3wA1ge2AJoDXvi47er3+vXcB/b8c+6t69L2D//K9OXsavf1/m/6G/aE/jr9HP+zDVoBXvzu/1wOAABq91r3hfb19HDxOe8k6JXlcuaE4+nlM9+Y5mDsLO2f5p7sVN5E4n7kF+jK13bkWuJg6Oni9uG/39rSQ9/Y3QLYVNmr4D7hreht283hheLT5urdjOPi2/rhh+zA8C3r/+Zy30D5Hujk8V/g3OzY6k/1we7z6UP2OOu87JDtXeOH6fPvlvEc6GDxdPAy8eD2VuB06EXp5fp28fDpOOiH5cT1TO5O7evtIeu08Y/u3vcw3ef2mOrC617xsfX/8lX43vZy9dn3ovK97TT6lfOU+yv7F+12+w7vNfFy86b8IgYICBcFWv6EDsYDjQOOAEn3cwPe/8IRMv8N/dr6fwVMAXUEHvruAfcAn/qa+VL7Z/zFBHwEfP4TAw0Bu/40/rTzIfZF9l3/mPRy+GPwKPQK9PL3Nu3v8k75QvVG+vL53vfL9QX7qfo1+63znP5JAED1q/Yz9SP2p/Uq8qP9cfck7mPzAvY66wX5WPgzAWr/4foT/AD9ePxgAqb3C/WN+9H7HgAl/Ob5uPhe+CX0SQAA9TP+1f7N+MX5aPq0BFsABfvL/BUC7/81/xn/Gftz/7r7pAIBAVz7KwUhAc3+4Az1AqAIjAXkCwILiQq2CLQJJw+uBBMSEg3mD10S5weSFC0Fww2RC/0JNQetDC8JEAdjC7IGhg67C/ANjhQIClQGxQfBBzMN0gN5AoQKPgWnBtMHugUSBZMDJQDRAmoHqwOFBDoE2AJS97P0uvhp+W3zkfMp+T0C8/9U/oz4r/pJAiL/m/zS+3f5Afkj/svxf/SyA8L+gvwI/LH7JwA4//34O/oI/JICNf4hACIF0QAS/foFGAOP+ToDUgCWBVQBHfcN+WT92fcx+7T7w/peAxX7fPqo/dvyFwVs89b2IgG+9y/1KP6d9kjx9PTF7svzRPW56S7yGvT29z75D/ML+a/vRvsQ9MLomOcL6oPnzee871notOoU62fq+/QY71b0euut85zz5uyO9bLw4fU29GLpDfUc9F7vBOe87QL15+8R65zs7fAp6mvvPfGs6UvruOTK7JDxdeVF6bHrw+ZV4cXnv+La7gzoy+B938ncSOA94wfaxOMQ5Crkue0x3Rvil9z82tnc4tvcz4nbNdqB29fdB9vP3cTe79o/5K7Yrdvi3+vckdl22OHXYuHL4jHfW+Ly30voJuY45rLimuTC6p/wFevt943qqev17BDpJu2t6LfpWu2I9ubrZOtw9BHyevn981r04vbf/Xn8vvSb9o3vBgP3+UH6Z/5CAawBwgEc/uIEJv0mBd0H4wdBB0sASglPBWP9kfIR9lf82P4YAszno+5I7LHkCetR8UrsRfUZAL/0ffzv/H31HgYm/IL1e/gRCG7xy/Ug7xjrYffh8dfqSeOG1zXoGfCE3gTeMenJ53vhP+Jm4SDn3OEV3wfhmNt35lzoyutS71LiMeyl4H3mC+vC8KPrQfU3/UrkXfi+8z7xXf8L9Ab3BfWF8Ur5EQNm8nnvGwZG9d32NQE87WT5Y/xI+nwDvPo5AS8CGhTh+NIH2BOTAXsPqRmUEBQNNRkEELr+zQVvAioB/gqDDAX2PPzx+kn5Xw0N/oEDdhRPEq4ItBMyFaAUdAXFCMUHYAsPGiwTJBi6HaAFnv2jHOwfqB/tEcUP/xsvDooL3BWvI48eNRXVCk4gBhajGHgjOCe4KokcQiEcIUk1Bi6mHgwb0RZHJj8WPhfgGZEdfhmvGNsRCRwpIB0bexVMK/8dBx5+F38ffSO/Hk8PVR/sHeoMKgMgEUYVAA+vCtELPhahE2IL2QReB14Gnv8p8SQFefTEArXmufGO+WzzXP/p99wCigaYDH4ROhBeItAvqimxKN4Sux5hD2giJhD7CCENjOvlBBL5vAf/CBPuLe+K9bkDFgfHAmsVTRZKJPYL4iVeH5EgISSNHBMjyBZOEu0W4Rr6E/kNgftgEx4CPgmcA0sFhflWDVwDufvM+W4G/hGoDlEHgAafEJkTIhjh/28Q3Qc9Fq0YwhBECzgUsBQpEIIZxSSRHJYpKxZWIwojph4bK4koPx0OGwIWpBTDEbUh+RQ7E1gKtwnlBtwRNBNYCUQDoPtTCRj6ygXW+br1lAFyBmMRhf6e+AsVtQbPEoIOiRaBGB4ObAuS9hT/AwSy+TUCogMOBaL/S/4tAbYBQAvbEfkQ+AblA9cDWAWUBu38pgY2BXoBaAUg8wH9gf70CBABZAVaB+36lBNjCqYH/gH3DRoOwgPd/Sz1pv1Q+QzxKfgW64XqovVx+7v7Vvp3/FgIjAf+/bX0xQ5ZCIsJdQ44B+rzTf0vChz8bwB0/9YBofHr6kT42+8e8dwCHPnqCNgH5PWw81kD3/5BAEwEFvr6+LTrGvhJ9aTt6els8s/86Otw90P2YwDh/iMG2PUPDjkKI/UlA9kAofXf+Hf9fv1M+NXtZ/Ht50noF/FaAZT8mAa7/sX9VgQDAMkIBwxUELYNXxYZBJj/6v83EDIHOgweAO3vLv+HAS0EjwTw/Fb+9gGEBssIP/73/9H92wipCo0KqP2M7qH61PhX9YP8A/VZ7OPxSvnW8Pvt1e8V9oDx2PU460kFMvddD8gHYAudDM8BgA89CPQNXg3GCWUDtv/fBTUNjgUI/c39FgY0+NsAbP+3B9UAdQPVAWr8cgC0+3ULTgVW/4v7HQBX+XPzHgQ59XTqm/RC8mj0Q+0d9p7v0u/t/LMAXwKB/Pf7TwEaBYgOygyZ/qwGeAy7DNgFcACZCIYEpAumCNX1r/lg/SoDdgDJBdr/YvcrAIb/Z/fHAOH8/gKR9GMA6wGpBdD+LgFGBwv8wQC9DqUCO/93C+ECif/QAlgBV/6p8zb5tfMv+n0DSAOrBukDFwDe/EYELwV+BZ0EsgA/AycLpAI4Aqj5yftq9xcIhv+t+zf6JQCY8TX4RPwl8fv8BAMdC/z/H/xbAHv9qgPl/68LQvVZ89v3D/eT+On/2f4K7UbvW/1S9H/9cQWAAI4AzwXjCaAAcAt3BLP/fgNaEaYLfQc2A7P+zvqN/lX88vkh+h7+ZvteAZn5VgL0/w78pfzQ+b34tQIGAicDqADJA/n98P6++8f2zwFgAmf7svc0/EL+of7VBgICZPtNAtL/zgJSCW4R8gnpA4X90ASOAKQJ1QcAAV799/uN+D/4Gf7JAXb/xwAwBBoCjATjCaEL2gEeAxcKUwZRCC4IDwlbBhEHSwRy/eX+Zf4Y/z//OAZ2A+EEvv/3/V/4wv6b/+0CvwYHDIgIMv9NAgr3PPq3+qn6lfLD9l32hfZ3/IUAc/+Z/Zj+4/sF/7QAOgT1/UoBKwGD/9AAOgChA538JgDhAWT+RP/SDtQLqgPlAdICXwUeCTQREwd/BKoGVAFH+lb7cP0Z+mT5xP2D+sb/vPyh+IX61/sTBCoCmQYAB4wKPgRm/7n/LP2lA6MEnArx//X/cwHW/9UDK/+DAfn/PgJ2BKMKWhCQCIcODgu1A8gHEA+2Au3/HwZOB8T8MwWNBqsADgiKBlEBNwQ+CYINUQuEChgJyQeQCo8NWwtHB1MHdAabBLwHxApMB3AHiQzzEPoIsg7NEE0FN//KCMf+LQXXBgARSwwgD30IxADqCXwFTggwClQLV//CBhAM9wPXDPsHc/6k/bsD2wQJCFwGDwA9B0UFWAgFCogKkQuXC1QLZwxwDMMP5QfUEUcFwAl6AycIzAMRBZASxgmSDGMGEwpk/iQEIg2bB/IH9gwPE7IIugr5COcH/wQKAgoKLQJi9er0GvHJ9Jr+OQdyABL96v1D+HMAL/uW+j39/vgY+E71KwNgAwoDiQF3+j75GPp/9p/+2vuU+v0A4/o9/ez3Uf138lP01+978Sf1E/b2+JD5zPPA+pb2OvWm9l//WAdT/Y30c/uy9m71mfZo+FzzD/RGBPH8JPTp+6T3U/Yz/KP+zADb+xIHJ/qDBKj+/wDJBgsG1QIJ/b/7+wWq+ZX8DPp0+3j6q/e0+j8BQvwC/i32EPZo8+rz3/328g74CvzY+UnwRgAe/vf7m/Qh9v/1tvtk/Eb+VAKY/doAnQnk+fMAC/Q58vn13fbqCI36hQdCA3j4TwF6/TMDVPmoCcr8zvQXA2DxO+6I9RcEGfvZ92Lv8vHR7/j8Yv58+nH5mu4r+6n2ffZw+tr80POg9cv9ge4R74L5kvCI8eXrfPP27yv27PMO67n39vYn+Pf0cgjj/MD8ffws73UCRvfK+Yb1Yvhc8Sz43/K23qzt6OiG+CT4cv1B9w/0uwL6AJEIAw7E//8R2QHcAI76DvyL+lX1CwQJADsL3vxr+TT9vQ5qFjILAP8SC2IEpQi0Atn+cQTPBjMDrQZu//0AZQY6CfUGRgKiBAf/LAhSETb9oAnoCkb4rwaTAuv7KAoCGG77IgOnDPwQIA+sDywQRR6TIiYfdB35FCYNDBYJGLUa9AdFCzsPOhTaGdsHmxX+Cd8W0hKiFMcInBO4CrsJ2xN9BQ8F5wKE8VMAvfgT7WLrQ//O63j77P+I8qoE0PpW+TcHq/qZDhYHHQey98cGxQfr+fcIHAWNAsb/UA7zCv4JFA05A1P6Uw67/vARBRRcGyUPDwVGA0cZiRWJDHUcRBhLKDYwThkLIy0nYS5AKGIqeSBmGMYlfzqQJt0gFyLSGY4XUigND8IZ5BSpFIIhDhT/CJ4cByHgBc0HnxCoEZkTKBYLJPQbEBp2H3kPahY9C20Syhdc/TUXdhH9DZ8RvRA3FkEU9Cj2HkEbuxZZG6EkDh+KIRYYbCWjH88VFRP7CS4OkBjODXsXsAvDAEsCvwq+JPYOpQt7FtYO3wusAvULBxFkDRcRlQOx/yH/xA6IB/EI2BV6EPQMEAulA5UUfA1PBF0LYwHZBpz/EvZL/LH2nvqZ9Sb59wTd/V/66v8L+aP9qPg/A3MOhAw3/xD49AdPD6cKQwrMAJz6xvk+/rfyZP7v/ePmCPBV6W3yxeveAfb6nfK/64TybfvM+MT6qhAJDA8H2wyZCY4IDgqpHq0MHhfjFj4Z4Bn3I3gIKgYtDokIpP4BB7EJLQS6Adf0hAKy/oASig5GA9YMgw5sEGMZBBVGD80YoQRkDy4J5xCsBlj8nu89BCMCzfg2/5n0lgv8/WH7dPt+/YT/3/3VA/wDxvj4+xTyZPmc8i7yy/PL/IX9leme8+TwW/A0+P/+XvsX6ADyd/BK720FiOc9+73s4+xc8OHjGPMH6S70vuX/6Yfri+kN8rLm0Ohx7KnfLPRv7ePw9NwI1A7gsuA42c7Qu91s2DLWPtuO3OjowOp14yv7JujD+kb7bASo9+f6YvslAiYAP/GL9BP3u/DY44TpQe0m6rXXbdsu6//tleY15fHrB+wE6EjpZfbH/mbvVvjm5unqg+zH6ibva/Sz7aXoTOVu7s32qfIm9jbu3wAK/9X/ifPVAuAEFvu6+VoD6gEw9sH6n/lA7qrrZeaz7YPxB/Fd60vnHviG77j2i/pOBskCtAcjBNcOJwTJBgsFjgYp/pj93Pa373j5Ue+A9u7kNfBM6EDr7Oxc8aXyDvXW84Lt/+53Bq73zPdT/8QCn/7K/Cv83v4JBeABbvsn9gv9TP5W+4r0A//x+JADlQZz/tT6uAcnAEX7g/6r+tn8VvEf+KbyZfQH5nTmT+zv7wj4OOx06z77Wfev8P3yMPyhAWf/WflD/RcEg/UV+Yz+fPy8+Yfndeq095zwOOMo4m3p+upk7DbjK/QE9DbyKfSr9yT18/ib/4r20v3T93DyD/qu+x38Ev/C81f6VvxX+an8Ifc3+On+Q/8O9BD7XfQ+9Xr28vDe9rLzNPHz8vT8+Owl8Prz8fS1+Gf6TPixAaMCTgHiCkQJ4gkdCF8EkQyNBf3+RAUaA7r3vPaY9oL0avWZ9d7ypPoz9zj1ggJr+ZX/Af21AksFMwj1A4cCvArn/dUIjAfABuEE5v6//Zj6RfOj/XP84vuJ93b6kPz69AH9Xv3LDcIHfQEEBxsI7AfT/7kHjwZMBVL8uv57Coz/o/mu854Bz/q9+0L4LQFs/Cr2hviq+9ECUgTIAlcEFQeYAGP/yP2oBu789v1u9mPz3Pgr9rv0GOdd8en0evWE8z/yv/oz+Jf50vetAY39M/xt/G7+bABM9e72KPrI/KPucO4k8dHuWOvC6kDpJuf85IXmu/Kd8rvxgu0I/KH0MvJV9Zb/lf/h+g//5vmx9FfuEu297pXw3Ocg5pTx/PCQ7KzhKOZH7jrw/PPe9yv9Gvnz9/T3k/qg//sCGfrf/+/8lACY8R/zRvJn9LnwO+6s80/y1vzR7PvtqP9mA6oF7AKxCtcKWgQ5BekATwhi/5sCuAU8/TL+/u3+9tMBfPdW9Jr0UAQ+/IEFNgJgBCAOPf08DNQNXRGzEgULCwnRCy0EtwIkAnsEI/7h/2P2rvXwAq/6NQD7Alz+EgUFCwoHeg3dCB4DWwmYA7wKaA3fAAkB9ArjA+v/LQbw/fAETQiFB9sIwAPiBqgKEAzFB90IzAXKC9sL3gA4BfYJf/cV/YME3QJb+4H56f9BDXkLmwATERsOzxGnCzAFcRQ2FbUINgPgBfsADvXL/jD4Dv449k/wUQHIBNwNrAPu/SwHfw3lDuAQMBFHCGcFeAoo/+UDA/+E/pL6z/j491v02urO8KMBFf2m9Tv+LgfHDc4LeAzdDD8TjQ0bCEMSyQXOCbz7mPl19rrx4/Pa9nX8p/Ri8gHuMvaN/xL+wP+bALf9jw0tCtAKJQ36CPYHKgK+CPsEMApjA/4Fcf5E9pr9Ife7BTwLmxQgBmsKDhC3AFoNEA/vGE4ZHBcZFboJ2Av/C8EOKRA2EOIL4hIZDQIJ3QApCN0CdAzFC5oSGA13AQUL4hLBD879hgZSDKQKxwVo/d/9kPqJ/Pj8dPyhAwcFkv1//uT7Pf27A10OzwvWCwcImQRTFdoPlRLrCun/YRGcCU0LsQX3A9P5u/iO/YL1Sv1Z9af04v6s/UD3DO+y8L38WfkIBbMBgATOAQX8ou7+940Ajvjx8U30Nu6O8MrxZ9567lPoBP2f74DtOPec/b76dPJW9Wbtw/U6/w/pzflf9ZvscvL58Y753f4nA5T9UfDS+6AA0wf9AykCTAif4bz0KO7+/6sBNfPH8GnpyekS6ETv0eDT4yzn5uc75UDrNeun6vXrb/Ci6b3pNuqD50Tvsvgr7onj5efB7q76rfzB9CryX/fE9s8EMgYpBWUD+vh/7vT5p/UD/A73IfwE+iHuVumx8lb+rvQmAzL4JPm4/0cMmxF2BO4CcwylABP+nv9+Cg7z2PUo/7L2Bftq9fbncPW6/cP2PPgG858CYfPfAr7r4/gkARz8cwCu+BT6UfXs+WUN8f6sCX/1e/yNBzb2ognH/7/8gQsm+Dn3P/Qk+XP9dfl1A3/7ffnq+K/5d/Ws/wkBOvxQ7hz0MAVZ/F78zO8E+qr2MfQuBcD3H+9R7jzzOfNZ7cXy2+h18csHZf8C79H0gAH9AjwBWwDSBfkFowHOBQ3/vPzlA9cINfOUBAUD0vkw/DIJnwC68pf9HgJHBcD+f/Y0/z0GgALF9HUMNw0ADKEL4PqcCSoDiwBuEVIKtBApCdkMTQ6LAxr8ovhNA2gPwfbQ9JD4B/kC/ij2z/Te9cP5aPRXAR0E3QoCCpUOaRb4E6UPBiFhE0oZiBbnHsEabiDjBngLmAK0EHAMGxE+DqQSKho7F8MNAAeLGI4YqxxRER8RjxyBGQcToxd1FDIUNhVvEVYjhx16FUQnxSvAGqkxbCCJG8oVBR7eHGkJxh5YEKETdw3sJJIYMBTvF/MQeSkSDroL3xl5Ch4dYBFVEHkIExgsClUBgRC9AjQCsA8DCVADHQrqHukIDQnkFLMC2g5oDocDzRMbEGMH+ww2BiL7igbODLoVUQxL+xUL5Afd+EX+oATVFNoHAfmWBBoO7QTcAugT7wZ/CO0KvBGADjkXfRycHNseghvGEM4VkxBdEVwQegqzEQMSZBFh+OsGcg/UC1MIGRJdCcgM7wf9AukLFAiSFnoOfwl/DbMU1hkYJHwVYhkFGv8XgB1bHfINhxkTHOYSNxxeEEsXwBjLFDwOBw8vEyEM/xCkDYsHAQAREAYI+Qi4C5cFtAs7BOsM0RArDBgFbQ11DTUGqA+LFhMTKQkBB3oDtvytEBACCQgWBlIFkwSzDvEL3ALjEn8G6AMyC6ADyQYF/5cGP/9FAf8HNf5SDKr+RwBLA4AIKQJ8DCYBrADwAfkAb/jmDIH3VP2K9WnxmvbG74n9j+9g9unt4Pul9Xj0bvqE+KfyZvPR86n2WPWQ9+rnt/k5777wEve18kXz+/MA+5P2rfEy/Cb4zP2A9Df3/gAE+873j/9Q++7ykP2RAaT/QQI+AoX8Fw1K+h0K//98DooBJQnODmIOZA6WD/QO7wxzDOAKAg6PFY8ObBYcHZwLZyLmDqkOcQikC5X/4gpoB/b+WAZWBHkDzwJ2AXb3M/6A91bzHPhV+m71X/dT+XXtl/m07v/3xPaj8rDyv/eQ9nvzCfkV/T3zRPlB/HryK/9H+FH5YPaX/hrxNf/L8nbtn/Rx8azvhOjj8O7x1+rt7NHzLPZf9X/y0vUT7sD2NOgz+230Ava2+4T26/oT7+/x0e959ubs1e6a8vf6pv05+uT6gvY38SfwhvJg6HjqffFo8PPwbPbn8IT0OfFb6Zzkae6K6Zbl5PBG7krxdu6Q+Fj0WfxT9i74Rf1g/S/59QrmCMAFixC3BhEQ2Q0WC9EJnhN3DVMJew4EEMkS1AyYDEAJDAmbCUYIxAa+C6INuROGD4EPyQoqCWwFUgHU/uX9IAVvBLQF1QFCAdj5NQGx+4X2U/YM/PXzV/dg9mAAfPn79PT3FPCA76nta/Fd7NrwBuls6Y/uRubB6DzrHOis5OLieOnn7UfnHehS7ZjsQuuK7NPvfe0t6xrwEOzd6+/w4OqX7oHrHO8d6936mPcE9qX6Nfn1/D39C/po+1MD2vpl9RL5Kva99ID4Z+998Dro4OdT6AbsNeaB4IrpwOWl4kDpVuuZ7bXve/C06//6S/L08Br1mfPJ8DDxoPRK8zX3Du9e8rDwuPPu/YP2GveR+R/63/sPAesFkAT5DGwJLQmTC0QMCAkoCGoE1f/A9bP6WP4y/8D5o/Ld/ksAh/bf/Ij78/y2/F3/Y/5XArMHm/bDAgz9oPZP95z5TvIX8hjy++2h89PyYfJ58hHwHu8/8Y3xxvSe9Uvx++wx70PwqfKU71/xdekG6mTm1djB4jrqS+G43kfhF+a930rhSN905rTsAOnw86H6yfK99Nf0C/+m+33yBvBD/Dj2Ie1+9d37mPgY9Nn+avCE8OPwePb285ABvPv2AxQFOwIgBtr+y/eT/Mr2n/nA9TH0I/XP8nbvBu5G7pnwEO+27zH74/xf+u0DNgfiB8YDbA3RDEoM/QbM+bQFOQKQBjAA2ABpBvT5Rfgm/if9kQL//NIGQQFoClL+RwoXDxgHAQ/oELEMOwi9CmQIHgIsEpgIYQfkFokEtQ4L/6UCevrXDLwPEPyhDH8EMfx+AScI/fkG/Ajz+Oon9Pr0V+l/8MzuvOi47mrkte026OfzBPD48SX3Uehe+v34Fvc/6sjzQvuo9vD4eOtM5nHkO+Lz5Mbq8vEC4WnvnOjp7YH0oe4SBXH3Pvpa+2n++AjWBNAD7v9V/lcApf7CALUBOQAQ7nnzBfYn9oH8Mfc7/FAFye/K+gUBvPvNDNUDigNJ/EwJxAYsBHQN7QFSDPMA/gfDD4j56frTBFMRvApgCycQVAwqCIsE9AGKER8DPA6E/lIQsguXBOITlg+mA4r6pQd19iULmxHfEfkLCQrCCRkFUAgjCToPFg4VAx8KBwdf/Sb7GfuO/dD/EftXBWkE3gvM9KoP9Qy2DPYOQQ0KFNcNSg+JA1MJAAt5AGgM5PV594IBy/g+/3MJ8PoE/ucTcvqF+IoET/+zCoMJOwjCCgsIyQfUC3MDxgbtB3X88QCX+nYD5/WK8l/4M+gb9Tn2gvEr8Jj31PBi9pcMNvrmAtIB2QD/ABwK5wtIARkEsw0g/Wr+GAQf/WIBv/s5Cr79YPFm9mP0IQ7o/9b1VAF4CycD3gBc+w3yhAOuBRT6KQ+DA7v8CAO4ANgEWggwBpMTghvrEHsQhxMkGKMSwQ8kFKUWDBCcEx8V+A5/EIgXGRPlGqYH6hCFGgYIqRB4FX8Y5RSuFega4R5XIPMJYRsfH28J8RN+GSwe6BTfEkYLWhGO/xMA2wrTE2P/S/w4CEwFkQdo9bD8FAqcD8ISPAppDDkXRAG/BPwUbRGzFG4FrQxFCJEZMwyjD2cSGx33FiQTthBAFHwZBf/IIl0P2QsnEbQEFRhzCl4E7ASY/CoXeBYeGS0SyxINEwoPoRDsCsgFPwpoAvz+U/yw+QwAfvwiDzX+7gFpDVAJkBdvDyQOdQxrDdkJVQbZBGkWcQxDDaMEBvxU+6AI8vZB/yYH9f7n9uICl/zjC+8G4QzxC/EKgBDb/wMS0wpVEjEBoAKrAw/65/HH/K0BogTp+O0AQflL7gP/fP+7Bg/5gAcUAzYIpP2f/db6vfxHBN0AkvTj+xgKwAdB/7j2KAxfA3QJERFrDw4NWRLLDTf9dgkQE9kWqRKqBEkMBAy2Cs8XvxJiDeoFRQptB/wQLQ5GBZn/afGwBgMDP/ZAAeL0W/5m8T34HATd/gQExwvADf4ADAjBAT/55wloEuAGZgHAAsAC7+sZAor7X/t07wzyn+geAMn3XPGV9fLsqf4d9M33W/uyANf/3PdO+Tf4WQXmDyj6SPjx8MsN0gFHBHL+x/X+/rUDOfYY88HtrvfM+GH+AekK7LzrIPDD95HxNu8l4qLtVe7w7+nzpPLc9sT1/uvW7Yb0UP8175rz6fPG8sPyOvIo9dDu4foH8/vsmvB59zj7M/tv8/v1tPCm9Mb6GfK352LlT/AD8H7vNeTK5gXrxfVr7w/wYfgB/0n0xfb07Z/69faN9NLyBvL29cz8h+nb6+f3Z/pG8Y3qqerR7U7w3foK+NzxxfKV9Yr1mPkG/sLz2Pb++VUDSfLM5WX2JgPt92D1G/fT/Wb/BgvpA5wFQgRdBvIEffyyB7gAXv5i+QQBqf1C/CX51/s++L394/OA+d7/Hwoq/hsCagB0+A7+SwDsAOn+hfb8/uX5d/fr/Yn+XP/387cJkwdSAiYBnwlOCnkGogkVBrQDYwSS/6UFlwB9Ban3ePov/qf+uwCcAh/9HvrxAwQITP9+BHcFYwnxCPkIlQ52Ay4FagbfD6UInAMgCNsGcgGICBsC8/5PCQ8ReQcSBjwBwAp4BSQK3gUiAg4AfgEoDIwJHQTM+9sG8gfOBhUJPv9HCPgVtRH9CgEJLQiSDvoU+hNYFFoX0hErG5EVnRYOEoIPrgupERwQ7BH0CBQLegjYC3gNyQsnDGsOzwuKCq4GMQeJCkAI6wxJEuoNWgh4EUwXmRuLEJ0VMBSBElQVPRIiFBUVfxbiF9sMohANFJIbuhJ7ECQNDw55EZcKwAygCjERJRFvDXsQCRQOHFsc+g/3EOARKRjiFZ0WkQ5FEKkQRhO4GQ4Oww6xGWAViRK5D50L+RMpFacQlBAMF2ETDBx/F9gSFgcfEGwPlgVICCUOyA3lFJILKAV+CgAQjhEsF0wV5RRdGEYSWwwAFewUYRV5DB0OCBFpEHsLcQrcC6kDWwhhBNEFNv7qA0EHBglLBjAJQwWNCdIB4gTR/gwC1wF8BH7/IACAAIIBhAtNBiQCagASByEEr/vJBV8BigOMBeACpwWo//H//v1mA6EDHgBGAFT6p/3kAAz4vgCc/xMCfPbEAIj9Wf9QBJD+U/12+x/8nf1OAJT/ugDm+Vb/HgMLBBb4NgFOADT4s/gc9QD6bf7a92DyGPMj9PPvrusF7wDrVOne76Hy6+at697uGO4D7TXmCPSP8vru1vL/8gbt0+wH9Dv1RfZ389f1MfWh8fTwSPHb7mfxU+zE67/nZ+gQ4jDkFunB5XPpyOZ66ZXb9uRv5zbkgevJ5DvvnelE63rpSucB4n/u5fb25gbm6uzD7FLte+/d+vbvs/vx9WXzMACZ7vntFfDz+tvv3Ohu63Povemr5Hbhxuqy4z7p0+tN7pDmyOpA8JfqSf589yLyxfdG8+r3v/Qb8Vnp6OyL8GbzZes26rbl5+f86rb0Q+0A6lbmI+iF6hncMOOy5p3lj+Ey7A/oz+Th5P7j5eX544nlReWN3TPpG+lF55Poqu+Z9c3zY/rv7/flk+Yg8WPxMPCE64zjUuc/79T63vA18C74J/Q174/sZu7L62XwHvNH9qXt8uiB6Br1DecV7CbuPfW/83X7YPEf7a30WO6+7vf2VgKg8j7zQ/Qz9qHuK+4V6fzuoPI59Lrv/Oh/7qDy5vhK+e7/NwHA724GvwzE/f72bAVSBCUBYAEo/EL+rQar/esIkfZM+HL6BfgW/qL5hvXh8X/35e7P8d7z9Pbz+7UAjO649WPx1/cz9D/2RfQS9dLzju5H79T/k/sp6Bf3xfzx/mkHtArLBX4CCg/QA2YNY/tJ/en8swd/CMr7IQfh8tD8pvq98L3udPM683X7X/Dx++n14Ayb/1gH0wVGApMKPQ7NGdYKigdjDoL+b/2i+sDxbf49/Qr4HOj98Sr9MADIA7kDIg1hA5f9Ug8OBlMFmwRJGKMVJgQX+jX5dwNyAtn9rwU5CZ0XORLhByMM+A5LIkgWwBQ2HmApSR74HJ0ahRJaE40K8BCOEewHmwJdB+UAFPwJAu8JEg3MCK74Luo4ClATRv1TBwgIjAjNFUYMmgK//w8HawfLAMUCsQLMBREHHQ7jB1YGM/8u+Q0bqw1fDhgT1Ag4Ca8QYvwD/E8QdA2l/8MLsgMyAFMFFv8LFuEQBAVCBpoNtAec+Oz4QvGo/SAAy/Tn9S7wwPUK9GTlPPPQ3jzyqPSO7L7wXvwUAAHs6PYG5Tr+PfLBAdX2nure7//7SQoeBqf3IfrD8h759PRv+kT01fx9AOT8Bf90/q8E5wKRAj4FERAZFV0IPxATF3AMSRC5Bq0UIQ0OEL0YeQubDy8ISgTQC2ETcwlOCykVbR4EEO0TkR5SJi8ZqA8NG/0eYiZ7FCgW9BokACcSjwag9nAWcgyCCY/5YgZiAPj9hAxMBD8HvwV2BNsF6AXzB/n7Rge3+xz9+wNO8wUCKPddAsv/LQMU8x34Zv4H7y3+TwOD8j0L4QIyAZIBawWUA2X29v7N+fP/JO/k+PP+Sf/U+c/88P2J+w//IgXsBgMWf/fG/s0PYQow/kH6gwXY7+/6Aepd773zeuzO6KDbbvXM6kf8hPui8Q3x4vPf9/f5ffAF9n8CTPEs9On6+Psq/9Tw3Pbu7McBjfbN/d3z6vQFAUHqX/XZ/rD2sPsZCQTxvf1y//n9ORnVBsQFKAuSDWUNLR7wFokSAA1NCSIMJAsTAhgKFQ3jAJQE/gQFByoAaASlB/IUJQVZE8UJiwzkFakPHh6VFQUSKAQ9DIkbVg5uCR0RsAj/CcQNeRCnBkgDsAbwDbgRUAdyBpUHPwPe/coFdAgfE90CygdfB8EJVw4SD8QLdxIjBiAJywGeEfUH0ADrDKb9kwOQ/NEBnP7aAFH5JQB9+MX4q/mA/QP1JgHF9sH2WQP98vQBhgC9+aIAYQBLAq7+JQM2/vT1GP2M9zTvpv5g98zzMvLm9xb6X+2XBHL79vgt/Cj9+QWV+7AGYAPICgMOvgQs/qb92QGVDaQBFgByBj38YP+x+lgAhQ5N+PQCnAApA9AFaQMa/uAAhgOxBUUBygC1/7UEgwL1/ZICiQGAD/oEFgnrAlwIcAjYCkwFDAv5BlELAvlUAsMIugMz/38CqwFU9k789/35Bi4DCQCU+UP+If12ACIBrf8z/1f/yAAf/Mz8sAO4A4QHiQWZCe0GdAPaCScIZwb9ENALlQRbCWgC1RDGAg8ERguLA0cAWQEuA1z/dwIcBX4I2wqIBTMMjhBNAUgOBAgdDpwPLwJICJYIRweFA5QDt/54/5cEx/t5ALL5/QXQ/MwC+f0T/mIAfP6v/3j6cwR3A/f9hQLFA2QACQHo/+MEKgVFBvr+aPxDB8kELflIA4YJ7AJU+isFbQKqBQEAvgf2AhUCNAOd/db/dAbFClP++/+MAlYHhwg//AAFUwRwBYgFiwRZASsExAGdBAv/Tf4CB+IKVQW5/o0Cpwbg/3UIXAhBBEME1AFTBQkFewCqB38EKwPd/ugC4fxzBWwJCwB0BXkHxgbqAQ38iw/gCY8CzQGqBdwEtAhlAXQE+wZ9/Tn/V/zM/fD6uAak/ef//QDsC6MGOwYwCEYEMQY0C78HPQ+7Bx4G9whkCEIK0AWbBYwKIwfzAm4ACQC8CScOpwg4AcsFuwr4BOIGtQu6CNoITwhnBOb+GgYODSQO7wpMBGcDzQN/BgcRHA3fB5sHRwNsDuQOOwwjCA8Epgm9CRsFFgHTDIYIAQUJA9kE6wxcANAFmwjuA8oGCAJQCZsLdQc0BfwDoQPiB1n8MhCxAy4KAwXgBDEK4QFaBoIQyQaQA8b8twMuCg8PIQkd/1gI/wdYBVkJFwUCEM4JaQvOERn+xAqHC8oMIgzHAC8E+xA0BygIugcvBdsFI/5SAwECagOAALsF7wCP/KIFIP7OB/8EmAOr/vP4KQkyBxQBa/rE/Xr6l/mhAC8IQgER+ZwF6gQW9pv5AQSe/pP7VwBE+/b/Evfk+T8IA/bv+PL0wPlB+zr+5/m8/hQCXf8t+ZUE8fdFA7IBP/p7+9/+pf6B+zH/RPrz8j30g/uvApD6f/Vt/MLs+fy8Bn0HhABm/KgKUQys/mUNdQwdEksMMAO1BYkBmAlyA+EJJQSpB0QGRACp+qYGjw29DBIKEAUyA44GIw/wEHUKKQXuAQkM3AzqAQ0Lbwx/AT8K+gXZB7wLYv41AwEFhwzBAOYWEAozCacI3QMhCKILBA7ODNgHfQmxAmYNEhPLErYLTAr/EgwLFxHCFPkKhR4THt4NaA0YEdoVCBHqHoIUyBBSEDATrhSuEKAOGBgwBJ4M5w6ZDTkGmweNEGAEXQ3UBJIIJAVhCfoHjP60BGEJaxByCwIGQf/WARMOBQLkAy0I4Pv29swDYfbP+ZX8TvLfAi/3FP2089f88vrvAtUALwIh/5MH9/9bAQb//vh5Cwv+F+08AWb6Q/jb/soC3/Mz8zT5G+zu+Zr8U/eO//z5RvQt/xz0vf847anz1wGo/6sCTgwuAE0EwwM8EHEOxAsADOAGOQ+yCZ8HNAtDDvAXXwqjAhsLaQ/lETcGjBA5HLwqhhipDVgHqRhhKBkbIiJNIP8g8Bd6GqkJGQDXFooQcAoJDgP1CQHgDOAMEQCj+p8QBQAxDCIAeAnQEfkSAw25B0UF3f06DI8Si/LI+J4J4/cqE2MSywqDDIcHOwRpCfoPYBbHDfoNJwOkCiYR7g7B84f1WfYy92wBYOf16jv/QOr86YHqCeho7dTqr/dQ70bysOugCyD6n/YA8sPueP9t6Nf0L+8q3QndbuSN76fXZPmO4Tvmjff/2jjr7Oyi80f8Of/KAzr4tPOZ8CfwHPgy69v7r+fF8xvmZOIK5DPYD++j6aH2sugV6GTk+eTE8XvyZet56g/0oPWy7J/qs+gD7fHsxAEM9DTiPOvg7ULs2uEE4jznTen36hzqePzz6kTlROly76jtHen67Wv3XAc/8bnyfv7ZC4UC/AH7/WcErfloCZwF1PW4EWH/7hKhDSkQcQNuBOwBxPQ8/S7rHgH/Au3vKuzb9hfvcAZtBFP85usn/4T2+Opt9P7tTfIb79zyku0A6qXj1O8b2FHlx97Y4zHdjOfx33bXrNzv2ZXZutbD4M7kmec29QHwEumv56zdTvXn7irjOOHt5jTwIuPC4MzgVuM26UvkNvC27WnuKfv+9+f5x+sS8Pj4b/dc8zbq+/n17iP1fe5I4U7ugfE96kPvd+pc8oX2t/jx9JT8pPXb/nf9dPxJAKf59fnM+WDzxvGz6xztaQG7+8vyY+0U9zj25/Vk9437m/n28y71nfYq7SL8VfYN8+/0vfUH75vwLO2C+C34wfMw/Y377PgWAPMG1wMWCXcMGAeTFMgVKhFLCeILVxFQCOr8BgP5BggC4/5n/2kA6O6t6xbsYP3mBEP4R/DC/UsGVvsM/8AATwBDCosD6AflAtoDUfvnB3MBxQVKAKf6RvQuCqAFnPXD/Kv3qvVH/bH+WvhzBGP2Q/LU+1n/OvtG9NoEzgt+Ee4L2AftEM0Wuw3gC4kLCgxhCIgIfgiwFYUHdQRKEG0MmA4iEU8SXg09F1gaRxdlDKYR6Q6CDNkJZQgXB+H6Mf7+CUwBnv/yCF0JSQj2BmwO8wp4D5IKYg6iB+oWnhMzDLsILgsVEwkLvwyxCQwLvAlBD4AIawFOBQcQOQ7hCGcG3QsFB9sIRAaABJYIGwRvDFcLTQMWCpsPrQnmBWUMYxF0EkkP5RLPEK0OPw3tC60KFxCGCcQJ5wWNCOcHDQcYAykGCAVZAacFFwSHBLP8iAWQB4kCTP0pBOEGoAJ5DPcGRAKcBDQLaAcABvgPMAkeA5n9TwFeCV4EwPl08+kAx/76+7b3Df3P/V8BoAVdAJAIhQHb/U4KnxHgCjf+XwgZBxsNZgfhC0kHQQS0BfUDYQJfB1gBFAE4AX4JVQPHB/IEsghtDcQRzgxtCEkNqQe6BhYM1gDN/tz+D/21+q8Fn/3L/GX9tf1p+x0HFAwSAfQHwAj9BvMGOgSUA8QFAQhJBLUF1v4x+v0Cj/vkAlH2z/x8AEMEwvUgAPP9sP3i92/1X/f1+SD+GvDF79P9VfX27oTv6fhK+HL96vlJ+KIBVPiW/+39SvkfAIj8ePpW8+X7Cfjd9Qny5PUj9Yn1i/q4+Jz5Ivro/oL+IfX/+07/L/2J/+b+3PmD+IoBX/ee/bz5mf5a/wX/CgQQAKQGIwVnBsACKv/NAeIC9AFG+T8BZPuC+cv2w/qrAnT27P/l/hwEwv9Q//z7ZgMqBQ79RgF2+9P9Q/bG+nT9kfb8867yh/ZX+jP+DPlZ/MoC/wIYACb/MwLv/6L+H/6j9mT3WP368AvyMfQU99/3o+0f9BX0RPsd/GX6NvkP/mQBOAB9ADkDLwbx/In7w/7C/wn7m/709N/4jv7D/Vn7ivSGAYADD/kq/ZX9O/8b/dsBrf5C/ckAAP5k+R38qgHU+PsA3QKy/S780v5XCBQDzvzt8QQDWQMhAZr8lvfnADUAy/3E+akAGghN/sYAEAWbBpwGLAL+/2IIPQoYAKT9sginBOP7kPuMA8f+Cvg79177S/8sAhwAE/sm/R0ESQQ7/cEFJAYD+p79f/1I/qz8efd39ID13/sV9s/0Le+JAzr+dfzs7e33MQnr/lj9b/0TAJwDXvyg9BD4a/zx6qn4f/Bq9WfvSPMj9yv4Wfu49bP0RPju/h36CPpy/HfxNviR7kz3oPHF8Obw3vC49Kv08vAg7Uf1ef1l9e/33vJv/673V/g2/Lr9lf7f7InxTPTi/yP44/F58SLyKfbF+FkCBfro8vcFZgU4BIL6EgPnBK3+lgCQ+38BGv8A+z32owsLBvv9EfOI/4IIigKJA1//RAA//5D/Df3//NT+7PMp/qj/5PwS+lAAFgPl/FAB4gAj/9gD5gVO+9n9nwz7BNT5D+5s/83+TPsC8XPxzPMv8mn7wvMx8en7+f+X9rn3KvtBA+32LP8A9kP1nfpP84DtWO1k/Hj40uNt7J3wCOor4tfu/Pod9fjwYe3A8075I/x79ePt7+024A/s3gGo74bfKu8R9TT7UuvY8vDxRfZy+KbxZPD6+Qn1r/Sb8hsDlvY99pD6B/uA+175ov7X9fr25vun+ccGhAnoBpsAdQcYCi0DYQI8+GUIcAsw+tz4BgFI9lf2dvYt9ub2ZgR69jj0TQBzD5D+LvrbBc0DTALZBwsGVQImCs39BP/Y/PX3/vjS9r/3Tv6G80zqjO8BAin6Yu0Q7Rj0sgBH96UAyP2n++z+mQY2CPECzvyuAWQAhBOUA9n7Av/J+KT8QPMtAC/6q/Z8823zgP2e+AD4cftH+MT2PPiJARQHx/q99df5wfy8+9b4kQER9Vvx2Pnk6LTk3eDt5pzjKdtX47HX0vTq7DT5ad9v6vP1XPHn+472jOxe7w35TAXT+GD2/vo7AbcBF/hyBCf+hPvl/EECTQDn+qL25gYFAxT+yPw9CxL9yfnz/1IEo/eT9YrzWv57DFr8mQfw9YMLiQGHCLL7swPVEWH/ygXl/ewC9Akv+Qr8E/q//O75uwMR+23oAAY/81UKDwBDBfIASgmYCpb97wEYD04Hug/5/uT+3RC5EBsEJv9P/zP5Wwt9+iztEPQn/WT1xvQ/8Yvy4f/P/KbyDfzy6ELu9vxm+Zzo3Oh/8KvoAed+44/kL+126/Dkid8F7E3dGNwx63rfwtvk5z/npOzs7I7nLfhQ33reM+QH6uL5ne8d7NbwhOdK/gH35P9D+Xf3ZAqnB34Ef/oKB34SxAlICW0DnAndCoP3gQb784//Gw8NBEoDcgM/CKEDygv19N8JORIf+e0TGQctA5YTcAUZB6EAPv6rC2ICuv7l91sE+eWoDxgHZvfsAtoBGfp3BEoJM/otDs8YnhPGE3MTtw/lDzsPcRbVBaYQ4g0+FW0OV///DL8G5QVTAw4F6wbl9ZAMHAJT/7wTrhykFVsUDA47C90CcAmw91oW6A4lBtoUxPxaAHMF8RO2DRIOCAvwDikPOCmMGaIOcBF/DoUVOhmfDLcCUQvgAXwAcvKp9Ez62/uq917uGujN4rsAzAH6/LPyIPUV/Ib2nACi+17vJwM5By8HP/g28asDLQXFBMwAcQGg/c4F5AlOB6sAbv9qCgkJdwfxB9cIuQonDS8Nzg+SCX8T/xiBETMUJxJ+Ek0X5RrQGkob4Re6HiUqmSH1K54p6BSCFdEYphZwGywhIBxoFJMUZxJMFQoW4g9+Gxke/R96FGUUeh3EFBcWVxfQExobISBpH9oXbhRjFjMbQR9XH/ciBSSSHisdqyCxGxojIy0cK5IsyB+VHMYTPR+5IgEgLSWgFPgTuhrMCuQLrRPFDxsXpRPPGAMQBB1kHtsfxxnAGGUW5iBpG34WZR89EA0NXQeTB+35t/qhAs4Dcw25EdEKyALdA9X7/gUsCuYNjg/gDYMEO/muBcf/CAmODc4QawHLA0kI+fxhCY0Q9wxKDfMM8fsLBa4FUAK6DdgK2hBICNUNXwkTA9n9QgOt/N//xvmH+I0BvPal/sn0Sfft7YD8/ABOAS4CLAYiELQGQxAGAoT/CwQSBN8J7wdXAIIA3/oO90z9qvMJAkL9PQPE+6X0pfcW/hf84/n//An2FfsY8Pb6jfHD90H9iP7C/Ob5BgZR+ssAJALU+esAtwIT+Ib/IPui+7P94ftbAFD7/QIAANr/hf39+hcAyf9h+mn9G/xyAZ79e//d/xn3+/5FAtn9q/25+ykBBwOIBzwA//xB/f8FPwa3+1b96/YYAN/+TPr39eP0afKK9ufylu0K7MX10u7m7aPtvOUu5YboxuZX4pnk3eGu6q7mR+V17ALnXfPe7wDrevHC62XwLvA95n7q5ON8657iQuOf4i7m7esK50Hnm9/w497hdued4hDpPuYL6QThcOSv3O/dDOES5JPmJeFQ58ngbeiK5n3pOehS6fj1l+sB7y3p4+6Q76nu0uxJ6ATusfU98oHs9uo96n7wieoV79Dt/u1a7f/rweYt543qK+sa8mXuiPNm+bjzsvba9PD8BPLf+1P3WfSn8t7yDexF8BP1zO9p9MnxsPqw92D5+PVU/wL+AvtW+Nb4+f1MAbn/rvf3/E/8QQFO+yP2VfyQBNkDnv11/Pr8EAVeBUUGlQWdCVj+ggU8BOn9DAHuA90FRgfxCCwFgAMZCvUM7Q5uEc8I5A5sDaARegvYA/IGlQrDDewDHgJpAKcOOg9NEmkTahTnFCQSexu1E0UZkxdvE+4McRwSC9UODBS4Cz8WAg7kCkwIKRDsEVcRrgUlDRsUkRMbEXYNMxidEdYYFxdBERMS3RE8FWYToRE+EasUBgl/EA0McQWhBvUG+wUuC28PkwT3DnkK/RgBE+USxBVKDhAU7Q+hDNQQHxACA9ER/gUIBjgJ2QYvDD0YKBHfE4wT2xJfJRgcbiO1GaUW9B2fHs8fxBpZFVkbCxz+E54aPBHQGL0ZchqzG3kS9RnQHd8cgBxuI68Z5ylmJA8ptCXkGRMnlh4KH68fqBsvGEgfsxqQFVoW4RY+GVkZtBa3FNcVwA0VFR4SqBgcEqISuSDVEHofpxk6GkcSdxplGAcaDxpQFioXRxLdFTIXJxpXEpkiuxqKHtcblxzMIY4ldy+EJxIhfxQMHw8gvBddGVgVNBShHUIc4xdTEvYX3xpaHjgYihCGGPsZ2hsQIoQYMRTtI9sgfRhSGrkglxoJIQgfVxtSFJceHB5+EZEUyAteCqP8pQQvBLUB5/s6CmYH5fpSBl0DFAUGAAkFDgMBBUD5UfVa90LxEgTO97r6DPVW8a739+/m+br4JfQS/SD9ev+Q8874iwVSB/IFWPsx/ij6GQmy/g/1AQIg+gAL2APd8Nb6XfU/AOABHQvJ/4/83RhMB8IT3QnmBqMNXxUsBIH0NAktAq0OiwLi+KD9rAG++48DeAHl9kL3cwfmAOQDpPE68DUIkAetAef6U/mTA2HyO+0D+GDy6AnY9KL7DPvU9iX3bvS29/z2Lv2++S76MPRO5N3rVuh78KX/rO5K8h/1if3P+RbrLPX48RQImPYZ/FL1DfxlBof4Rv79+ZoKYAjCBzoBRfUBAP/9+P+F/4TuhAEW+S0LbfGj8AAA1O87/BjvTffn/zwF8wNN6kT26vXh+3/+Nu3k9lj3fviI/iPum/Tl83b5vfehBQL3qves9bkB3u5/82MD9/88BgHpd/cN+MfpJe5u5zXzDPLT56jz69rT8sPjB+lx5+36fPBU66HyAe4H/egHO+yyBQn/V/XqBxQAX/83+XH1Uu3i+sD3aedj7mz3P+2V+0fukvcb/e0K9/ug6t7y/fIB+6XrEvUK8Bnm4e0C8ezqT9Sd2q3pQuQ84LjwoezS9EMMFPzg6Wr6CwEV/BMDhf6y72MFIfrV/VD33PQW+tP2W+/z8OX2xe/Q/jwEpfem9UERGgPGBaIHhA1c/94K0w15AtEIy/wWATL7UPkI/SAHpwpx/rD1ngR9/3kFwv8T/K/2+gWn9pj0fPX0+nQHYfdc95YDbA4P+Afz+ADNC0QB2fyFCj4GEQSMGCwSMAyKCVgFCgcKFY/7LfZO/nkJMgheDHgDLQOuA+IHPAXsB4oDrghKAiICqgHpAYEQZvaN7xf5MwNmBQMDm++yA1r4/fQVBND9L/cg7b73n/Vf5z77pf2X7pLqZPjJ9v/y1PPv8BD+vfi77HD4c/rb66fvsu9w5cPo2Owi7DTum99S6jLbW+xS+MLuI/Xe9kXqJ+wn+boA2AUR/foA3Pyx9yX5W/o8/5f+2vnt8lzrRuke8+P+VPqv8sr7g/yCAIj8GP6r/m8Ctgi7AoQAGQwlDWkDfwdyCLoGPg+TBwEQxwzLGpkEiA1PBboGKApTDt4SSgWr9C0ErATg964BYABs+wHzM/0n+igDUQcF/oz9ixM0A24Hbwd4C9URbAulCWsErg7WBH/+ef0pA2n8kfktBn781vVX/2MCNPix9BT5E/2uDCQEYf54Awj+R/4n/vv8xPpa+tv/iAS6/LXuQe+/9ZfvgPG86GTlhNsE5ujjXuk+3h7m1eAi44jirOWv4vPnrO375cruZ/NY6+HrUPZ997Txj/Hp8xr9APXj+vL70fns85rzNvnQ/kj3Cvi2/DoJZwGV9xn/M/9UBKwNBQaJA3YM4wiiASEHUwtqCVMInQ+gAwEEdwRz/734Iv2WA4QFggIM/aD0gfuJ/iX0lfxuASgHYQe/B9j3OwDRCJMJdwt3CrP/QQlCClQRjQ/7B8UJPwpzDgYOHw0iEPMSnRWZDksTixIVC2kIYQu7D/oRQwtYBgAKwQ/TChD/6PZW83j/xANn/GD0ie9u+VoA2vXV7gzx3fTG+UP42/iM+6z2UfQk+LruSfQs8xLtsPF79zT17+kK7TjnpvG79CH0G+ke5JXtR/fd+CDxNO05+Zr9f/vl97/92PuR/5v9dP5J+6r0R/5n/rUA7vsP+F387vlO+pr3Y/q3+Q34APiT+ScBg/vX7VvwR/pK+nv+qPuk9Rz9mQEJB58EkwGE/mEF+gj1Br0EjgvnErYQiA6mC+4CdwjdCxcRQw54D+kJ+Ar2ELMPsA9wE+8TtA8iFLsXPRgOFHcN9gwGE0wSww4FCbEGNwuGDp8DDQgyBf8HiRDZA031aP6fCFkOjgf4BI79DwC9+6f1u/xECLEGnf9t/f707/So9QP7dPOl88XzuPZi83Dtn+6Z9Gn1q+7t6dvz9/lr+EbxqOkg9Hv0FPbZ98H52Pc591DtruVw7Bb0z/Zm9abwe+be6TrrkeGL4iXnquoJ65HofObO6bvuyuyn7ozv3O7A8ZrxDvDU8WXwL/a89Zf4l/iH9P/y2PIP8Xn5E/mUBRgDewAE9y77dwD6AlT/NAAGAMMHPgs2+1b+vQdCBX0DgwAIAJIGhhF5DAoERQgWDJ0KOAxHCXMLMhOqEn4CWwMyDwIQKweqAk4C3wfgDfUH+v3GAOsNSAVoAWEB+gHQC2QLK//m+/EA5QahDZAIXwgbBSAGSAopCjYOaA1VDPwGrQ1VC9gIZgZrCvQNww6SBaICoQKvCbr8jQEaBBMBZgAR/1z6v/sc/MLy9/o5AmEDpPyO9arxHe7S/fv+nPnj9Wb1L/er9rzvVuof7X74UfDx7djv0+1V81D2nPFB8HTzPeWm5yb3qfVh84n3TvaV97v/D/6+94Htou5I9kz7of5a9hj1sf7L85jsFug64+vzHvg5+mD8PPJd8zzyUPQn+eP2efJ98+juT/dn94T3SfGt86vtGPZs+FXut/PH7K7y0fLi9f3xpfsUAVcCE/yj+TD98v40CRkGDQG7+boEvwxICQQNvwwyCOgMSwRQCqoR3w2yCzMFBg2pBLoLwv2fAr/9MAj9B1kCv/nC+qgH+gZB+Qf2f/tp/q8Bn/nD+WD8WfsL/G4ATPwj/vvzNPhJAVf4NfURAsv4wfmK7O7urfi6+wr26f3J/G/85+009E/1X/lJ+Rz1RO7C+O3xYvOj/YX0h+v47Rb/veqs53vpb+8+7xDwoeHt3jbepOS13uLf1N8c3qru5e0X7uPnUuA43/3fQOxN5priLOYT2+zlANxYzZ7R5dTU2zjeudfW07DqFewK5avoPO1J+In4kvic/uPz5Pu/8vnzM/r5/SzreeuP7dHrJ+qL5IvjIeuY5zTyru316Gbge/Cl+Vz0Cedc7sfrZPsR8TzwvPYQ9fQBovb/8N/s5fcx+dP9VPLn+hjweQnB8PH62/Np8Wb67vsU+nv0AgfnBGX0CAFaAzkDlQdP+Q39kgEz/+0IIPU1EOMMAgjjA+T4wgEA/pr7CgLc/HsAIQETBN0ALfizA/39Cg4F+0T24/d3ADkQ1Pl/+Z37RfH/7Fz+Ae/2+0z7f/im+HL8OPlw8eUCpQcb/Fn+N/tk/vj3+vnh9VbwNQVa81r4ugRm/CYHjvCq9hcJPQb8/c766Acx81/5O+xE7uT1bu9W6Hjxyuz46pnoofPH7iz3+vTn77cFeP2AAlEAKQpX/GgBjAQFB4sJZR/DDNwJWAhjEVoObg5UE38Adg8QCVoGeQwxBn4FmxgFH14Lov/LGkgR/gh9CpgVKBO5HtUjwxWLFXYRIyIzGO0XmiOuJW0lCB9VEWgSRBQvKy4kSgxCAU8Gcw89GFMQK/mzCrYBHRzoCk4UsAfSGu8YdRrTIgcdNiVfE+kWORtAEMkZfRW8CnIM1QcJEWgUKxxcDFELPgwCE14OmQWACOoC6QqQEtr0yRY/DYwOfw+iBh4aqwthHFwG/BQiEesC4RO2EHATsA5FFd4HdReaHE0ABxkEJjQW6xDzEtYXzx0qGKAdwxy+E+AN0hgVDq4UdBl9DNL8dAWcC0ELeAnSCxEZExnbHvQRyx2cIuUVwRkyJYUZABSVFlYPjhcjC8//cwsADmABVBC7APQECxayDPAe9RVIF3MfYSNIEv0U9xm0GKMTFxMGFm8OhhGnGCcL0RDgBjcOVRTfEvIQif0oDMgbOQ+5CtIK/xX2FQYNFhc9BBgCrARUCw3zm/hQAZ4M9wKb+zL8V/f5BiIA0vwSBhYA4AdDBq0JqQFPDSwGtA1BEqwCEv3VBjUHLPfB/+f5QPzLAYoBKwPNA84DHAT/BC75//ltBU8EhA1w+kDw2fUIACgDXfzW9LcAsvkp8/LzIfLK9gr+JQIrAWf4tvexAAf7GQA269r5TQDX9NfykPlZ91nxPfmV9u3x0PbN/UoAFAB3+lYIpQJ2+NwGMgIPBSIQRwg4AK4KaQQV/kUQIBLzBcEJ9wymDggL6gtzDa8VFA2fEMYahwMrBekIfBN2CGUAXwvYBcD93/7Z9Ar9Zfp5+fDyd/sx+dz1d/5z7qb0gfkI86n6GfSB7f/sJfih5PzrPO4E3gDtoe9D6zXoDOmo6XzqOeol7e/s0O+F73/0eu8O6UPt4OxD8Pvs7fTP7LLrkfe07BnxtOyy83L3k/Sj+Jjns/xv+wr0ofy9+pD9DwKXBvL7fARpDEEEqgEZ/jEBVgh6AjAHGAd1Akv8lQtKC1n6agQEAvEOFQQp/R4BlfJjAN4CP/7b++f5Fv6R9474Ofj3+F/7Avho/uj3z/AV+z37MgLXAiz+i/7YBUEEh/pCB0UExwjlBJsGHwFF/mgKyQS3BS0AMw34FAgM1g6rEDsNWxYTDZQQOAQMBCMRugiaAaH3aAb8+egByv0t88z+BPrVBIr9b/fp+QEF/QQh+PoD9gI2CxkKhAEyBeIB9v2d/+4IWf+S+b77pfdT+xb8cPdU/NIBSf74+Dj3Rv8t/goEtvmv9tf8P/lCA+H7cf93/IP+9wjn/634wgV2CQcN3wSIASQHFwzqCj8N7A+bCPYPJRCnEUgE8gj6EY8QRw7XA04QYQgMBV4K5wS7CfgHUQ3KCNsDfws0Cb0GhBCpDyEJPAlBCaQM4AquAkcHoAuvDQEJ0wexBjIJZgUCCPcAWQPAC1wLgQv9AP4GYA77C7cIhQj0EEoIGg7YEG4JMAVZAx4GCwb8C+0NEgmoBk78Cf4E/Y/97/5rAOQA7fbM+1j0hfQ29yj7zPp9+yv8MfIQ8PXsQPIN+5n6gfw39lb2Vffu+9r8UPN2/u38Z/0o+ez1r/qPB1f0Xvcq/HD+V/Vt/mwCPPX89u3wNfd1+H/5Vftu+5f9F/qG+vL8Yv1S/UoErQfS/TMHuwKhCJQIVgD2BXgIRwg7AggIFg73BmILZgHwAqIL1gm8DqsJZQLl/n8IpQjMCIwJpf0nEWAGLwJS/3YIqwxAArIJaQJoBE39VAKTCUwGUQDJA6kA0QVWB9cGywozBU0KLQML/tf8ZAkFClAEqwYhAWkKrwYlAf//4AgHC2wAWgBN+pj35AM/+lz8X/hH+0H7jv8t+VTu3vKU93j8DPd58T735fdX+LbrlOpw7KLt+fqi8434ge369Kb0TfTI9Irxwv12ADv++PMX+YT1yPqR/jH/H/wrAjcDAACEAV/xTP1t/q3+8/oSAbQKHQoiEn77jwIZBE0KEhF6DPIH5wTNAQ0EuADEARP4bgb5AxYDSwByA9IGhAYIEDMJwwSeDuQK2QpdA/4JTwM9BggRxgHdCDIG5xBcB4/8HvvEBLoKaQOY96r/mvXq86f6NvVv/hkBWQXsAKj6JPe5/RH97/xHBNv/3woOCXIJUgXEA3YBP/jN/2AOtAjLE/v81vw1+LH9QwMR8B0PZRBhCooCWAAxC4IJcgrUCecIMQZb+z3/sv0S/Zj7kvRi9wX0pfXr8mn3X/ek9SvxSe8X+Unz+u2b+IgD7vlT+SkDKAaWA4f6lwdIEYf6zPaO/gwB2wZ79mT8xgPe/0P+ogDJ9trzdwmWFY4LgwLN9bgFdAwPCY36xAh5Gq4T6Qxu+1AF0RPSEHcKrAu8FgwL+xO6DLIIFALLBLQKPxA3/xr4lvxgBE8DD/Wm+l/2Y/2z+fz1b/FI9YACLAtn/xf8iPeW/8QByQImCWb2nwHqBH8A9vsB8/j5TwLL+23w6e33AgX+SPci51zj5OPk8E3qeewi94fx4PRh7J3lJ/JC/KUDkv7N9dz10QFuD4sDzgRV+/z7agX//t3uGvJQ76X6qvSk7ozzBuww4jXwZOvk62Xtqfgi+V37TwH1+7EE2vWj+qwG0AsKA+T6QgBjBPoIjgj3/MAHcgXC+5L1sv7r/PwIZP4LFID5LATrAD8R8g3YAYb+MATNDe8Wbw6z9tUOHAWnFXkKZRAC/p0NUxAKDvUUURQNFkgUHRmQE6sN5AdGGiMZjiRJIKwbjR3vHWATDg5XGlUSTBME/I7+jvy+BRkI4wyd/EIJqAIe8q4Cg/i383AIgPiF+OAE9wx4BWb8Egfs8Qf0tA3N+hIG9/fE9kcC3vdwAUT8KAO4+UcFlP7G9an9I/8gAtb1gPU4APD2/wOHArEEFgpDAcD5ZgE1/nUG3gKy/+IFdAQ6A5P9X/veEEEPCgNdCMAAbv2rBx0Mt/mZAcULwQ6WAqgEUfpsBWv/JgyrBcoFIwYRESkU1gRdEKgXyA+bF7MQrxrLG04hVBdxFmQjuBt9K2QQuRuLJskmPSg9JIcdgxvTGoYtmiKOFkUUpSECKS4VpxO+F4UYOg7UHwcZdxgvHyUgcQ4FHK8eQhw4IvIYZw9+D5gaChdOExoK0hZPEqMgZRxEGx8Rjy31IfcbNxzsGagvCBmDEyIUkBPQGaYL4RNGBVkW/x+gAhYfDiMNEQgRUhZNH84RUCR9HEwV8xDwCT3/3QFgFK8FJf8tAs72NwT1+d8C3v6e+5YC7fZDBFkEBgYJAGr4/QFnAVH+HAFCBmUE1vdtB4sHjv5lA80DLQb1CfsBDQbGArMOWwKqCwIIKQL+AtQA+/nWC33+mOp6+Xb8XwWd9TgGVflVBowK6v6q/iAArQiv/fYJuADgAXgIuvXP/pMGJvVX+TP8eQ5E/3b+VvykCYIIvg9YDeoNVRFNFCQL7hKSCm8OxQmCBScIvA7+BeP+oQ1dAF0ONQqyAQMGwBN4Dt8OvA2/CP0I8wufFM0Jpvf9AH3/9fw0+nP5nO/i+XXslfKC/nnqL/N/8vfn5PPS8vL0O+w985joX/Fa6mjmV+uF69fuTuF88oL1GOUc7djsb/Ep7krizutE7nntPOtY8+zsgOux8xr64/PY7XTuifmO7iD16u8y8HvlMuBq6wzuAeMQ2yHqWd5A6SfjhOgw7ijnn+f36/noVN+F6Bzk9dtW4bnaDN+33MLcNtfL3Ife4djh6UnoL+aO3yTn2OXs7x7nvec95uHn/N9I5DvqtNA21f3cQdQx3PTWXNLw1RrfO93M3zDlBt066bHuH+pa6TTzuuoc7Nf0Jejw4IbxfNw543LmbNbn3n7k7OMa6X/tpuoc8GT3p/r9+4D6Pf33+L36+ffj8vfzou9168fri+yw3mT5Be196zr1SOxP9XfxMvnl8AIEd/T+8g0GVfSb9i72dfVe9ezxifS871336efk7HXtBOGI8LHp5OTD4nHjTu136GPrxvBr7ATs5+pa7avyevIn57jqeeNs5Wfp5t2F5xvqDeVY46LolOfw55b5xe7a8S3xFvQO9XP6lvcD8eXvoPEQ8ZP6Q+2I6GzndOvC6Hr4xPJ97An7xPXL9dz4pfuL9SAB5gV49QwGmQA3BbQHkAWkA4P+9v/z+t8BW/j2+wL1AfYS/F0CzwX++FT9bg91BXcNGxVoDx4LLwoSB+sK9A1PADn9ifhn9EP8kfaW+av8UvdW+mIDHwcQBbsQgg6kCvcIbg+rCD0EuwfFAnz+i/YA+mn/YAGg+E4At/rq+p//CALrBLwIHALiAeMHSRDQAl4DVguVB7YALQ3BC3gFqgMiB9sJzwAfBH4AYAAD/AAAtQXI/W0DsAjPCrEC2gJIB+gK3RGqD2cKev51Bi0OxQhvC6v+ofyg+3n9zQCN/wD8ZALUBpT8fgEp/ED5rfzRAbL7pfbX+4H2ZPqe/FP0hfPS/t4AE/gA/xD4t/Gk/MP45fPPAe/xufLX+Un2NvxR/Tr8SvZv/d0CwPqr/nT+Nvx29IoG2/vy/oD6jfQ1/Lr7q/fzApwDbv/7/7QHzADTCA8NTQd9/5kIFPq7A/ECsPwpBon6Kvwi+fQK3P7T+4oA0ABtAdoBm/9aBsEBL/0B/F4HTAJe/18CNv79/zn7Vvmz/hn0kPas83DvBf0k8/P8w/Mb7zLy3Pj167f4efvN907wxuf45gv5bfHo5gTpRuPC2ZDfieTM7ufkg9yv5r3uMOgY7Fjtkut65HLuD+6S6zHxfuo07c3ltOf56TnubOyX8ZjuGOvk58LsYuiH8BHjxOht3vbmBOX/3cvn9ObF3Qbjt+49+armI/Tc8Qj9S+2V7Q/92vUV8C/qhOpA33rsOOyy9Hnv0uOr6jPpre2Y+Bj6L/C79CX8c/kR/Hfo8vHg+KHvCfFE4UTvv+Y05orupumm6KzsnvO58ZrpCOk++NYGJfjmCFEIAvtDCEb9lv/E7Q4NdvvL92LunPRs8YDtLvai/BXynvjz8QUEv/3kADD/eQbpBMoF4hOQBMQhYgyVBDAE/A2UExQGIQXZCNsI+gubBPgJAhdqDesMYQ+oB1L+2Ax7C9cCzPzn9Zvy6Q2+Al34BfyH6lP6Lf0I9QvwxfWSA8PtXfO1/sX13Pi09CHwwPOp9If5QO6y8l7u5PLr8iD5sP5h/WDwAO8sBmz9DPZj8U3uUP+39zP0huuO+qf8UgG894P0fwKh/vMG+wKKAxYLkAk4CuMH1/uPB/jx3wceBhX9vfh5BIkBkwLA/VYb5BHoHcURcw8rDXoA8wmTB84HZQ40HJMRsRKJAJ8E7RFqI+4rARteHNgVYSUPKjUdjB9XJxkuZCFyDZoluB1nJ+MjtAc7J78X4xoUEGAhexnMJuoicQrqFT8NlQ0sJZodZhtiGqAc8BofFZodohKWH94rlij1JhAh3C5xNxQhtDNhHPsz5yNMLC0iHBSGGm0VjRzc+/UKCAqEBZYS+gaO+XYNohnmGNcKpBVPGdUPBRm6F4ELoAuiFToZjRsRFGP/fwgTGTvzwfox+Xf1bvWy9VTyp/vaAW/75PmhBxcAiPw9ByEPNAJx9af7cRBIGsT/wvoVBvj7Yw7U+oUCMQYbE/UIOA95EYgLsxbTDqQTKQ9UDTgN/iCOISYdphNMH3YGmwtOBKwD9xG2CMwHtwXlAo79BAfs/1wKmQJtAGsDnwkBDOUKRgimAzUD6wUJF+gQMhacAaQPoRLLEo8ZmhXlHNcb7RW/FmQdMh7YHHQkRBkhHhgV2CB5GA0W7xbfGeEVmgXNBUYTLxeDGuMZEBEFCrX+Qx86DG0S6QLPDh4KrxEVBMf1swjKBl0DIvL5+K79/P+IAzPuYeuF9zH4tfvL7RrpS+6N+Iz6jvji9673lQE+ARLyzfPL7+P7OvkUCfQClvdW/tL+Kvit9w/9Ivru9uT/wffD9bb9qfCf6gXzd/FB51r8j/4F7zrv0ewK8rjtsfdvBGT6MAUC9qj6gf58/nMNJPyx/RQF9f219kD9mfY97eD7RARS8E/66PXP9mkArPoC9Or4bwVl/JQER/8BAY3/jfOF+loDqQxYBFn88QBo/wL7IPlW+Pf87/7zB1MEHv7R9Y77VANC/Df5xPvE/I7/0Qr39h3tJPH4A/n5/fse/0j1qfam+u7yWPvS8474UQI+9XcBsPwP/Wb17vGGAEb8QPj58jr3TO968BD0x+0E8sPrK/O+9pj0W+mL7E/w8/gb+dn66fLg/Gj5gvnG917vSfQF/EcBK/KJ9+n4BfgL94LzAPBQ/7z+2QAt/An4qvlx8mDznvpX9jf+SQJM9yT4WP+N/3D9Tv5NA5EBlQJiB5P//QA5A3IN7gPYA/0EewBnBl34egAV/rv3OgLS+Mf1jv6//9/7HPYT+U/9yAur+Db12fff/lT4iPEE+db9z/jR/W78cP/R+k4AZf379pz+f/4W/Ib1Zvww/6z9xveq+Z3xZ/ob+Gv5GfEi96r2KPrA92v47/ox+Lj/nPze/e3/4AJW/Dj1Kvqg/HH05u6g7CDwc/Xe8Z/sMesY7XXwlPQD7hDuavKS+Sz1w/Eq+Qr2H/hM+gf1//eV9Wj32/rJ8DrufAKk+CjyEfib/e0Ayf1l++ADnAQeAEgBPPtr/tYAmgGH/A33cve5Alz30vo2+xPxeP88Ag71cQH+AhkDSgc6BJMDQAocC+YFwQtiCu4JMgzsCL8EWADIBY4FQQWz/XL/tQonCnf+gQMZB2QHigXDC+wDzAyuCxEB5wf+B+wHrwAtBUP8g/y4/GQD/wCu/Zb7/wUnBx//hQImDl8BkQHRCvYHWQRCASr8bgE6Akz3l/zwBdDw2PjZAIX5vPfE+Kf9RwZQBSICpQXiBuEHxwTJCsr/kwPz+ef+2Pi89ATyzvT3/X/wWvV6+4MAMfm4ANsCDAIZAyIH6AfxFYAE1wAkDWMLbgiUBZYLnAjfB9b+0APsBJr/2AuTEssKshADC7wUrBjiEhELrBQcGYoSbwWsDiMNGf/lBs8HfgBSB2f/YAigDBgDPQ79DvMJSQidFC8a2RcfDDMQVh04FRQQJRSgCqENiwlaDIYNdQVECWYOThKfFrENCA5yGrMQkRL1FH8SyRCtFT8N6hXmEgUFKAd1FJ4P6wdVCnkIzwXyDuYNlAt2CTEDzhZQEpwPrwRECFIMjwx1Df8LM/2aAJ0DQARXDVP/NPXLAWYGTA1lA/cEngeQDPQOaxb9EI8BXgxKE3kUiQxADPUHMw+XASYNOwYnDQv+LAJqDzAOjApkBxUNfgy8FeYV+Q4wCvkLbxaqGAgNvA5RBw0S4A16FhgFvgQGF28Lsw7fCxsGfBCcFQEV2hf1C7AJ2xKfFRETzQnoCJcIGAaIDlYPw/7qCzMDJAcIEeQIYgdJCuoGng2pGskKQwZREO8NZhBLEk4BRQdsAz8HVAFiBHYL6/ncATgBsAGtA/D9a/wICNMFLwInDpELTf4ZDO8O5gWpCSoPeQAQBZoMRgJfCgkCQQq8DbgQWACPCO0OUgVAB7AFKAYEAmAKcgq7BCUD/voPAzEFHQRlAYALmAuKDPEKmwZbEtQVLxMMDNYJZgpEFXUHBQ//CpoMlwTID4MVHgMrCQoNKgY/CC8JpQxGDZQQnw7BBmMHLwZdGMsQrwwiD4QN7Q11DHUQhAkDFf4RywQqB4YKighhDkEM1/sYD9MHuQjfCfMQYgHaCQIMQQXvAbMKMAF3/gYLKwzP/2oDRwjiA5sHOv9HAz3+mgZn/r0MrgRxAJkCQv99A5v/1vzg+bIKtQo8/WIFkQyc/kMDygKk/xsM8hRHBFQN9wlIDjUObRC7E5MOBw8pDw4DiBAsDVQH9g2tDJgakAXZCbcCoAqHEvICVxSoB+gF3Qv/AvT/mQZcCj3+VwkdA/wB1QgbCIT4vQW9BtoIzwGRCNT8YgQxD2AOcA+4Am8OOQZQDTwZygwnFZgPYgmRBaYEfwwKCg0KVhChCsQQeghMF7cQRwf/DcL/VQfmDNr+V/1/CCr3Kgdd9i/5DPYF+SXzKPb0DA4E/Qxn/fj7sfvQ+Fj1Xu7pAKDzDfAc4fvmIfsx7bXg3fe96x34v+rzBWToDep3AL71eAkV7xj24PGx+fP+YvzH9uLz+ezFAGrl0fbI9A31xOlh5Y7x5e+zBH/2Vvvp7n7ni/esBrf4AfHK6rH+nPzK9VPok+Zt77/5re298pfl8fTS89bu/u+K9UcGsfp27ojpufWY7ab85/bT/abvcfLc8YL0we5h7kP4nvqa+2wFBfQD9JgR6QsUBqoMyBCcGXIK5RWCArQHDBIGHRMRkQt7B/z0wvk484QGTAUC9SYBd/1W8Rrya+mp+P3l7fiD3ebpj/YC+i3t1fJ85Xjd9OWl7enaPNm04v7dNNF62E3igt2b4H/f5+ZW5U3jQfim6+vkoNfX01Pd9uSR1ELY1djv3DbYZM3o1WfgDtoI2HrSiNgJ6AfZN/Of6RrjweV74bzt6+kn49PWLN8w1s/IxNxy2pPrS+ic2p/b5t8q8RfpBedY99Trg/Q5+JsHIvjH+TcDGwkX/5Pu2fM9DPsG9ukx9mX3LPfS6pTwLesI6mPx3uSx38/2hPat9iUOnAT9/Vr62gbRBesECvzl/9ULIQhU9XMC4frd9NEFvvhN7gb/iQGsAY4CcwGa9WX8mv2LBfwXCQbwFH4P7RE2C9YCoga7ECMWBQkqACX80xPaAcj94PfMCmsE6xhVCdkFEgYLBgD/OgerAy8DJwp2CPIEFP+w7+b5v/eu+Yb3rvRP/cf8Q/hC+bn/heqd+iPwlPY88WrrPumq75Ln6+t76jXg4Peb8OzzQfal9d79vvh//g8CpAslCeL97wAdAHsB3PYl8/P+4P6UC9v1KewU8sv3Vv0N+7/+a/1VDRH/FPLf++j/HQt4B9wKK/l9AO7/pQEhDcrzDQY2EtsTvAtUEM0YsRX1FsAOFBwfIx8WLSV6HIwZiBNyDM4QwAMXFbEVrRUBCSQSKBgeGGMi+Rq3HEcb1Sj8ImUfhSR4HWcmYSgfG2ob/SFPHS4fdh+5F3MWUBfrFvYXXBaTBrUMzAuWDT8B6/ZnArUJUBbzA18OSAfxCxwRJhO1Ds0Pyhz6D18GcwdTB3YLlQ0aEmwIQAFzBsgDQQT2AYQIDw3uEwQGuAWW/c8CZwHQBMD6pQRp/PUCm/Mx9f37zfo0/Wb29vvC91H/mfQq+qX+PADkClsObQHwAc0JSxiBFP4JSAsXCMUGJg9CBZkDcfhj+gz4pOuE8PXyIfqZ+O34oOyw+Vj+8PUI+rkIawUq/QIDdP55/yb7dflA/dz1WffK90T3Of9T8rP3DPMD/Rn2kvOx/knyOvK76DjrFfCJ65D4dez89bHvGu7+7qvyOf06/1UFf/8LBQcFwv5fAw4KghDwA40E0f1r+Rr5qfNf/+v4EvgM/Ij5HP2v9PT5MPcBBr/+9Pay/FHwxPtY7VPsm+1U7j7tguNG6xDm0ezk9XnzV/m99wX9OPWHA5b4FwQ6/Eb6G/wz8+bvhvb08lrh2OWm7QPv0+OR4/fqTPIK9DXt7uWc8rDt2O7d8fDqJuI78WzoYulh7t3rbe8N6930lfMh6y3zRvRk66zwPfZq+G74hfc17iX8xfPp8YH14vMw9zv6jvUl6Cjxmey68F/rO+g38bTtzuU/5vTmAPEr6hLxS/WR+XTvWvk8AzABCAL5/g8HdQelCm/zNPxH98TxH/bc/IjrfeAF5hfxeOgu5R/cQusG3lbfLeJK7ybyoPJZ7Db4EfBl9J38G/df/TH1qfh69en6kvSw/D4CdvyA/HkBXgQ2//38jAMX9hD8cvJ4AFf3OPOZ80Ho4+n16trn1OP59Cr1I+nx5t/iffDW9Sn74gEJ+cX75/b9/wQDJvmI/A78t/ip703yFOye8kf1CfDO/9v2YvSd/tz5pASyBnkDBv01CHUIDwo4BnH78AiLBOn/vwFY96PyR/8mBBgDFQWj/5wRTAz7FkYUNhDQEHsa3CGyEm8W2gOVDjAGJQJmBkL2Lvn5+xwFMQOwAPsF+ASDGIEXchiIE/8XGxb4EasQeBsPGykJwwq+FIoO5v2AACcEMxORBn4FbwaFEckK+RdYGs4JTgx8DJYg4RE9CpwDOQV6E8v2wPJC9s0ANwRQ9ML15fnS/uUAyQhBDCoVgwioELoQAxQnFyAbZQ9xBuwSjxIiEswOrP/bB0ADZf+1Am0HkAI6CjsJOwVeC7EQRQ8vEX8HzAs/E38LzguiALIIsAlaBzoACwY2CvgFzgr9BygObwidAhwPCQxvDP0LsQbTA3P8KQ/NGGoX0gbGDKQSCRE7D74PoRFaCukKbg/dE/8RVwqmE68QoRIlHG4O9RPSHTkdpBxdGCIUxh3lIUcfcSI+J74j2CJ0IigpuCGYKLA1HyjsG3kh6i6PKzwajRS3K1Io7CGvIDoNwyKBJpMhhhoDHC0YMx+gKmQioCfBKeUtEDHbMQooxR07Ot4yjiugH3sfCCCSF5olYBLDEQQYxAPvCbT7HwQqACECMQxc9pYMCwHZAbkV2Qd9BEYHzRPjBKX/EwL7AMwFvfhB8pL3xvmB+04ECvrrAucE9PjG+Q73GABsAbD9xwwk72zsjfEU+oP0YPE06yv3qAKu+wHs5vd79Fj53gWSDRACEwl9FmoZLQuY+JsOrQxoDngERf1c/o4Esvo7+rjwnvaVAZwK2eqP/GQDxAb/B6YJUQyIDNEVqBlLEMYOHQOUC+saORBKEuQP5xC7Bw0T2gJeDHwTXAeoC6IJ4/x2BZoE9Agb+oYY3QAfCBUNcwe6EnIQThbbCKEMARFFAOMNBA2GCLwCOQU9DOf4gvhH9bT8owYK9ucIVAVYB3sDoPrfAqsHYwjUBxQI4AUQ/230PfTKAW/ysvUI+wH4Efen+TD5Ofir8tftZP1K8OoABvfw/tD60/o77J7xzPUI+KbnVOcQ6NDr5t7G3Ezl8OAM21/lYuNm4nPfIN0T4Ezx0d+K2b/jPeXA463glOY42A3iN97m5R3ld+1x6iXqVfQ16V/xtvAS7k/8rPKU7oH3hvMU7rLxUf949MXyM/cu9k71dvuU9jbuNfV//aX/dvo35+LvY++38Xb7h/zU+gn/rP99/TkIcggxDGn7cgm5ArEHa/8SBW0Q8g1tBXYGWxD5AiYG7g8LATgK5Q5XCL4NkxEABusGPAQ6AJkLDf9vBZ7+BgM8AXz3L/2t93P+9vngAyn3ZPgk++H6Y+8v9Kjzzfhj6MjrpeiT8kvz/O/W7/LlQACu9Mr5cfFt+WD60vli9sYCJPsp/ZD8APs49mD3OvV++FD4ie9+84zrJfcz/WD8b/hP84H6RvcU7Xv+I/6m+m/4CAF7+4gAaAXT79X9n/b//UoEA/yd/78BjfU5BDoG3wpcAZn9v/xa/3gSAAfhCjMEiQyd9tL+QARfBuP/efWk/JoCIfiZA90MZfxSBu/wwgcH/WEXawbQBnwGzxAQE1MN/godAcED5P/jFCQMZRZgCp0FGgV5Bd4B7f2u+d0Jnv0t7QHqs/adCQwBmvL/CGb0bf0GCN3+igYqDDr8V/vPBBECq/2Z/pUHM/vf+W37o/tVBfIJmgKQEKv3rAHPCTQB3wQ2DesLVgHmAioMewkqBPHxsAHKDRYI0f1CC70BXfZB8Gj3ku2x82D4k+s28n727Owk9PYG3fSi8qr0Hu7w7FjkV+gX8gj7he6M+3jr2u+m/aDuTO2P+MoCzvyl+D8G//yA/iMEH/gkAJb2YfgL9okI9waj+sr3KPGbAeYGDA2EAc8PPf0RBDgBpwQx9mEEnfaCA5YNl/DO87jizfBv3TPsn+dg7ej4Re555hX1MPZl7mf0qeq26Rru8/Wr5Anne/Ec8Ans6vqh7NzhxvZr5qPqH+y75hXk9uvs6ObfxetC6xPx8e/b6i/qYPhG+mgAE/5C/+D17/Nf+Av9IPxR8Brmk/g97Qzbo+4F3hfo9unY+9XnSdOw3xXqhO9I6Ajob/Xo7U3tCd5d2l3nruPS87Htl+0s45fkfelu3JfasuJD81zm6++i8XnjvOCG/a3xfvt+5zP2SvG9/gv0BOh0BxH2Kf478qz5bwZC9l3+swNn90zoiPGx+DP7L/mEAMn+dPd2BnL9KPOpA2gRR/wUAr386PX08sj5au5O8CvtBPKM6q7gUeL45KbvgOnw6aDh/vPy5NvsEuno6APliPVo9zH3yuyT9zvvDOrd8rPsYvqM8ej9U/pH5ebyePBt73f6CvR69qf0u/3a7mLyJvIo+PwF9fLkAHwBB/KkBxz6G/yF+M8Fk/tXAcEY/AI0COv+TA1pFyAGUQ8hCcgHARinDVYMhwD6EFwKCAeXAJoChgr8DBoERfzC/PsMEguDEXkSEfyi/gAPFw5IAM8DCAir/8cDNwEU/OYBUQPdAhcKlQLQB8cRqAEBBcT39gdWCF0VwwxrBbMQ/gjYA+UVNgy4FcMRhRzAEdkPHxhZFJwpoxb0F+n/ZP7wAtUI6xOuBpwMnRDMD1sXUQjDBlwYqxP/FNIO8g7xBT0RfgnTAeD/B/nfABD0RfYt7IDf5/Qn/lf+iwC2+hQCbAloDDoCCwLHDvEKYgdz96X/ivs6CP3/0gC7/z752f6OEgQNDAqbCuANhAu2C8sFiAlnGFESOwzgGBQSug0FGLIQrhOmEQocnhSxHTUWURQiGQwHMxivGhsRmQ1DEZ0TWAwBDNkOOA9PCncFVv65+WL8EO2k9Hr87flKADv2CvljAF7/DPXhCSQMkQxuFMEAXQZRHgkLHASoAc8QrQWEAcX2tPEZ9kfntfPn9Qf24vZt8mL/C/xv+KP1OvDv9k0H//lh+x4IYfzV+7n4DPrw7jb7te0A9qX4DfKU+Qn0iAlRCYn7KAJM/rwIKgrXELsJqQmr/Y32wAjeEgr/Qv3k/c31zQXABGr61gCzBz0DGv//ALX+cAEzANEABAT+AFH/UwTcBWn+APob978Glv8o+2X1OwXvC6MDmweVDAn+dQgfAZL8KQg9AKYHavX498791v9X/bQDD/Bf9jgJ+ADJAZUFKwRXE+IKQBAhDSL9/Qh9BDEM8PkQ//X5LQVo8H/n4vLo9pnxq/pw8BfzzuS0/hrybvWV+O75ve9X76YGtP0KBJ/4BwHP8kgCsQD0Aubz0QDB/uz6L/Yd8+3zkviR/I74G/K96FL4xPnt9oLyiPkf/Fz7gf9e7QH9S/UC9zr1AvSH+1z5uvUe80/0oQBG//YGA/we+Ab7CgX98Oz7jQjTApn4j/ByAtb67PjI9mv3UgT9+aTrYfbk+Hv2nepC/PcBlvoPBpYDjha1EPsLAhdFFv8W5Rb0KNERwBY+D50U7RwfFxwOWxE7FwcZDQzTDD8SJhKEH0ESwhgHEG4VchJjGUoSPgysFgMVLRFyDlgKognXC58B2gCICl8CeAlTEfAF4QGQAdn+Bv/8AeILkQbW+7UEcQNqBFv7SAL7CAX/6AARBQv6+Aci/oH75f1+AJn7nPm+9fD37/yO9rXxQu8/+aHyXPvV/CDyz/iL9Zn24vT+/TnxOfZEAdn9GfJS+Cz6jPfv9jXs4exQACf6FfNd7mLv1PYk/s0B0v7I/ib+eAMzCAv+AP+OAVwRWgIP/DwJF/9aC70FrAmeCpMO4hPmFSUUtQ+mEEoaNBXYDTMV5A5gEaMUGRKLCYUNJwY8CGELNv/nDyoL1BHkB30UTQ06BTgRew+EE9wSbxX4FnsRYQ0gFOsQcxg=\" type=\"audio/wav\" />\n",
       "                    Your browser does not support the audio element.\n",
       "                </audio>\n",
       "              "
      ],
      "text/plain": [
       "<IPython.lib.display.Audio object>"
      ]
     },
     "execution_count": 23,
     "metadata": {},
     "output_type": "execute_result"
    }
   ],
   "source": [
    "print(y.shape)\n",
    "Audio(y, rate=22050)"
   ]
  },
  {
   "cell_type": "code",
   "execution_count": 29,
   "id": "501c71da",
   "metadata": {},
   "outputs": [
    {
     "name": "stderr",
     "output_type": "stream",
     "text": [
      "Using cache found in /home/soroosh/.cache/torch/hub/seungwonpark_melgan_master\n"
     ]
    }
   ],
   "source": [
    "vocoder = torch.hub.load('seungwonpark/melgan', 'melgan')\n",
    "vocoder.eval()"
   ]
  },
  {
   "cell_type": "code",
   "execution_count": 37,
   "id": "410b509d",
   "metadata": {},
   "outputs": [],
   "source": [
    "mel_denorm = audio_processor.denormalize(mel.detach().cpu().numpy().T)\n",
    "mel_denorm = librosa.db_to_power(mel_denorm)"
   ]
  },
  {
   "cell_type": "code",
   "execution_count": 38,
   "id": "665cf36f",
   "metadata": {},
   "outputs": [
    {
     "data": {
      "text/plain": [
       "(80, 31)"
      ]
     },
     "execution_count": 38,
     "metadata": {},
     "output_type": "execute_result"
    }
   ],
   "source": [
    "mel_denorm.shape"
   ]
  },
  {
   "cell_type": "code",
   "execution_count": 44,
   "id": "0e298a1c",
   "metadata": {},
   "outputs": [
    {
     "name": "stdout",
     "output_type": "stream",
     "text": [
      "torch.Size([7936])\n"
     ]
    },
    {
     "data": {
      "text/plain": [
       "[<matplotlib.lines.Line2D at 0x7feb3070eca0>]"
      ]
     },
     "execution_count": 44,
     "metadata": {},
     "output_type": "execute_result"
    },
    {
     "data": {
      "image/png": "[encoded data removed]",
      "text/plain": [
       "<Figure size 432x288 with 1 Axes>"
      ]
     },
     "metadata": {
      "needs_background": "light"
     },
     "output_type": "display_data"
    }
   ],
   "source": [
    "with torch.no_grad():\n",
    "    audio = vocoder.inference(torch.tensor(mel_denorm).unsqueeze(0))\n",
    "print(audio.shape)\n",
    "plt.plot(audio)"
   ]
  },
  {
   "cell_type": "code",
   "execution_count": null,
   "id": "d7e988a2",
   "metadata": {},
   "outputs": [],
   "source": []
  }
 ],
 "metadata": {
  "kernelspec": {
   "display_name": "Python 3",
   "language": "python",
   "name": "python3"
  },
  "language_info": {
   "codemirror_mode": {
    "name": "ipython",
    "version": 3
   },
   "file_extension": ".py",
   "mimetype": "text/x-python",
   "name": "python",
   "nbconvert_exporter": "python",
   "pygments_lexer": "ipython3",
   "version": "3.8.10"
  }
 },
 "nbformat": 4,
 "nbformat_minor": 5
}

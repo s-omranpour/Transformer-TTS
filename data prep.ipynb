{
 "cells": [
  {
   "cell_type": "code",
   "execution_count": 69,
   "id": "cecc3c04",
   "metadata": {},
   "outputs": [],
   "source": [
    "import pandas as pd\n",
    "from tqdm.notebook import tqdm\n",
    "from collections import Counter\n",
    "from IPython.display import Audio\n",
    "import pickle\n",
    "import librosa\n",
    "import matplotlib.pyplot as plt\n",
    "\n",
    "tqdm.pandas()"
   ]
  },
  {
   "cell_type": "markdown",
   "id": "3c589450",
   "metadata": {},
   "source": [
    "## common voice"
   ]
  },
  {
   "cell_type": "code",
   "execution_count": 56,
   "id": "818c34fe",
   "metadata": {},
   "outputs": [
    {
     "name": "stdout",
     "output_type": "stream",
     "text": [
      "14.0\n"
     ]
    },
    {
     "data": {
      "text/html": [
       "<div>\n",
       "<style scoped>\n",
       "    .dataframe tbody tr th:only-of-type {\n",
       "        vertical-align: middle;\n",
       "    }\n",
       "\n",
       "    .dataframe tbody tr th {\n",
       "        vertical-align: top;\n",
       "    }\n",
       "\n",
       "    .dataframe thead th {\n",
       "        text-align: right;\n",
       "    }\n",
       "</style>\n",
       "<table border=\"1\" class=\"dataframe\">\n",
       "  <thead>\n",
       "    <tr style=\"text-align: right;\">\n",
       "      <th></th>\n",
       "      <th>path</th>\n",
       "      <th>sentence</th>\n",
       "      <th>duration</th>\n",
       "    </tr>\n",
       "  </thead>\n",
       "  <tbody>\n",
       "    <tr>\n",
       "      <th>0</th>\n",
       "      <td>/media/data/soroosh/dataset/ASR/cv-fa-6.1/cv-c...</td>\n",
       "      <td>ارشام</td>\n",
       "      <td>2.376</td>\n",
       "    </tr>\n",
       "    <tr>\n",
       "      <th>1</th>\n",
       "      <td>/media/data/soroosh/dataset/ASR/cv-fa-6.1/cv-c...</td>\n",
       "      <td>خب ما اینجا چی داریم</td>\n",
       "      <td>1.944</td>\n",
       "    </tr>\n",
       "    <tr>\n",
       "      <th>2</th>\n",
       "      <td>/media/data/soroosh/dataset/ASR/cv-fa-6.1/cv-c...</td>\n",
       "      <td>اینترنت مطبوعات و رسانه ها تکرار می شود تعیین ...</td>\n",
       "      <td>7.104</td>\n",
       "    </tr>\n",
       "    <tr>\n",
       "      <th>3</th>\n",
       "      <td>/media/data/soroosh/dataset/ASR/cv-fa-6.1/cv-c...</td>\n",
       "      <td>بازدید گالری تصاویر چقدر طول می کشد</td>\n",
       "      <td>4.176</td>\n",
       "    </tr>\n",
       "    <tr>\n",
       "      <th>4</th>\n",
       "      <td>/media/data/soroosh/dataset/ASR/cv-fa-6.1/cv-c...</td>\n",
       "      <td>دارن دنبال این می گردن</td>\n",
       "      <td>2.904</td>\n",
       "    </tr>\n",
       "  </tbody>\n",
       "</table>\n",
       "</div>"
      ],
      "text/plain": [
       "                                                path  \\\n",
       "0  /media/data/soroosh/dataset/ASR/cv-fa-6.1/cv-c...   \n",
       "1  /media/data/soroosh/dataset/ASR/cv-fa-6.1/cv-c...   \n",
       "2  /media/data/soroosh/dataset/ASR/cv-fa-6.1/cv-c...   \n",
       "3  /media/data/soroosh/dataset/ASR/cv-fa-6.1/cv-c...   \n",
       "4  /media/data/soroosh/dataset/ASR/cv-fa-6.1/cv-c...   \n",
       "\n",
       "                                            sentence  duration  \n",
       "0                                             ارشام      2.376  \n",
       "1                              خب ما اینجا چی داریم      1.944  \n",
       "2  اینترنت مطبوعات و رسانه ها تکرار می شود تعیین ...     7.104  \n",
       "3               بازدید گالری تصاویر چقدر طول می کشد      4.176  \n",
       "4                            دارن دنبال این می گردن      2.904  "
      ]
     },
     "execution_count": 56,
     "metadata": {},
     "output_type": "execute_result"
    }
   ],
   "source": [
    "path = '/media/data/soroosh/dataset/ASR/cv-fa-6.1/cv-corpus-6.1-2020-12-11/'\n",
    "val_df = pd.read_table(path + 'fa/validated.tsv')\n",
    "\n",
    "c = Counter(val_df['client_id'])\n",
    "speaker_df = val_df[val_df.client_id == c.most_common(1)[0][0]]\n",
    "\n",
    "clean_df = pd.read_csv(path + 'validated.csv')\n",
    "clean_df['file'] = clean_df['path'].apply(lambda x: x.split('/')[-1])\n",
    "\n",
    "df = clean_df[clean_df.file.isin(speaker_df.path)]\n",
    "df = df[['path', 'sentence', 'duration']].reset_index(drop=True)\n",
    "print(df['duration'].sum() // 3600)\n",
    "df.head()"
   ]
  },
  {
   "cell_type": "code",
   "execution_count": 76,
   "id": "51bf3464",
   "metadata": {},
   "outputs": [
    {
     "data": {
      "text/plain": [
       "((11600, 5), (1289, 5))"
      ]
     },
     "execution_count": 76,
     "metadata": {},
     "output_type": "execute_result"
    }
   ],
   "source": [
    "from sklearn.model_selection import train_test_split\n",
    "\n",
    "train_df, val_df = train_test_split(df, test_size=0.1)\n",
    "train_df.to_json('data/train.json', lines=True, orient='records')\n",
    "val_df.to_json('data/val.json', lines=True, orient='records')\n",
    "train_df.shape, val_df.shape"
   ]
  },
  {
   "cell_type": "code",
   "execution_count": 70,
   "id": "cdc6681a",
   "metadata": {},
   "outputs": [
    {
     "name": "stdout",
     "output_type": "stream",
     "text": [
      "33\n"
     ]
    }
   ],
   "source": [
    "alphabet = set()\n",
    "for s in df['sentence']:\n",
    "    alphabet.update(list(s))\n",
    "print(len(alphabet))\n",
    "# pickle.dump(list(alphabet), open('data/alphabet.pkl', 'wb'))"
   ]
  },
  {
   "cell_type": "code",
   "execution_count": 71,
   "id": "43466765",
   "metadata": {},
   "outputs": [
    {
     "name": "stdout",
     "output_type": "stream",
     "text": [
      "[' ', 'ا', 'ب', 'ت', 'ث', 'ج', 'ح', 'خ', 'د', 'ذ', 'ر', 'ز', 'س', 'ش', 'ص', 'ض', 'ط', 'ظ', 'ع', 'غ', 'ف', 'ق', 'ل', 'م', 'ن', 'ه', 'و', 'پ', 'چ', 'ژ', 'ک', 'گ', 'ی']\n"
     ]
    }
   ],
   "source": [
    "print(sorted(list(alphabet)))"
   ]
  },
  {
   "cell_type": "code",
   "execution_count": 77,
   "id": "d8876ffd",
   "metadata": {},
   "outputs": [
    {
     "data": {
      "image/png": "[encoded data removed]",
      "text/plain": [
       "<Figure size 1440x720 with 2 Axes>"
      ]
     },
     "metadata": {
      "needs_background": "light"
     },
     "output_type": "display_data"
    }
   ],
   "source": [
    "plt.figure(figsize=(20,10))\n",
    "plt.subplot(2,1,1)\n",
    "plt.hist(train_df.duration, 100)\n",
    "plt.subplot(2,1,2)\n",
    "plt.hist(val_df.duration, 100)\n",
    "plt.show()"
   ]
  },
  {
   "cell_type": "markdown",
   "id": "8ea4c44c",
   "metadata": {},
   "source": [
    "## persian tts"
   ]
  },
  {
   "cell_type": "code",
   "execution_count": 79,
   "id": "911ea3ec",
   "metadata": {},
   "outputs": [
    {
     "name": "stdout",
     "output_type": "stream",
     "text": [
      "(4988, 5) (1248, 5)\n"
     ]
    },
    {
     "data": {
      "text/html": [
       "<div>\n",
       "<style scoped>\n",
       "    .dataframe tbody tr th:only-of-type {\n",
       "        vertical-align: middle;\n",
       "    }\n",
       "\n",
       "    .dataframe tbody tr th {\n",
       "        vertical-align: top;\n",
       "    }\n",
       "\n",
       "    .dataframe thead th {\n",
       "        text-align: right;\n",
       "    }\n",
       "</style>\n",
       "<table border=\"1\" class=\"dataframe\">\n",
       "  <thead>\n",
       "    <tr style=\"text-align: right;\">\n",
       "      <th></th>\n",
       "      <th>duration</th>\n",
       "      <th>path</th>\n",
       "      <th>sentence</th>\n",
       "      <th>mel_path</th>\n",
       "      <th>spec_path</th>\n",
       "    </tr>\n",
       "  </thead>\n",
       "  <tbody>\n",
       "    <tr>\n",
       "      <th>0</th>\n",
       "      <td>169.221224</td>\n",
       "      <td>/home/soroosh/data/tts/wavs/002282.wav</td>\n",
       "      <td>ای کسانی که ایمان اورده اید هنگامی که بدهی مدت...</td>\n",
       "      <td>/media/data/soroosh/dataset/tts/persian-tts/me...</td>\n",
       "      <td>/media/data/soroosh/dataset/tts/persian-tts/sp...</td>\n",
       "    </tr>\n",
       "    <tr>\n",
       "      <th>1</th>\n",
       "      <td>97.488980</td>\n",
       "      <td>/home/soroosh/data/tts/wavs/002259.wav</td>\n",
       "      <td>یا همانند کسی که از کنار یک ابادی ویران شده عب...</td>\n",
       "      <td>/media/data/soroosh/dataset/tts/persian-tts/me...</td>\n",
       "      <td>/media/data/soroosh/dataset/tts/persian-tts/sp...</td>\n",
       "    </tr>\n",
       "    <tr>\n",
       "      <th>2</th>\n",
       "      <td>96.914286</td>\n",
       "      <td>/home/soroosh/data/tts/wavs/003154.wav</td>\n",
       "      <td>سپس بدنبال این غم و اندوه ارامشی بر شما فرستاد...</td>\n",
       "      <td>/media/data/soroosh/dataset/tts/persian-tts/me...</td>\n",
       "      <td>/media/data/soroosh/dataset/tts/persian-tts/sp...</td>\n",
       "    </tr>\n",
       "    <tr>\n",
       "      <th>3</th>\n",
       "      <td>96.235102</td>\n",
       "      <td>/home/soroosh/data/tts/wavs/073020.wav</td>\n",
       "      <td>پروردگارت می داند که تو و گروهی از انها که با ...</td>\n",
       "      <td>/media/data/soroosh/dataset/tts/persian-tts/me...</td>\n",
       "      <td>/media/data/soroosh/dataset/tts/persian-tts/sp...</td>\n",
       "    </tr>\n",
       "    <tr>\n",
       "      <th>4</th>\n",
       "      <td>88.346122</td>\n",
       "      <td>/home/soroosh/data/tts/wavs/024031.wav</td>\n",
       "      <td>و به انان با ایمان بگو چشمهای خود را از نگاه ه...</td>\n",
       "      <td>/media/data/soroosh/dataset/tts/persian-tts/me...</td>\n",
       "      <td>/media/data/soroosh/dataset/tts/persian-tts/sp...</td>\n",
       "    </tr>\n",
       "  </tbody>\n",
       "</table>\n",
       "</div>"
      ],
      "text/plain": [
       "     duration                                    path  \\\n",
       "0  169.221224  /home/soroosh/data/tts/wavs/002282.wav   \n",
       "1   97.488980  /home/soroosh/data/tts/wavs/002259.wav   \n",
       "2   96.914286  /home/soroosh/data/tts/wavs/003154.wav   \n",
       "3   96.235102  /home/soroosh/data/tts/wavs/073020.wav   \n",
       "4   88.346122  /home/soroosh/data/tts/wavs/024031.wav   \n",
       "\n",
       "                                            sentence  \\\n",
       "0  ای کسانی که ایمان اورده اید هنگامی که بدهی مدت...   \n",
       "1  یا همانند کسی که از کنار یک ابادی ویران شده عب...   \n",
       "2  سپس بدنبال این غم و اندوه ارامشی بر شما فرستاد...   \n",
       "3  پروردگارت می داند که تو و گروهی از انها که با ...   \n",
       "4  و به انان با ایمان بگو چشمهای خود را از نگاه ه...   \n",
       "\n",
       "                                            mel_path  \\\n",
       "0  /media/data/soroosh/dataset/tts/persian-tts/me...   \n",
       "1  /media/data/soroosh/dataset/tts/persian-tts/me...   \n",
       "2  /media/data/soroosh/dataset/tts/persian-tts/me...   \n",
       "3  /media/data/soroosh/dataset/tts/persian-tts/me...   \n",
       "4  /media/data/soroosh/dataset/tts/persian-tts/me...   \n",
       "\n",
       "                                           spec_path  \n",
       "0  /media/data/soroosh/dataset/tts/persian-tts/sp...  \n",
       "1  /media/data/soroosh/dataset/tts/persian-tts/sp...  \n",
       "2  /media/data/soroosh/dataset/tts/persian-tts/sp...  \n",
       "3  /media/data/soroosh/dataset/tts/persian-tts/sp...  \n",
       "4  /media/data/soroosh/dataset/tts/persian-tts/sp...  "
      ]
     },
     "execution_count": 79,
     "metadata": {},
     "output_type": "execute_result"
    }
   ],
   "source": [
    "path = '/home/soroosh/data/tts/wavs/'\n",
    "train_df = pd.read_json('data/persian-tts-train.json', lines=True, orient='records')\n",
    "test_df = pd.read_json('data/persian-tts-test.json', lines=True, orient='records')\n",
    "print(train_df.shape, test_df.shape)\n",
    "train_df.head()"
   ]
  },
  {
   "cell_type": "code",
   "execution_count": 45,
   "id": "e74edba9",
   "metadata": {},
   "outputs": [
    {
     "name": "stdout",
     "output_type": "stream",
     "text": [
      "33\n"
     ]
    }
   ],
   "source": [
    "alphabet = set()\n",
    "for s in list(train_df['sentence']) + list(test_df['sentence']):\n",
    "    alphabet.update(list(s))\n",
    "print(len(alphabet))\n",
    "pickle.dump(list(alphabet), open('data/alphabet.pkl', 'wb'))"
   ]
  },
  {
   "cell_type": "code",
   "execution_count": 80,
   "id": "77255776",
   "metadata": {},
   "outputs": [
    {
     "data": {
      "image/png": "[encoded data removed]",
      "text/plain": [
       "<Figure size 1440x720 with 2 Axes>"
      ]
     },
     "metadata": {
      "needs_background": "light"
     },
     "output_type": "display_data"
    }
   ],
   "source": [
    "plt.figure(figsize=(20,10))\n",
    "plt.subplot(2,1,1)\n",
    "plt.hist(train_df.duration, 100)\n",
    "plt.subplot(2,1,2)\n",
    "plt.hist(test_df.duration, 100)\n",
    "plt.show()"
   ]
  },
  {
   "cell_type": "code",
   "execution_count": 85,
   "id": "92644358",
   "metadata": {},
   "outputs": [
    {
     "data": {
      "text/plain": [
       "(4907, 5)"
      ]
     },
     "execution_count": 85,
     "metadata": {},
     "output_type": "execute_result"
    }
   ],
   "source": [
    "train_df = train_df[train_df.duration < 50]\n",
    "train_df.shape"
   ]
  },
  {
   "cell_type": "code",
   "execution_count": 88,
   "id": "1e8165c5",
   "metadata": {},
   "outputs": [
    {
     "data": {
      "text/plain": [
       "(1231, 5)"
      ]
     },
     "execution_count": 88,
     "metadata": {},
     "output_type": "execute_result"
    }
   ],
   "source": [
    "test_df = test_df[test_df.duration < 50]\n",
    "test_df.shape"
   ]
  },
  {
   "cell_type": "code",
   "execution_count": 89,
   "id": "58fa69a1",
   "metadata": {},
   "outputs": [
    {
     "data": {
      "image/png": "[encoded data removed]",
      "text/plain": [
       "<Figure size 1440x720 with 2 Axes>"
      ]
     },
     "metadata": {
      "needs_background": "light"
     },
     "output_type": "display_data"
    }
   ],
   "source": [
    "plt.figure(figsize=(20,10))\n",
    "plt.subplot(2,1,1)\n",
    "plt.hist(train_df.duration, 100)\n",
    "plt.subplot(2,1,2)\n",
    "plt.hist(test_df.duration, 100)\n",
    "plt.show()"
   ]
  },
  {
   "cell_type": "code",
   "execution_count": 90,
   "id": "9afa4c65",
   "metadata": {},
   "outputs": [],
   "source": [
    "train_df.to_json('data/persian-tts-train.json', lines=True, orient='records')\n",
    "test_df.to_json('data/persian-tts-test.json', lines=True, orient='records')"
   ]
  },
  {
   "cell_type": "markdown",
   "id": "866c3d7e",
   "metadata": {},
   "source": [
    "## LJSpeech"
   ]
  },
  {
   "cell_type": "code",
   "execution_count": 54,
   "id": "b537bdb1",
   "metadata": {},
   "outputs": [
    {
     "name": "stdout",
     "output_type": "stream",
     "text": [
      "(13100, 2)\n"
     ]
    },
    {
     "data": {
      "text/html": [
       "<div>\n",
       "<style scoped>\n",
       "    .dataframe tbody tr th:only-of-type {\n",
       "        vertical-align: middle;\n",
       "    }\n",
       "\n",
       "    .dataframe tbody tr th {\n",
       "        vertical-align: top;\n",
       "    }\n",
       "\n",
       "    .dataframe thead th {\n",
       "        text-align: right;\n",
       "    }\n",
       "</style>\n",
       "<table border=\"1\" class=\"dataframe\">\n",
       "  <thead>\n",
       "    <tr style=\"text-align: right;\">\n",
       "      <th></th>\n",
       "      <th>file</th>\n",
       "      <th>text</th>\n",
       "    </tr>\n",
       "  </thead>\n",
       "  <tbody>\n",
       "    <tr>\n",
       "      <th>0</th>\n",
       "      <td>LJ001-0001</td>\n",
       "      <td>Printing, in the only sense with which we are ...</td>\n",
       "    </tr>\n",
       "    <tr>\n",
       "      <th>1</th>\n",
       "      <td>LJ001-0002</td>\n",
       "      <td>in being comparatively modern.</td>\n",
       "    </tr>\n",
       "    <tr>\n",
       "      <th>2</th>\n",
       "      <td>LJ001-0003</td>\n",
       "      <td>For although the Chinese took impressions from...</td>\n",
       "    </tr>\n",
       "    <tr>\n",
       "      <th>3</th>\n",
       "      <td>LJ001-0004</td>\n",
       "      <td>produced the block books, which were the immed...</td>\n",
       "    </tr>\n",
       "    <tr>\n",
       "      <th>4</th>\n",
       "      <td>LJ001-0005</td>\n",
       "      <td>the invention of movable metal letters in the ...</td>\n",
       "    </tr>\n",
       "  </tbody>\n",
       "</table>\n",
       "</div>"
      ],
      "text/plain": [
       "         file                                               text\n",
       "0  LJ001-0001  Printing, in the only sense with which we are ...\n",
       "1  LJ001-0002                     in being comparatively modern.\n",
       "2  LJ001-0003  For although the Chinese took impressions from...\n",
       "3  LJ001-0004  produced the block books, which were the immed...\n",
       "4  LJ001-0005  the invention of movable metal letters in the ..."
      ]
     },
     "execution_count": 54,
     "metadata": {},
     "output_type": "execute_result"
    }
   ],
   "source": [
    "path = '/media/data/soroosh/dataset/tts/LJSpeech-1.1/'\n",
    "# df = pd.read_csv(path + 'metadata.csv', delimiter='|', names=['file', 'text_with_num', 'text_without_num'], header=None)\n",
    "df = pd.read_csv(path + 'meta.csv')\n",
    "df['sentence'] = df['text_without_num']\n",
    "df = df[['path','sentence']]\n",
    "print(df.shape)\n",
    "df.head()"
   ]
  },
  {
   "cell_type": "code",
   "execution_count": 55,
   "id": "a1012062",
   "metadata": {},
   "outputs": [],
   "source": [
    "# df['path'] = df['path'].apply(lambda x: path + 'wavs/' + x + '.wav')"
   ]
  },
  {
   "cell_type": "code",
   "execution_count": 63,
   "id": "45c69054",
   "metadata": {},
   "outputs": [],
   "source": [
    "def clean(t):\n",
    "    for c in 'âàüéèê':\n",
    "        if c in t:\n",
    "            return ''\n",
    "\n",
    "    t = t.replace('-', ' ')\n",
    "    for c in '[]();.,:“”\"\"?!' + \"''\":\n",
    "        t = t.replace(c, '')\n",
    "    return t\n",
    "        \n",
    "df['sentence'] = df['sentence'].apply(\n",
    "    lambda x: clean(x.lower())\n",
    ")"
   ]
  },
  {
   "cell_type": "code",
   "execution_count": 64,
   "id": "7f67bfc5",
   "metadata": {},
   "outputs": [
    {
     "data": {
      "text/plain": [
       "28"
      ]
     },
     "execution_count": 64,
     "metadata": {},
     "output_type": "execute_result"
    }
   ],
   "source": [
    "alphabet = set()\n",
    "for t in df['sentence']:\n",
    "    alphabet.update(list(t))\n",
    "len(alphabet)"
   ]
  },
  {
   "cell_type": "code",
   "execution_count": 65,
   "id": "20965abf",
   "metadata": {},
   "outputs": [
    {
     "name": "stdout",
     "output_type": "stream",
     "text": [
      "{'z', 'r', 'h', 's', 'b', 'i', '’', 'x', 'm', 'c', 'y', 'g', 't', 'j', ' ', 'q', 'o', 'n', 'w', 'a', 'v', 'k', 'u', 'l', 'p', 'f', 'e', 'd'}\n"
     ]
    }
   ],
   "source": [
    "print(alphabet)"
   ]
  },
  {
   "cell_type": "code",
   "execution_count": 66,
   "id": "a30db735",
   "metadata": {},
   "outputs": [
    {
     "data": {
      "text/plain": [
       "(13081, 2)"
      ]
     },
     "execution_count": 66,
     "metadata": {},
     "output_type": "execute_result"
    }
   ],
   "source": [
    "df = df[df['sentence'] != '']\n",
    "df.shape"
   ]
  },
  {
   "cell_type": "code",
   "execution_count": 68,
   "id": "e36c4c51",
   "metadata": {},
   "outputs": [
    {
     "data": {
      "text/html": [
       "<div>\n",
       "<style scoped>\n",
       "    .dataframe tbody tr th:only-of-type {\n",
       "        vertical-align: middle;\n",
       "    }\n",
       "\n",
       "    .dataframe tbody tr th {\n",
       "        vertical-align: top;\n",
       "    }\n",
       "\n",
       "    .dataframe thead th {\n",
       "        text-align: right;\n",
       "    }\n",
       "</style>\n",
       "<table border=\"1\" class=\"dataframe\">\n",
       "  <thead>\n",
       "    <tr style=\"text-align: right;\">\n",
       "      <th></th>\n",
       "      <th>file</th>\n",
       "      <th>text</th>\n",
       "    </tr>\n",
       "  </thead>\n",
       "  <tbody>\n",
       "    <tr>\n",
       "      <th>0</th>\n",
       "      <td>/media/data/soroosh/dataset/tts/LJSpeech-1.1/w...</td>\n",
       "      <td>printing in the only sense with which we are a...</td>\n",
       "    </tr>\n",
       "    <tr>\n",
       "      <th>1</th>\n",
       "      <td>/media/data/soroosh/dataset/tts/LJSpeech-1.1/w...</td>\n",
       "      <td>in being comparatively modern</td>\n",
       "    </tr>\n",
       "    <tr>\n",
       "      <th>2</th>\n",
       "      <td>/media/data/soroosh/dataset/tts/LJSpeech-1.1/w...</td>\n",
       "      <td>for although the chinese took impressions from...</td>\n",
       "    </tr>\n",
       "    <tr>\n",
       "      <th>3</th>\n",
       "      <td>/media/data/soroosh/dataset/tts/LJSpeech-1.1/w...</td>\n",
       "      <td>produced the block books which were the immedi...</td>\n",
       "    </tr>\n",
       "    <tr>\n",
       "      <th>4</th>\n",
       "      <td>/media/data/soroosh/dataset/tts/LJSpeech-1.1/w...</td>\n",
       "      <td>the invention of movable metal letters in the ...</td>\n",
       "    </tr>\n",
       "  </tbody>\n",
       "</table>\n",
       "</div>"
      ],
      "text/plain": [
       "                                                file  \\\n",
       "0  /media/data/soroosh/dataset/tts/LJSpeech-1.1/w...   \n",
       "1  /media/data/soroosh/dataset/tts/LJSpeech-1.1/w...   \n",
       "2  /media/data/soroosh/dataset/tts/LJSpeech-1.1/w...   \n",
       "3  /media/data/soroosh/dataset/tts/LJSpeech-1.1/w...   \n",
       "4  /media/data/soroosh/dataset/tts/LJSpeech-1.1/w...   \n",
       "\n",
       "                                                text  \n",
       "0  printing in the only sense with which we are a...  \n",
       "1                      in being comparatively modern  \n",
       "2  for although the chinese took impressions from...  \n",
       "3  produced the block books which were the immedi...  \n",
       "4  the invention of movable metal letters in the ...  "
      ]
     },
     "execution_count": 68,
     "metadata": {},
     "output_type": "execute_result"
    }
   ],
   "source": [
    "df.head()"
   ]
  },
  {
   "cell_type": "code",
   "execution_count": 70,
   "id": "ad70cc15",
   "metadata": {},
   "outputs": [
    {
     "data": {
      "application/vnd.jupyter.widget-view+json": {
       "model_id": "9da08e0d40274ef78d3b97c33a600af9",
       "version_major": 2,
       "version_minor": 0
      },
      "text/plain": [
       "  0%|          | 0/13081 [00:00<?, ?it/s]"
      ]
     },
     "metadata": {},
     "output_type": "display_data"
    }
   ],
   "source": [
    "def get_dur(file):\n",
    "    x, fs = librosa.load(file)\n",
    "    return x.shape[0] / fs\n",
    "\n",
    "df['duration'] = df['path'].progress_apply(get_dur)"
   ]
  },
  {
   "cell_type": "code",
   "execution_count": 71,
   "id": "5d66cdfd",
   "metadata": {},
   "outputs": [
    {
     "data": {
      "text/html": [
       "<div>\n",
       "<style scoped>\n",
       "    .dataframe tbody tr th:only-of-type {\n",
       "        vertical-align: middle;\n",
       "    }\n",
       "\n",
       "    .dataframe tbody tr th {\n",
       "        vertical-align: top;\n",
       "    }\n",
       "\n",
       "    .dataframe thead th {\n",
       "        text-align: right;\n",
       "    }\n",
       "</style>\n",
       "<table border=\"1\" class=\"dataframe\">\n",
       "  <thead>\n",
       "    <tr style=\"text-align: right;\">\n",
       "      <th></th>\n",
       "      <th>file</th>\n",
       "      <th>text</th>\n",
       "      <th>duration</th>\n",
       "    </tr>\n",
       "  </thead>\n",
       "  <tbody>\n",
       "    <tr>\n",
       "      <th>0</th>\n",
       "      <td>/media/data/soroosh/dataset/tts/LJSpeech-1.1/w...</td>\n",
       "      <td>printing in the only sense with which we are a...</td>\n",
       "      <td>9.655011</td>\n",
       "    </tr>\n",
       "    <tr>\n",
       "      <th>1</th>\n",
       "      <td>/media/data/soroosh/dataset/tts/LJSpeech-1.1/w...</td>\n",
       "      <td>in being comparatively modern</td>\n",
       "      <td>1.899546</td>\n",
       "    </tr>\n",
       "    <tr>\n",
       "      <th>2</th>\n",
       "      <td>/media/data/soroosh/dataset/tts/LJSpeech-1.1/w...</td>\n",
       "      <td>for although the chinese took impressions from...</td>\n",
       "      <td>9.666621</td>\n",
       "    </tr>\n",
       "    <tr>\n",
       "      <th>3</th>\n",
       "      <td>/media/data/soroosh/dataset/tts/LJSpeech-1.1/w...</td>\n",
       "      <td>produced the block books which were the immedi...</td>\n",
       "      <td>5.138730</td>\n",
       "    </tr>\n",
       "    <tr>\n",
       "      <th>4</th>\n",
       "      <td>/media/data/soroosh/dataset/tts/LJSpeech-1.1/w...</td>\n",
       "      <td>the invention of movable metal letters in the ...</td>\n",
       "      <td>8.110884</td>\n",
       "    </tr>\n",
       "  </tbody>\n",
       "</table>\n",
       "</div>"
      ],
      "text/plain": [
       "                                                file  \\\n",
       "0  /media/data/soroosh/dataset/tts/LJSpeech-1.1/w...   \n",
       "1  /media/data/soroosh/dataset/tts/LJSpeech-1.1/w...   \n",
       "2  /media/data/soroosh/dataset/tts/LJSpeech-1.1/w...   \n",
       "3  /media/data/soroosh/dataset/tts/LJSpeech-1.1/w...   \n",
       "4  /media/data/soroosh/dataset/tts/LJSpeech-1.1/w...   \n",
       "\n",
       "                                                text  duration  \n",
       "0  printing in the only sense with which we are a...  9.655011  \n",
       "1                      in being comparatively modern  1.899546  \n",
       "2  for although the chinese took impressions from...  9.666621  \n",
       "3  produced the block books which were the immedi...  5.138730  \n",
       "4  the invention of movable metal letters in the ...  8.110884  "
      ]
     },
     "execution_count": 71,
     "metadata": {},
     "output_type": "execute_result"
    }
   ],
   "source": [
    "df.head()"
   ]
  },
  {
   "cell_type": "code",
   "execution_count": 77,
   "id": "169f1a40",
   "metadata": {},
   "outputs": [],
   "source": [
    "df.to_csv(path + 'meta.csv', index=False)"
   ]
  },
  {
   "cell_type": "code",
   "execution_count": 78,
   "id": "142754ed",
   "metadata": {},
   "outputs": [
    {
     "data": {
      "text/plain": [
       "((11772, 3), (1309, 3))"
      ]
     },
     "execution_count": 78,
     "metadata": {},
     "output_type": "execute_result"
    }
   ],
   "source": [
    "from sklearn.model_selection import train_test_split\n",
    "\n",
    "train_df, val_df = train_test_split(df, test_size=0.1)\n",
    "train_df.to_json(path + 'train.json', lines=True, orient='records')\n",
    "val_df.to_json(path + 'val.json', lines=True, orient='records')\n",
    "train_df.shape, val_df.shape"
   ]
  },
  {
   "cell_type": "code",
   "execution_count": 74,
   "id": "c1bf24c1",
   "metadata": {},
   "outputs": [],
   "source": [
    "pickle.dump(sorted(list(alphabet)), open(path + 'alphabet.pkl', 'wb'))"
   ]
  },
  {
   "cell_type": "code",
   "execution_count": 80,
   "id": "b1989c68",
   "metadata": {},
   "outputs": [
    {
     "data": {
      "image/png": "[encoded data removed]",
      "text/plain": [
       "<Figure size 432x288 with 1 Axes>"
      ]
     },
     "metadata": {
      "needs_background": "light"
     },
     "output_type": "display_data"
    }
   ],
   "source": [
    "plt.hist(df['duration'], 100)\n",
    "plt.show()"
   ]
  },
  {
   "cell_type": "code",
   "execution_count": 81,
   "id": "1218723a",
   "metadata": {},
   "outputs": [
    {
     "data": {
      "text/plain": [
       "23.879753955656334"
      ]
     },
     "execution_count": 81,
     "metadata": {},
     "output_type": "execute_result"
    }
   ],
   "source": [
    "df['duration'].sum() / 3600"
   ]
  },
  {
   "cell_type": "code",
   "execution_count": null,
   "id": "f233a944",
   "metadata": {},
   "outputs": [],
   "source": []
  }
 ],
 "metadata": {
  "kernelspec": {
   "display_name": "Python 3",
   "language": "python",
   "name": "python3"
  },
  "language_info": {
   "codemirror_mode": {
    "name": "ipython",
    "version": 3
   },
   "file_extension": ".py",
   "mimetype": "text/x-python",
   "name": "python",
   "nbconvert_exporter": "python",
   "pygments_lexer": "ipython3",
   "version": "3.8.10"
  }
 },
 "nbformat": 4,
 "nbformat_minor": 5
}
